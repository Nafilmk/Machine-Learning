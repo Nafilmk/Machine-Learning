{
  "nbformat": 4,
  "nbformat_minor": 0,
  "metadata": {
    "colab": {
      "provenance": []
    },
    "kernelspec": {
      "name": "python3",
      "display_name": "Python 3"
    },
    "language_info": {
      "name": "python"
    }
  },
  "cells": [
    {
      "cell_type": "code",
      "execution_count": null,
      "metadata": {
        "id": "kxsgQv57FRE2"
      },
      "outputs": [],
      "source": [
        "import numpy as np\n",
        "import pandas as pd\n",
        "import matplotlib.pyplot as plt\n",
        "import seaborn as sns"
      ]
    },
    {
      "cell_type": "code",
      "source": [
        "df = pd.read_csv(\"/content/drive/MyDrive/dataset/engine_data.csv\")\n",
        "df.head()"
      ],
      "metadata": {
        "colab": {
          "base_uri": "https://localhost:8080/",
          "height": 206
        },
        "id": "n8DYH60oFjaf",
        "outputId": "7aa3ffd3-1776-4f55-fc1c-15193d8d4bcf"
      },
      "execution_count": null,
      "outputs": [
        {
          "output_type": "execute_result",
          "data": {
            "text/plain": [
              "   Engine rpm  Lub oil pressure  Fuel pressure  Coolant pressure  \\\n",
              "0         700          2.493592      11.790927          3.178981   \n",
              "1         876          2.941606      16.193866          2.464504   \n",
              "2         520          2.961746       6.553147          1.064347   \n",
              "3         473          3.707835      19.510172          3.727455   \n",
              "4         619          5.672919      15.738871          2.052251   \n",
              "\n",
              "   lub oil temp  Coolant temp  Engine Condition  \n",
              "0     84.144163     81.632187                 1  \n",
              "1     77.640934     82.445724                 0  \n",
              "2     77.752266     79.645777                 1  \n",
              "3     74.129907     71.774629                 1  \n",
              "4     78.396989     87.000225                 0  "
            ],
            "text/html": [
              "\n",
              "  <div id=\"df-8b78e831-fc17-4d12-bbdc-2d201520a45d\">\n",
              "    <div class=\"colab-df-container\">\n",
              "      <div>\n",
              "<style scoped>\n",
              "    .dataframe tbody tr th:only-of-type {\n",
              "        vertical-align: middle;\n",
              "    }\n",
              "\n",
              "    .dataframe tbody tr th {\n",
              "        vertical-align: top;\n",
              "    }\n",
              "\n",
              "    .dataframe thead th {\n",
              "        text-align: right;\n",
              "    }\n",
              "</style>\n",
              "<table border=\"1\" class=\"dataframe\">\n",
              "  <thead>\n",
              "    <tr style=\"text-align: right;\">\n",
              "      <th></th>\n",
              "      <th>Engine rpm</th>\n",
              "      <th>Lub oil pressure</th>\n",
              "      <th>Fuel pressure</th>\n",
              "      <th>Coolant pressure</th>\n",
              "      <th>lub oil temp</th>\n",
              "      <th>Coolant temp</th>\n",
              "      <th>Engine Condition</th>\n",
              "    </tr>\n",
              "  </thead>\n",
              "  <tbody>\n",
              "    <tr>\n",
              "      <th>0</th>\n",
              "      <td>700</td>\n",
              "      <td>2.493592</td>\n",
              "      <td>11.790927</td>\n",
              "      <td>3.178981</td>\n",
              "      <td>84.144163</td>\n",
              "      <td>81.632187</td>\n",
              "      <td>1</td>\n",
              "    </tr>\n",
              "    <tr>\n",
              "      <th>1</th>\n",
              "      <td>876</td>\n",
              "      <td>2.941606</td>\n",
              "      <td>16.193866</td>\n",
              "      <td>2.464504</td>\n",
              "      <td>77.640934</td>\n",
              "      <td>82.445724</td>\n",
              "      <td>0</td>\n",
              "    </tr>\n",
              "    <tr>\n",
              "      <th>2</th>\n",
              "      <td>520</td>\n",
              "      <td>2.961746</td>\n",
              "      <td>6.553147</td>\n",
              "      <td>1.064347</td>\n",
              "      <td>77.752266</td>\n",
              "      <td>79.645777</td>\n",
              "      <td>1</td>\n",
              "    </tr>\n",
              "    <tr>\n",
              "      <th>3</th>\n",
              "      <td>473</td>\n",
              "      <td>3.707835</td>\n",
              "      <td>19.510172</td>\n",
              "      <td>3.727455</td>\n",
              "      <td>74.129907</td>\n",
              "      <td>71.774629</td>\n",
              "      <td>1</td>\n",
              "    </tr>\n",
              "    <tr>\n",
              "      <th>4</th>\n",
              "      <td>619</td>\n",
              "      <td>5.672919</td>\n",
              "      <td>15.738871</td>\n",
              "      <td>2.052251</td>\n",
              "      <td>78.396989</td>\n",
              "      <td>87.000225</td>\n",
              "      <td>0</td>\n",
              "    </tr>\n",
              "  </tbody>\n",
              "</table>\n",
              "</div>\n",
              "      <button class=\"colab-df-convert\" onclick=\"convertToInteractive('df-8b78e831-fc17-4d12-bbdc-2d201520a45d')\"\n",
              "              title=\"Convert this dataframe to an interactive table.\"\n",
              "              style=\"display:none;\">\n",
              "        \n",
              "  <svg xmlns=\"http://www.w3.org/2000/svg\" height=\"24px\"viewBox=\"0 0 24 24\"\n",
              "       width=\"24px\">\n",
              "    <path d=\"M0 0h24v24H0V0z\" fill=\"none\"/>\n",
              "    <path d=\"M18.56 5.44l.94 2.06.94-2.06 2.06-.94-2.06-.94-.94-2.06-.94 2.06-2.06.94zm-11 1L8.5 8.5l.94-2.06 2.06-.94-2.06-.94L8.5 2.5l-.94 2.06-2.06.94zm10 10l.94 2.06.94-2.06 2.06-.94-2.06-.94-.94-2.06-.94 2.06-2.06.94z\"/><path d=\"M17.41 7.96l-1.37-1.37c-.4-.4-.92-.59-1.43-.59-.52 0-1.04.2-1.43.59L10.3 9.45l-7.72 7.72c-.78.78-.78 2.05 0 2.83L4 21.41c.39.39.9.59 1.41.59.51 0 1.02-.2 1.41-.59l7.78-7.78 2.81-2.81c.8-.78.8-2.07 0-2.86zM5.41 20L4 18.59l7.72-7.72 1.47 1.35L5.41 20z\"/>\n",
              "  </svg>\n",
              "      </button>\n",
              "      \n",
              "  <style>\n",
              "    .colab-df-container {\n",
              "      display:flex;\n",
              "      flex-wrap:wrap;\n",
              "      gap: 12px;\n",
              "    }\n",
              "\n",
              "    .colab-df-convert {\n",
              "      background-color: #E8F0FE;\n",
              "      border: none;\n",
              "      border-radius: 50%;\n",
              "      cursor: pointer;\n",
              "      display: none;\n",
              "      fill: #1967D2;\n",
              "      height: 32px;\n",
              "      padding: 0 0 0 0;\n",
              "      width: 32px;\n",
              "    }\n",
              "\n",
              "    .colab-df-convert:hover {\n",
              "      background-color: #E2EBFA;\n",
              "      box-shadow: 0px 1px 2px rgba(60, 64, 67, 0.3), 0px 1px 3px 1px rgba(60, 64, 67, 0.15);\n",
              "      fill: #174EA6;\n",
              "    }\n",
              "\n",
              "    [theme=dark] .colab-df-convert {\n",
              "      background-color: #3B4455;\n",
              "      fill: #D2E3FC;\n",
              "    }\n",
              "\n",
              "    [theme=dark] .colab-df-convert:hover {\n",
              "      background-color: #434B5C;\n",
              "      box-shadow: 0px 1px 3px 1px rgba(0, 0, 0, 0.15);\n",
              "      filter: drop-shadow(0px 1px 2px rgba(0, 0, 0, 0.3));\n",
              "      fill: #FFFFFF;\n",
              "    }\n",
              "  </style>\n",
              "\n",
              "      <script>\n",
              "        const buttonEl =\n",
              "          document.querySelector('#df-8b78e831-fc17-4d12-bbdc-2d201520a45d button.colab-df-convert');\n",
              "        buttonEl.style.display =\n",
              "          google.colab.kernel.accessAllowed ? 'block' : 'none';\n",
              "\n",
              "        async function convertToInteractive(key) {\n",
              "          const element = document.querySelector('#df-8b78e831-fc17-4d12-bbdc-2d201520a45d');\n",
              "          const dataTable =\n",
              "            await google.colab.kernel.invokeFunction('convertToInteractive',\n",
              "                                                     [key], {});\n",
              "          if (!dataTable) return;\n",
              "\n",
              "          const docLinkHtml = 'Like what you see? Visit the ' +\n",
              "            '<a target=\"_blank\" href=https://colab.research.google.com/notebooks/data_table.ipynb>data table notebook</a>'\n",
              "            + ' to learn more about interactive tables.';\n",
              "          element.innerHTML = '';\n",
              "          dataTable['output_type'] = 'display_data';\n",
              "          await google.colab.output.renderOutput(dataTable, element);\n",
              "          const docLink = document.createElement('div');\n",
              "          docLink.innerHTML = docLinkHtml;\n",
              "          element.appendChild(docLink);\n",
              "        }\n",
              "      </script>\n",
              "    </div>\n",
              "  </div>\n",
              "  "
            ]
          },
          "metadata": {},
          "execution_count": 529
        }
      ]
    },
    {
      "cell_type": "code",
      "source": [
        "df.shape"
      ],
      "metadata": {
        "colab": {
          "base_uri": "https://localhost:8080/"
        },
        "id": "PvcWx2fuF999",
        "outputId": "78059278-92a7-4eec-d1a4-aac72d0c263e"
      },
      "execution_count": null,
      "outputs": [
        {
          "output_type": "execute_result",
          "data": {
            "text/plain": [
              "(19535, 7)"
            ]
          },
          "metadata": {},
          "execution_count": 530
        }
      ]
    },
    {
      "cell_type": "code",
      "source": [
        "df.info()"
      ],
      "metadata": {
        "colab": {
          "base_uri": "https://localhost:8080/"
        },
        "id": "bP-wBi_ZGBR_",
        "outputId": "6b7bb802-0d0c-43f2-c706-c872c190406a"
      },
      "execution_count": null,
      "outputs": [
        {
          "output_type": "stream",
          "name": "stdout",
          "text": [
            "<class 'pandas.core.frame.DataFrame'>\n",
            "RangeIndex: 19535 entries, 0 to 19534\n",
            "Data columns (total 7 columns):\n",
            " #   Column            Non-Null Count  Dtype  \n",
            "---  ------            --------------  -----  \n",
            " 0   Engine rpm        19535 non-null  int64  \n",
            " 1   Lub oil pressure  19535 non-null  float64\n",
            " 2   Fuel pressure     19535 non-null  float64\n",
            " 3   Coolant pressure  19535 non-null  float64\n",
            " 4   lub oil temp      19535 non-null  float64\n",
            " 5   Coolant temp      19535 non-null  float64\n",
            " 6   Engine Condition  19535 non-null  int64  \n",
            "dtypes: float64(5), int64(2)\n",
            "memory usage: 1.0 MB\n"
          ]
        }
      ]
    },
    {
      "cell_type": "code",
      "source": [
        "df.isna().sum()"
      ],
      "metadata": {
        "colab": {
          "base_uri": "https://localhost:8080/"
        },
        "id": "RotgjnH9GEwl",
        "outputId": "1e900a80-6bc4-4c5a-88f1-b74cd7b44c56"
      },
      "execution_count": null,
      "outputs": [
        {
          "output_type": "execute_result",
          "data": {
            "text/plain": [
              "Engine rpm          0\n",
              "Lub oil pressure    0\n",
              "Fuel pressure       0\n",
              "Coolant pressure    0\n",
              "lub oil temp        0\n",
              "Coolant temp        0\n",
              "Engine Condition    0\n",
              "dtype: int64"
            ]
          },
          "metadata": {},
          "execution_count": 532
        }
      ]
    },
    {
      "cell_type": "code",
      "source": [
        "dgraph = df.select_dtypes(include = [\"float\",\"int\"])\n",
        "dgraph.hist(figsize=(15,11))\n",
        "plt.show()"
      ],
      "metadata": {
        "colab": {
          "base_uri": "https://localhost:8080/",
          "height": 930
        },
        "id": "dvxKl0lTGIbU",
        "outputId": "15071c82-ea47-4959-988f-4eded3233934"
      },
      "execution_count": null,
      "outputs": [
        {
          "output_type": "display_data",
          "data": {
            "text/plain": [
              "<Figure size 1500x1100 with 9 Axes>"
            ],
            "image/png": "[encoded data removed]"
          },
          "metadata": {}
        }
      ]
    },
    {
      "cell_type": "code",
      "source": [
        "df.describe()"
      ],
      "metadata": {
        "colab": {
          "base_uri": "https://localhost:8080/",
          "height": 300
        },
        "id": "hSWTnRQ1GMGp",
        "outputId": "7b57c99a-13ff-4b0d-b6ae-cc1b2e9aafda"
      },
      "execution_count": null,
      "outputs": [
        {
          "output_type": "execute_result",
          "data": {
            "text/plain": [
              "         Engine rpm  Lub oil pressure  Fuel pressure  Coolant pressure  \\\n",
              "count  19535.000000      19535.000000   19535.000000      19535.000000   \n",
              "mean     791.239263          3.303775       6.655615          2.335369   \n",
              "std      267.611193          1.021643       2.761021          1.036382   \n",
              "min       61.000000          0.003384       0.003187          0.002483   \n",
              "25%      593.000000          2.518815       4.916886          1.600466   \n",
              "50%      746.000000          3.162035       6.201720          2.166883   \n",
              "75%      934.000000          4.055272       7.744973          2.848840   \n",
              "max     2239.000000          7.265566      21.138326          7.478505   \n",
              "\n",
              "       lub oil temp  Coolant temp  Engine Condition  \n",
              "count  19535.000000  19535.000000      19535.000000  \n",
              "mean      77.643420     78.427433          0.630509  \n",
              "std        3.110984      6.206749          0.482679  \n",
              "min       71.321974     61.673325          0.000000  \n",
              "25%       75.725990     73.895421          0.000000  \n",
              "50%       76.817350     78.346662          1.000000  \n",
              "75%       78.071691     82.915411          1.000000  \n",
              "max       89.580796    195.527912          1.000000  "
            ],
            "text/html": [
              "\n",
              "  <div id=\"df-b49e946c-2e4d-4a90-89c8-d556b32680cb\">\n",
              "    <div class=\"colab-df-container\">\n",
              "      <div>\n",
              "<style scoped>\n",
              "    .dataframe tbody tr th:only-of-type {\n",
              "        vertical-align: middle;\n",
              "    }\n",
              "\n",
              "    .dataframe tbody tr th {\n",
              "        vertical-align: top;\n",
              "    }\n",
              "\n",
              "    .dataframe thead th {\n",
              "        text-align: right;\n",
              "    }\n",
              "</style>\n",
              "<table border=\"1\" class=\"dataframe\">\n",
              "  <thead>\n",
              "    <tr style=\"text-align: right;\">\n",
              "      <th></th>\n",
              "      <th>Engine rpm</th>\n",
              "      <th>Lub oil pressure</th>\n",
              "      <th>Fuel pressure</th>\n",
              "      <th>Coolant pressure</th>\n",
              "      <th>lub oil temp</th>\n",
              "      <th>Coolant temp</th>\n",
              "      <th>Engine Condition</th>\n",
              "    </tr>\n",
              "  </thead>\n",
              "  <tbody>\n",
              "    <tr>\n",
              "      <th>count</th>\n",
              "      <td>19535.000000</td>\n",
              "      <td>19535.000000</td>\n",
              "      <td>19535.000000</td>\n",
              "      <td>19535.000000</td>\n",
              "      <td>19535.000000</td>\n",
              "      <td>19535.000000</td>\n",
              "      <td>19535.000000</td>\n",
              "    </tr>\n",
              "    <tr>\n",
              "      <th>mean</th>\n",
              "      <td>791.239263</td>\n",
              "      <td>3.303775</td>\n",
              "      <td>6.655615</td>\n",
              "      <td>2.335369</td>\n",
              "      <td>77.643420</td>\n",
              "      <td>78.427433</td>\n",
              "      <td>0.630509</td>\n",
              "    </tr>\n",
              "    <tr>\n",
              "      <th>std</th>\n",
              "      <td>267.611193</td>\n",
              "      <td>1.021643</td>\n",
              "      <td>2.761021</td>\n",
              "      <td>1.036382</td>\n",
              "      <td>3.110984</td>\n",
              "      <td>6.206749</td>\n",
              "      <td>0.482679</td>\n",
              "    </tr>\n",
              "    <tr>\n",
              "      <th>min</th>\n",
              "      <td>61.000000</td>\n",
              "      <td>0.003384</td>\n",
              "      <td>0.003187</td>\n",
              "      <td>0.002483</td>\n",
              "      <td>71.321974</td>\n",
              "      <td>61.673325</td>\n",
              "      <td>0.000000</td>\n",
              "    </tr>\n",
              "    <tr>\n",
              "      <th>25%</th>\n",
              "      <td>593.000000</td>\n",
              "      <td>2.518815</td>\n",
              "      <td>4.916886</td>\n",
              "      <td>1.600466</td>\n",
              "      <td>75.725990</td>\n",
              "      <td>73.895421</td>\n",
              "      <td>0.000000</td>\n",
              "    </tr>\n",
              "    <tr>\n",
              "      <th>50%</th>\n",
              "      <td>746.000000</td>\n",
              "      <td>3.162035</td>\n",
              "      <td>6.201720</td>\n",
              "      <td>2.166883</td>\n",
              "      <td>76.817350</td>\n",
              "      <td>78.346662</td>\n",
              "      <td>1.000000</td>\n",
              "    </tr>\n",
              "    <tr>\n",
              "      <th>75%</th>\n",
              "      <td>934.000000</td>\n",
              "      <td>4.055272</td>\n",
              "      <td>7.744973</td>\n",
              "      <td>2.848840</td>\n",
              "      <td>78.071691</td>\n",
              "      <td>82.915411</td>\n",
              "      <td>1.000000</td>\n",
              "    </tr>\n",
              "    <tr>\n",
              "      <th>max</th>\n",
              "      <td>2239.000000</td>\n",
              "      <td>7.265566</td>\n",
              "      <td>21.138326</td>\n",
              "      <td>7.478505</td>\n",
              "      <td>89.580796</td>\n",
              "      <td>195.527912</td>\n",
              "      <td>1.000000</td>\n",
              "    </tr>\n",
              "  </tbody>\n",
              "</table>\n",
              "</div>\n",
              "      <button class=\"colab-df-convert\" onclick=\"convertToInteractive('df-b49e946c-2e4d-4a90-89c8-d556b32680cb')\"\n",
              "              title=\"Convert this dataframe to an interactive table.\"\n",
              "              style=\"display:none;\">\n",
              "        \n",
              "  <svg xmlns=\"http://www.w3.org/2000/svg\" height=\"24px\"viewBox=\"0 0 24 24\"\n",
              "       width=\"24px\">\n",
              "    <path d=\"M0 0h24v24H0V0z\" fill=\"none\"/>\n",
              "    <path d=\"M18.56 5.44l.94 2.06.94-2.06 2.06-.94-2.06-.94-.94-2.06-.94 2.06-2.06.94zm-11 1L8.5 8.5l.94-2.06 2.06-.94-2.06-.94L8.5 2.5l-.94 2.06-2.06.94zm10 10l.94 2.06.94-2.06 2.06-.94-2.06-.94-.94-2.06-.94 2.06-2.06.94z\"/><path d=\"M17.41 7.96l-1.37-1.37c-.4-.4-.92-.59-1.43-.59-.52 0-1.04.2-1.43.59L10.3 9.45l-7.72 7.72c-.78.78-.78 2.05 0 2.83L4 21.41c.39.39.9.59 1.41.59.51 0 1.02-.2 1.41-.59l7.78-7.78 2.81-2.81c.8-.78.8-2.07 0-2.86zM5.41 20L4 18.59l7.72-7.72 1.47 1.35L5.41 20z\"/>\n",
              "  </svg>\n",
              "      </button>\n",
              "      \n",
              "  <style>\n",
              "    .colab-df-container {\n",
              "      display:flex;\n",
              "      flex-wrap:wrap;\n",
              "      gap: 12px;\n",
              "    }\n",
              "\n",
              "    .colab-df-convert {\n",
              "      background-color: #E8F0FE;\n",
              "      border: none;\n",
              "      border-radius: 50%;\n",
              "      cursor: pointer;\n",
              "      display: none;\n",
              "      fill: #1967D2;\n",
              "      height: 32px;\n",
              "      padding: 0 0 0 0;\n",
              "      width: 32px;\n",
              "    }\n",
              "\n",
              "    .colab-df-convert:hover {\n",
              "      background-color: #E2EBFA;\n",
              "      box-shadow: 0px 1px 2px rgba(60, 64, 67, 0.3), 0px 1px 3px 1px rgba(60, 64, 67, 0.15);\n",
              "      fill: #174EA6;\n",
              "    }\n",
              "\n",
              "    [theme=dark] .colab-df-convert {\n",
              "      background-color: #3B4455;\n",
              "      fill: #D2E3FC;\n",
              "    }\n",
              "\n",
              "    [theme=dark] .colab-df-convert:hover {\n",
              "      background-color: #434B5C;\n",
              "      box-shadow: 0px 1px 3px 1px rgba(0, 0, 0, 0.15);\n",
              "      filter: drop-shadow(0px 1px 2px rgba(0, 0, 0, 0.3));\n",
              "      fill: #FFFFFF;\n",
              "    }\n",
              "  </style>\n",
              "\n",
              "      <script>\n",
              "        const buttonEl =\n",
              "          document.querySelector('#df-b49e946c-2e4d-4a90-89c8-d556b32680cb button.colab-df-convert');\n",
              "        buttonEl.style.display =\n",
              "          google.colab.kernel.accessAllowed ? 'block' : 'none';\n",
              "\n",
              "        async function convertToInteractive(key) {\n",
              "          const element = document.querySelector('#df-b49e946c-2e4d-4a90-89c8-d556b32680cb');\n",
              "          const dataTable =\n",
              "            await google.colab.kernel.invokeFunction('convertToInteractive',\n",
              "                                                     [key], {});\n",
              "          if (!dataTable) return;\n",
              "\n",
              "          const docLinkHtml = 'Like what you see? Visit the ' +\n",
              "            '<a target=\"_blank\" href=https://colab.research.google.com/notebooks/data_table.ipynb>data table notebook</a>'\n",
              "            + ' to learn more about interactive tables.';\n",
              "          element.innerHTML = '';\n",
              "          dataTable['output_type'] = 'display_data';\n",
              "          await google.colab.output.renderOutput(dataTable, element);\n",
              "          const docLink = document.createElement('div');\n",
              "          docLink.innerHTML = docLinkHtml;\n",
              "          element.appendChild(docLink);\n",
              "        }\n",
              "      </script>\n",
              "    </div>\n",
              "  </div>\n",
              "  "
            ]
          },
          "metadata": {},
          "execution_count": 534
        }
      ]
    },
    {
      "cell_type": "code",
      "source": [
        "plt.boxplot(df[\"Engine rpm\"])\n",
        "plt.title(\"box plot of Engine rpm\")"
      ],
      "metadata": {
        "colab": {
          "base_uri": "https://localhost:8080/",
          "height": 469
        },
        "id": "og_07f26GgIk",
        "outputId": "15288353-805c-4b1c-aed6-0214881e3d04"
      },
      "execution_count": null,
      "outputs": [
        {
          "output_type": "execute_result",
          "data": {
            "text/plain": [
              "Text(0.5, 1.0, 'box plot of Engine rpm')"
            ]
          },
          "metadata": {},
          "execution_count": 535
        },
        {
          "output_type": "display_data",
          "data": {
            "text/plain": [
              "<Figure size 640x480 with 1 Axes>"
            ],
            "image/png": "[encoded data removed]"
          },
          "metadata": {}
        }
      ]
    },
    {
      "cell_type": "code",
      "source": [
        "q1 = np.percentile(df[\"Engine rpm\"],25, interpolation=\"midpoint\")\n",
        "q2 = np.percentile(df[\"Engine rpm\"],50, interpolation=\"midpoint\")\n",
        "q3 = np.percentile(df[\"Engine rpm\"],75, interpolation=\"midpoint\")\n",
        "\n",
        "print(q1)\n",
        "print(q2)\n",
        "print(q3)"
      ],
      "metadata": {
        "colab": {
          "base_uri": "https://localhost:8080/"
        },
        "id": "mn4hj6ZIG2Hy",
        "outputId": "dfb44e2a-b537-426d-e2a0-26814cb7c27a"
      },
      "execution_count": null,
      "outputs": [
        {
          "output_type": "stream",
          "name": "stdout",
          "text": [
            "593.0\n",
            "746.0\n",
            "934.0\n"
          ]
        },
        {
          "output_type": "stream",
          "name": "stderr",
          "text": [
            "<ipython-input-536-a85797ad835a>:1: DeprecationWarning: the `interpolation=` argument to percentile was renamed to `method=`, which has additional options.\n",
            "Users of the modes 'nearest', 'lower', 'higher', or 'midpoint' are encouraged to review the method they. (Deprecated NumPy 1.22)\n",
            "  q1 = np.percentile(df[\"Engine rpm\"],25, interpolation=\"midpoint\")\n",
            "<ipython-input-536-a85797ad835a>:2: DeprecationWarning: the `interpolation=` argument to percentile was renamed to `method=`, which has additional options.\n",
            "Users of the modes 'nearest', 'lower', 'higher', or 'midpoint' are encouraged to review the method they. (Deprecated NumPy 1.22)\n",
            "  q2 = np.percentile(df[\"Engine rpm\"],50, interpolation=\"midpoint\")\n",
            "<ipython-input-536-a85797ad835a>:3: DeprecationWarning: the `interpolation=` argument to percentile was renamed to `method=`, which has additional options.\n",
            "Users of the modes 'nearest', 'lower', 'higher', or 'midpoint' are encouraged to review the method they. (Deprecated NumPy 1.22)\n",
            "  q3 = np.percentile(df[\"Engine rpm\"],75, interpolation=\"midpoint\")\n"
          ]
        }
      ]
    },
    {
      "cell_type": "code",
      "source": [
        "iqr = q3-q1\n",
        "\n",
        "low_limit = q1-1.5*iqr\n",
        "upp_limit = q3+1.5*iqr\n",
        "\n",
        "print(low_limit)\n",
        "print(upp_limit)"
      ],
      "metadata": {
        "colab": {
          "base_uri": "https://localhost:8080/"
        },
        "id": "q6GQvWA3HBa7",
        "outputId": "d5aee819-43d1-4e80-be42-8fb8ee086c66"
      },
      "execution_count": null,
      "outputs": [
        {
          "output_type": "stream",
          "name": "stdout",
          "text": [
            "81.5\n",
            "1445.5\n"
          ]
        }
      ]
    },
    {
      "cell_type": "code",
      "source": [
        "outlier = []\n",
        "for x in df[\"Engine rpm\"]:\n",
        "  if((x>upp_limit)or(x<low_limit)):\n",
        "    outlier.append(x)\n",
        "  \n",
        "outlier"
      ],
      "metadata": {
        "colab": {
          "base_uri": "https://localhost:8080/"
        },
        "id": "BzOgWbKBHEoO",
        "outputId": "3e277d7d-850b-4d28-ef64-20ad186acaab"
      },
      "execution_count": null,
      "outputs": [
        {
          "output_type": "execute_result",
          "data": {
            "text/plain": [
              "[1674,\n",
              " 1776,\n",
              " 1481,\n",
              " 1661,\n",
              " 1620,\n",
              " 1694,\n",
              " 1459,\n",
              " 1509,\n",
              " 2143,\n",
              " 1537,\n",
              " 1583,\n",
              " 1521,\n",
              " 1606,\n",
              " 1621,\n",
              " 1499,\n",
              " 1507,\n",
              " 1463,\n",
              " 1877,\n",
              " 1521,\n",
              " 1522,\n",
              " 1448,\n",
              " 1603,\n",
              " 1657,\n",
              " 1450,\n",
              " 1617,\n",
              " 1553,\n",
              " 1529,\n",
              " 2047,\n",
              " 1582,\n",
              " 1565,\n",
              " 1485,\n",
              " 1507,\n",
              " 1480,\n",
              " 1700,\n",
              " 1729,\n",
              " 1447,\n",
              " 1530,\n",
              " 1556,\n",
              " 1613,\n",
              " 1529,\n",
              " 1482,\n",
              " 1500,\n",
              " 1550,\n",
              " 2011,\n",
              " 1597,\n",
              " 1577,\n",
              " 77,\n",
              " 1587,\n",
              " 1465,\n",
              " 1585,\n",
              " 1694,\n",
              " 1557,\n",
              " 1480,\n",
              " 1562,\n",
              " 1643,\n",
              " 1448,\n",
              " 1465,\n",
              " 1507,\n",
              " 1494,\n",
              " 1486,\n",
              " 1502,\n",
              " 1512,\n",
              " 1503,\n",
              " 1454,\n",
              " 1524,\n",
              " 1586,\n",
              " 1642,\n",
              " 1580,\n",
              " 1640,\n",
              " 1518,\n",
              " 1502,\n",
              " 1618,\n",
              " 1501,\n",
              " 1582,\n",
              " 1501,\n",
              " 1559,\n",
              " 1552,\n",
              " 1511,\n",
              " 1446,\n",
              " 2239,\n",
              " 1457,\n",
              " 1573,\n",
              " 1683,\n",
              " 1546,\n",
              " 1764,\n",
              " 1628,\n",
              " 2191,\n",
              " 1465,\n",
              " 1453,\n",
              " 1613,\n",
              " 1464,\n",
              " 1515,\n",
              " 1784,\n",
              " 1488,\n",
              " 1492,\n",
              " 1487,\n",
              " 1478,\n",
              " 1653,\n",
              " 1644,\n",
              " 1527,\n",
              " 1527,\n",
              " 1463,\n",
              " 1484,\n",
              " 1609,\n",
              " 1633,\n",
              " 1631,\n",
              " 1764,\n",
              " 1598,\n",
              " 1543,\n",
              " 1516,\n",
              " 1520,\n",
              " 1598,\n",
              " 1485,\n",
              " 1561,\n",
              " 1474,\n",
              " 1571,\n",
              " 1818,\n",
              " 1621,\n",
              " 2061,\n",
              " 1569,\n",
              " 1670,\n",
              " 1510,\n",
              " 1583,\n",
              " 1625,\n",
              " 1673,\n",
              " 1484,\n",
              " 1572,\n",
              " 1458,\n",
              " 1671,\n",
              " 1500,\n",
              " 1447,\n",
              " 1522,\n",
              " 1593,\n",
              " 1470,\n",
              " 1624,\n",
              " 1458,\n",
              " 1498,\n",
              " 1503,\n",
              " 2106,\n",
              " 1458,\n",
              " 1531,\n",
              " 1749,\n",
              " 2024,\n",
              " 1683,\n",
              " 1455,\n",
              " 1489,\n",
              " 1606,\n",
              " 1484,\n",
              " 1605,\n",
              " 1474,\n",
              " 1674,\n",
              " 1581,\n",
              " 1628,\n",
              " 1576,\n",
              " 1573,\n",
              " 1488,\n",
              " 1482,\n",
              " 1972,\n",
              " 1509,\n",
              " 1477,\n",
              " 1501,\n",
              " 1557,\n",
              " 1574,\n",
              " 1447,\n",
              " 1462,\n",
              " 1448,\n",
              " 1488,\n",
              " 1483,\n",
              " 1476,\n",
              " 1603,\n",
              " 1552,\n",
              " 1451,\n",
              " 1652,\n",
              " 1665,\n",
              " 1454,\n",
              " 1482,\n",
              " 1602,\n",
              " 1576,\n",
              " 1541,\n",
              " 1560,\n",
              " 1483,\n",
              " 1602,\n",
              " 1555,\n",
              " 1612,\n",
              " 1880,\n",
              " 1568,\n",
              " 1661,\n",
              " 1478,\n",
              " 1949,\n",
              " 1469,\n",
              " 1546,\n",
              " 1511,\n",
              " 1522,\n",
              " 1566,\n",
              " 1478,\n",
              " 1552,\n",
              " 1461,\n",
              " 1545,\n",
              " 1576,\n",
              " 1678,\n",
              " 1753,\n",
              " 1547,\n",
              " 1558,\n",
              " 1514,\n",
              " 1488,\n",
              " 1623,\n",
              " 1485,\n",
              " 1511,\n",
              " 1517,\n",
              " 1685,\n",
              " 1471,\n",
              " 1608,\n",
              " 1670,\n",
              " 1529,\n",
              " 1469,\n",
              " 1685,\n",
              " 1656,\n",
              " 1531,\n",
              " 1521,\n",
              " 1482,\n",
              " 1583,\n",
              " 2172,\n",
              " 1491,\n",
              " 1489,\n",
              " 1582,\n",
              " 1678,\n",
              " 1456,\n",
              " 1459,\n",
              " 1505,\n",
              " 1478,\n",
              " 1507,\n",
              " 1750,\n",
              " 1597,\n",
              " 1448,\n",
              " 1741,\n",
              " 1457,\n",
              " 1691,\n",
              " 1856,\n",
              " 1500,\n",
              " 1542,\n",
              " 1683,\n",
              " 1571,\n",
              " 1579,\n",
              " 1512,\n",
              " 1464,\n",
              " 1530,\n",
              " 1799,\n",
              " 1480,\n",
              " 1608,\n",
              " 1500,\n",
              " 1826,\n",
              " 1558,\n",
              " 1472,\n",
              " 1471,\n",
              " 1593,\n",
              " 1802,\n",
              " 1456,\n",
              " 1505,\n",
              " 1515,\n",
              " 1541,\n",
              " 1459,\n",
              " 1624,\n",
              " 1476,\n",
              " 1581,\n",
              " 1519,\n",
              " 1509,\n",
              " 1465,\n",
              " 1493,\n",
              " 1570,\n",
              " 2163,\n",
              " 1493,\n",
              " 2022,\n",
              " 1508,\n",
              " 1560,\n",
              " 1718,\n",
              " 1578,\n",
              " 1571,\n",
              " 1557,\n",
              " 1565,\n",
              " 1512,\n",
              " 2085,\n",
              " 1660,\n",
              " 1476,\n",
              " 1571,\n",
              " 1639,\n",
              " 1563,\n",
              " 1898,\n",
              " 1594,\n",
              " 1525,\n",
              " 1598,\n",
              " 1601,\n",
              " 1676,\n",
              " 1582,\n",
              " 1464,\n",
              " 1667,\n",
              " 1554,\n",
              " 1590,\n",
              " 1795,\n",
              " 1521,\n",
              " 1586,\n",
              " 1727,\n",
              " 1481,\n",
              " 1625,\n",
              " 1457,\n",
              " 1453,\n",
              " 1682,\n",
              " 1673,\n",
              " 1503,\n",
              " 1465,\n",
              " 1704,\n",
              " 1450,\n",
              " 1448,\n",
              " 1508,\n",
              " 1696,\n",
              " 1495,\n",
              " 1654,\n",
              " 1478,\n",
              " 1575,\n",
              " 1468,\n",
              " 61,\n",
              " 1584,\n",
              " 1487,\n",
              " 1488,\n",
              " 1560,\n",
              " 1762,\n",
              " 1912,\n",
              " 1468,\n",
              " 1551,\n",
              " 1641,\n",
              " 1576,\n",
              " 1613,\n",
              " 1563,\n",
              " 1563,\n",
              " 1583,\n",
              " 1453,\n",
              " 1560,\n",
              " 1536,\n",
              " 1739,\n",
              " 1659,\n",
              " 1475,\n",
              " 1460,\n",
              " 1570,\n",
              " 1597,\n",
              " 1536,\n",
              " 1713,\n",
              " 1452,\n",
              " 1680,\n",
              " 1562,\n",
              " 1451,\n",
              " 1541,\n",
              " 1446,\n",
              " 1663,\n",
              " 1453,\n",
              " 1502,\n",
              " 1660,\n",
              " 1529,\n",
              " 1495,\n",
              " 1611,\n",
              " 1536,\n",
              " 1506,\n",
              " 1650,\n",
              " 1516,\n",
              " 1510,\n",
              " 1468,\n",
              " 1455,\n",
              " 1554,\n",
              " 1496,\n",
              " 1756,\n",
              " 1495,\n",
              " 1457,\n",
              " 1568,\n",
              " 1455,\n",
              " 1724,\n",
              " 1478,\n",
              " 1562,\n",
              " 1454,\n",
              " 1855,\n",
              " 1467,\n",
              " 1621,\n",
              " 1489,\n",
              " 1543,\n",
              " 1626,\n",
              " 1622,\n",
              " 1471,\n",
              " 1449,\n",
              " 1689,\n",
              " 1462,\n",
              " 1488,\n",
              " 1713,\n",
              " 1517,\n",
              " 1486,\n",
              " 1514,\n",
              " 1483,\n",
              " 1508,\n",
              " 1606,\n",
              " 1666,\n",
              " 1510,\n",
              " 1538,\n",
              " 1562,\n",
              " 2029,\n",
              " 1539,\n",
              " 1452,\n",
              " 1551,\n",
              " 1758,\n",
              " 1709,\n",
              " 1547,\n",
              " 2151,\n",
              " 1542,\n",
              " 1723,\n",
              " 1602,\n",
              " 1471,\n",
              " 1473,\n",
              " 1449,\n",
              " 1565,\n",
              " 1450,\n",
              " 1495,\n",
              " 1476,\n",
              " 1713,\n",
              " 2020,\n",
              " 1649,\n",
              " 1505,\n",
              " 1513,\n",
              " 1549,\n",
              " 1568,\n",
              " 1455,\n",
              " 1489,\n",
              " 1652,\n",
              " 1475,\n",
              " 1963,\n",
              " 1453,\n",
              " 1470,\n",
              " 1539,\n",
              " 1555,\n",
              " 1721,\n",
              " 1505,\n",
              " 1487,\n",
              " 1523,\n",
              " 1544,\n",
              " 1703,\n",
              " 1597,\n",
              " 1571,\n",
              " 1468,\n",
              " 1498,\n",
              " 1539,\n",
              " 1500,\n",
              " 1495,\n",
              " 1448,\n",
              " 1523,\n",
              " 1523,\n",
              " 1606,\n",
              " 1692,\n",
              " 1517,\n",
              " 1472,\n",
              " 2022,\n",
              " 1616,\n",
              " 1497,\n",
              " 1762,\n",
              " 1676,\n",
              " 1558,\n",
              " 2136,\n",
              " 1556,\n",
              " 1586,\n",
              " 1807,\n",
              " 1579]"
            ]
          },
          "metadata": {},
          "execution_count": 538
        }
      ]
    },
    {
      "cell_type": "code",
      "source": [
        "ind1 = df[\"Engine rpm\"]>upp_limit\n",
        "df.loc[ind1].index"
      ],
      "metadata": {
        "colab": {
          "base_uri": "https://localhost:8080/"
        },
        "id": "hOxzHhhgHz92",
        "outputId": "5e500abf-7f0d-4e66-8ff2-c2bda733c075"
      },
      "execution_count": null,
      "outputs": [
        {
          "output_type": "execute_result",
          "data": {
            "text/plain": [
              "Int64Index([   55,    88,   102,   108,   143,   157,   179,   243,   261,\n",
              "              326,\n",
              "            ...\n",
              "            19156, 19158, 19181, 19198, 19208, 19241, 19357, 19409, 19447,\n",
              "            19466],\n",
              "           dtype='int64', length=462)"
            ]
          },
          "metadata": {},
          "execution_count": 539
        }
      ]
    },
    {
      "cell_type": "code",
      "source": [
        "ind1 = df[\"Engine rpm\"]>upp_limit\n",
        "z= df.loc[ind1].index\n",
        "z[:50]"
      ],
      "metadata": {
        "colab": {
          "base_uri": "https://localhost:8080/"
        },
        "id": "BGWwiV3RHQIn",
        "outputId": "bb941669-bdc4-4c7e-fe06-f3c1ab22c464"
      },
      "execution_count": null,
      "outputs": [
        {
          "output_type": "execute_result",
          "data": {
            "text/plain": [
              "Int64Index([  55,   88,  102,  108,  143,  157,  179,  243,  261,  326,  361,\n",
              "             435,  467,  476,  478,  540,  542,  610,  632,  745,  806,  824,\n",
              "             863,  973, 1139, 1213, 1215, 1252, 1257, 1270, 1280, 1337, 1358,\n",
              "            1505, 1528, 1536, 1649, 1773, 1806, 1859, 1883, 1932, 1969, 1995,\n",
              "            2035, 2066, 2265, 2333, 2378, 2449],\n",
              "           dtype='int64')"
            ]
          },
          "metadata": {},
          "execution_count": 540
        }
      ]
    },
    {
      "cell_type": "code",
      "source": [
        "df.drop([55, 88,  102,  108,  143,  157,  179,  243,  261,  326,  361, 435,  467,  476,  478,  540,  542,  610,  632,  745,  806,  824,863,  973, 1139, 1213, 1215, 1252, 1257, 1270, 1280, 1337, 1358,\n",
        "          1505, 1528, 1536, 1649, 1773, 1806, 1859, 1883, 1932, 1969, 1995, 2035, 2066, 2265, 2333, 2378, 2449],inplace=True)"
      ],
      "metadata": {
        "id": "1V29ab0OHXu2"
      },
      "execution_count": null,
      "outputs": []
    },
    {
      "cell_type": "code",
      "source": [
        "z[50:100]"
      ],
      "metadata": {
        "colab": {
          "base_uri": "https://localhost:8080/"
        },
        "id": "-3Ea5-56H7st",
        "outputId": "abb476a2-d962-498d-e3b6-274c7f6fba70"
      },
      "execution_count": null,
      "outputs": [
        {
          "output_type": "execute_result",
          "data": {
            "text/plain": [
              "Int64Index([2464, 2619, 2718, 2792, 2804, 2819, 2850, 2864, 2909, 2912, 2933,\n",
              "            2935, 3022, 3084, 3145, 3169, 3184, 3260, 3294, 3335, 3379, 3432,\n",
              "            3433, 3504, 3515, 3524, 3539, 3571, 3641, 3642, 3690, 3707, 3725,\n",
              "            3798, 3810, 3837, 3852, 3872, 3878, 3882, 3919, 3948, 3968, 4029,\n",
              "            4078, 4126, 4127, 4129, 4256, 4273],\n",
              "           dtype='int64')"
            ]
          },
          "metadata": {},
          "execution_count": 542
        }
      ]
    },
    {
      "cell_type": "code",
      "source": [
        "df.drop([2464, 2619, 2718, 2792, 2804, 2819, 2850, 2864, 2909, 2912, 2933,\n",
        "            2935, 3022, 3084, 3145, 3169, 3184, 3260, 3294, 3335, 3379, 3432,\n",
        "            3433, 3504, 3515, 3524, 3539, 3571, 3641, 3642, 3690, 3707, 3725,\n",
        "            3798, 3810, 3837, 3852, 3872, 3878, 3882, 3919, 3948, 3968, 4029,\n",
        "            4078, 4126, 4127, 4129, 4256, 4273],inplace=True)"
      ],
      "metadata": {
        "id": "KWDmbo8BIPNv"
      },
      "execution_count": null,
      "outputs": []
    },
    {
      "cell_type": "code",
      "source": [
        "z[100:150]"
      ],
      "metadata": {
        "colab": {
          "base_uri": "https://localhost:8080/"
        },
        "id": "n0rKkieuIWHi",
        "outputId": "7a7c0611-5aed-4296-d322-752cd927fd3d"
      },
      "execution_count": null,
      "outputs": [
        {
          "output_type": "execute_result",
          "data": {
            "text/plain": [
              "Int64Index([4297, 4402, 4408, 4429, 4431, 4443, 4484, 4536, 4582, 4682, 4687,\n",
              "            4695, 4756, 4774, 4827, 4849, 4876, 4887, 4911, 4926, 4945, 4950,\n",
              "            5033, 5055, 5076, 5108, 5249, 5347, 5362, 5401, 5438, 5477, 5553,\n",
              "            5602, 5638, 5641, 5677, 5690, 5734, 5824, 5848, 5944, 5972, 6059,\n",
              "            6079, 6085, 6126, 6194, 6240, 6250],\n",
              "           dtype='int64')"
            ]
          },
          "metadata": {},
          "execution_count": 544
        }
      ]
    },
    {
      "cell_type": "code",
      "source": [
        "df.drop([4297, 4402, 4408, 4429, 4431, 4443, 4484, 4536, 4582, 4682, 4687,\n",
        "            4695, 4756, 4774, 4827, 4849, 4876, 4887, 4911, 4926, 4945, 4950,\n",
        "            5033, 5055, 5076, 5108, 5249, 5347, 5362, 5401, 5438, 5477, 5553,\n",
        "            5602, 5638, 5641, 5677, 5690, 5734, 5824, 5848, 5944, 5972, 6059,\n",
        "            6079, 6085, 6126, 6194, 6240, 6250],inplace=True)"
      ],
      "metadata": {
        "id": "qhcdF8N9Ibql"
      },
      "execution_count": null,
      "outputs": []
    },
    {
      "cell_type": "code",
      "source": [
        "z[150:200]"
      ],
      "metadata": {
        "colab": {
          "base_uri": "https://localhost:8080/"
        },
        "id": "CM6tmw8hIjGC",
        "outputId": "31be0c8e-cc34-4dde-c581-cc58bd224e45"
      },
      "execution_count": null,
      "outputs": [
        {
          "output_type": "execute_result",
          "data": {
            "text/plain": [
              "Int64Index([6265, 6310, 6332, 6354, 6401, 6469, 6523, 6533, 6536, 6588, 6694,\n",
              "            6764, 6767, 6953, 7004, 7015, 7016, 7033, 7091, 7239, 7271, 7289,\n",
              "            7297, 7317, 7334, 7381, 7403, 7435, 7464, 7467, 7475, 7564, 7688,\n",
              "            7703, 7777, 7863, 8007, 8012, 8083, 8125, 8168, 8192, 8244, 8262,\n",
              "            8267, 8353, 8409, 8423, 8485, 8500],\n",
              "           dtype='int64')"
            ]
          },
          "metadata": {},
          "execution_count": 546
        }
      ]
    },
    {
      "cell_type": "code",
      "source": [
        "df.drop([6265, 6310, 6332, 6354, 6401, 6469, 6523, 6533, 6536, 6588, 6694,\n",
        "            6764, 6767, 6953, 7004, 7015, 7016, 7033, 7091, 7239, 7271, 7289,\n",
        "            7297, 7317, 7334, 7381, 7403, 7435, 7464, 7467, 7475, 7564, 7688,\n",
        "            7703, 7777, 7863, 8007, 8012, 8083, 8125, 8168, 8192, 8244, 8262,\n",
        "            8267, 8353, 8409, 8423, 8485, 8500],inplace=True)"
      ],
      "metadata": {
        "id": "vLOCnjpwInQQ"
      },
      "execution_count": null,
      "outputs": []
    },
    {
      "cell_type": "code",
      "source": [
        "z[200:250]"
      ],
      "metadata": {
        "colab": {
          "base_uri": "https://localhost:8080/"
        },
        "id": "ng4bpeIOIxbR",
        "outputId": "f5ce7804-9b56-40da-ab9f-f352f09d0fa4"
      },
      "execution_count": null,
      "outputs": [
        {
          "output_type": "execute_result",
          "data": {
            "text/plain": [
              "Int64Index([ 8560,  8588,  8667,  8682,  8721,  8734,  8755,  8794,  8802,\n",
              "             8816,  8855,  8888,  8966,  8975,  8993,  9015,  9025,  9123,\n",
              "             9177,  9206,  9216,  9285,  9288,  9297,  9394,  9398,  9474,\n",
              "             9479,  9506,  9627,  9647,  9667,  9745,  9864,  9908,  9936,\n",
              "             9988, 10019, 10038, 10043, 10069, 10092, 10193, 10263, 10367,\n",
              "            10571, 10587, 10676, 10681, 10705],\n",
              "           dtype='int64')"
            ]
          },
          "metadata": {},
          "execution_count": 548
        }
      ]
    },
    {
      "cell_type": "code",
      "source": [
        "df.drop([8560,  8588,  8667,  8682,  8721,  8734,  8755,  8794,  8802,\n",
        "             8816,  8855,  8888,  8966,  8975,  8993,  9015,  9025,  9123,\n",
        "             9177,  9206,  9216,  9285,  9288,  9297,  9394,  9398,  9474,\n",
        "             9479,  9506,  9627,  9647,  9667,  9745,  9864,  9908,  9936,\n",
        "             9988, 10019, 10038, 10043, 10069, 10092, 10193, 10263, 10367,\n",
        "            10571, 10587, 10676, 10681, 10705],inplace=True)"
      ],
      "metadata": {
        "id": "xHRY2L5LI2Or"
      },
      "execution_count": null,
      "outputs": []
    },
    {
      "cell_type": "code",
      "source": [
        "z[250:300]"
      ],
      "metadata": {
        "colab": {
          "base_uri": "https://localhost:8080/"
        },
        "id": "KJrG-HxFI-9E",
        "outputId": "495e71c6-5fa2-4352-d810-f64de2f51ff5"
      },
      "execution_count": null,
      "outputs": [
        {
          "output_type": "execute_result",
          "data": {
            "text/plain": [
              "Int64Index([10706, 10722, 10738, 10742, 10779, 10817, 10873, 10933, 10965,\n",
              "            11018, 11029, 11090, 11120, 11124, 11153, 11208, 11224, 11251,\n",
              "            11306, 11346, 11448, 11521, 11542, 11638, 11656, 11663, 11689,\n",
              "            11699, 11812, 11829, 11840, 11848, 11874, 11880, 11907, 11983,\n",
              "            12044, 12142, 12153, 12267, 12354, 12376, 12378, 12516, 12563,\n",
              "            12581, 12726, 12782, 12859, 12861],\n",
              "           dtype='int64')"
            ]
          },
          "metadata": {},
          "execution_count": 550
        }
      ]
    },
    {
      "cell_type": "code",
      "source": [
        "df.drop([10706, 10722, 10738, 10742, 10779, 10817, 10873, 10933, 10965,\n",
        "            11018, 11029, 11090, 11120, 11124, 11153, 11208, 11224, 11251,\n",
        "            11306, 11346, 11448, 11521, 11542, 11638, 11656, 11663, 11689,\n",
        "            11699, 11812, 11829, 11840, 11848, 11874, 11880, 11907, 11983,\n",
        "            12044, 12142, 12153, 12267, 12354, 12376, 12378, 12516, 12563,\n",
        "            12581, 12726, 12782, 12859, 12861],inplace=True)"
      ],
      "metadata": {
        "id": "j4L5UeMdJDWA"
      },
      "execution_count": null,
      "outputs": []
    },
    {
      "cell_type": "code",
      "source": [
        "z[300:350]"
      ],
      "metadata": {
        "colab": {
          "base_uri": "https://localhost:8080/"
        },
        "id": "xXhanejGJL_H",
        "outputId": "3f8dde91-b657-4747-9c01-ff99f3fd6820"
      },
      "execution_count": null,
      "outputs": [
        {
          "output_type": "execute_result",
          "data": {
            "text/plain": [
              "Int64Index([12912, 12922, 12973, 13062, 13213, 13324, 13350, 13472, 13507,\n",
              "            13512, 13516, 13532, 13536, 13568, 13672, 13704, 13708, 13770,\n",
              "            13805, 13809, 13829, 13846, 13875, 13948, 14140, 14173, 14200,\n",
              "            14307, 14318, 14345, 14494, 14546, 14597, 14636, 14654, 14680,\n",
              "            14682, 14688, 14689, 14761, 14797, 14820, 14915, 14969, 15038,\n",
              "            15125, 15291, 15323, 15334, 15362],\n",
              "           dtype='int64')"
            ]
          },
          "metadata": {},
          "execution_count": 552
        }
      ]
    },
    {
      "cell_type": "code",
      "source": [
        "df.drop([12912, 12922, 12973, 13062, 13213, 13324, 13350, 13472, 13507,\n",
        "            13512, 13516, 13532, 13536, 13568, 13672, 13704, 13708, 13770,\n",
        "            13805, 13809, 13829, 13846, 13875, 13948, 14140, 14173, 14200,\n",
        "            14307, 14318, 14345, 14494, 14546, 14597, 14636, 14654, 14680,\n",
        "            14682, 14688, 14689, 14761, 14797, 14820, 14915, 14969, 15038,\n",
        "            15125, 15291, 15323, 15334, 15362],inplace=True)"
      ],
      "metadata": {
        "id": "ZmnMnYrIJPpP"
      },
      "execution_count": null,
      "outputs": []
    },
    {
      "cell_type": "code",
      "source": [
        "z[350:450]"
      ],
      "metadata": {
        "colab": {
          "base_uri": "https://localhost:8080/"
        },
        "id": "TUZBhTl8JWgi",
        "outputId": "43cfd823-c651-4641-c556-510bd8936320"
      },
      "execution_count": null,
      "outputs": [
        {
          "output_type": "execute_result",
          "data": {
            "text/plain": [
              "Int64Index([15373, 15431, 15436, 15477, 15486, 15496, 15597, 15679, 15732,\n",
              "            15742, 15768, 15779, 15782, 15783, 15822, 15897, 15903, 15905,\n",
              "            15936, 15962, 16054, 16077, 16093, 16182, 16196, 16352, 16392,\n",
              "            16414, 16437, 16514, 16530, 16534, 16547, 16548, 16567, 16638,\n",
              "            16701, 16775, 16777, 16782, 16810, 16872, 16902, 16931, 16954,\n",
              "            17047, 17057, 17146, 17226, 17291, 17294, 17296, 17364, 17423,\n",
              "            17483, 17505, 17524, 17550, 17552, 17582, 17646, 17690, 17762,\n",
              "            17770, 17826, 17881, 17917, 17968, 17972, 18015, 18037, 18051,\n",
              "            18066, 18141, 18205, 18227, 18239, 18252, 18336, 18469, 18524,\n",
              "            18538, 18602, 18605, 18607, 18701, 18716, 18721, 18737, 18744,\n",
              "            18800, 18863, 18870, 18877, 18892, 18922, 18932, 18958, 19000,\n",
              "            19084],\n",
              "           dtype='int64')"
            ]
          },
          "metadata": {},
          "execution_count": 554
        }
      ]
    },
    {
      "cell_type": "code",
      "source": [
        "df.drop([15373, 15431, 15436, 15477, 15486, 15496, 15597, 15679, 15732,\n",
        "            15742, 15768, 15779, 15782, 15783, 15822, 15897, 15903, 15905,\n",
        "            15936, 15962, 16054, 16077, 16093, 16182, 16196, 16352, 16392,\n",
        "            16414, 16437, 16514, 16530, 16534, 16547, 16548, 16567, 16638,\n",
        "            16701, 16775, 16777, 16782, 16810, 16872, 16902, 16931, 16954,\n",
        "            17047, 17057, 17146, 17226, 17291, 17294, 17296, 17364, 17423,\n",
        "            17483, 17505, 17524, 17550, 17552, 17582, 17646, 17690, 17762,\n",
        "            17770, 17826, 17881, 17917, 17968, 17972, 18015, 18037, 18051,\n",
        "            18066, 18141, 18205, 18227, 18239, 18252, 18336, 18469, 18524,\n",
        "            18538, 18602, 18605, 18607, 18701, 18716, 18721, 18737, 18744,\n",
        "            18800, 18863, 18870, 18877, 18892, 18922, 18932, 18958, 19000,\n",
        "            19084],inplace=True)"
      ],
      "metadata": {
        "id": "QwN7E9oMJkgu"
      },
      "execution_count": null,
      "outputs": []
    },
    {
      "cell_type": "code",
      "source": [
        "z[450:550]"
      ],
      "metadata": {
        "colab": {
          "base_uri": "https://localhost:8080/"
        },
        "id": "cJXUnkNkJrbk",
        "outputId": "3c889421-5893-4dec-83b5-496f3b4ae65d"
      },
      "execution_count": null,
      "outputs": [
        {
          "output_type": "execute_result",
          "data": {
            "text/plain": [
              "Int64Index([19128, 19152, 19156, 19158, 19181, 19198, 19208, 19241, 19357,\n",
              "            19409, 19447, 19466],\n",
              "           dtype='int64')"
            ]
          },
          "metadata": {},
          "execution_count": 556
        }
      ]
    },
    {
      "cell_type": "code",
      "source": [
        "df.drop([19128, 19152, 19156, 19158, 19181, 19198, 19208, 19241, 19357,\n",
        "            19409, 19447, 19466],inplace=True)"
      ],
      "metadata": {
        "id": "cImGYSCKJv4l"
      },
      "execution_count": null,
      "outputs": []
    },
    {
      "cell_type": "code",
      "source": [
        "df.columns"
      ],
      "metadata": {
        "colab": {
          "base_uri": "https://localhost:8080/"
        },
        "id": "z4dq2nx1J6Us",
        "outputId": "cfd4453d-7541-4c68-f686-7a94797eed34"
      },
      "execution_count": null,
      "outputs": [
        {
          "output_type": "execute_result",
          "data": {
            "text/plain": [
              "Index(['Engine rpm', 'Lub oil pressure', 'Fuel pressure', 'Coolant pressure',\n",
              "       'lub oil temp', 'Coolant temp', 'Engine Condition'],\n",
              "      dtype='object')"
            ]
          },
          "metadata": {},
          "execution_count": 558
        }
      ]
    },
    {
      "cell_type": "code",
      "source": [
        "ind1 = df[\"Engine rpm\"]<low_limit\n",
        "df.loc[ind1].index"
      ],
      "metadata": {
        "colab": {
          "base_uri": "https://localhost:8080/"
        },
        "id": "jjI8kZPaJ1lT",
        "outputId": "4bd3842b-225e-481a-b802-f9ae0cf19b18"
      },
      "execution_count": null,
      "outputs": [
        {
          "output_type": "execute_result",
          "data": {
            "text/plain": [
              "Int64Index([2262, 13797], dtype='int64')"
            ]
          },
          "metadata": {},
          "execution_count": 559
        }
      ]
    },
    {
      "cell_type": "code",
      "source": [
        "df.drop([2262, 13797],inplace=True)"
      ],
      "metadata": {
        "id": "f87_flB7KNHC"
      },
      "execution_count": null,
      "outputs": []
    },
    {
      "cell_type": "code",
      "source": [
        "outlier = []\n",
        "for x in df[\"Engine rpm\"]:\n",
        "  if((x>upp_limit)or(x<low_limit)):\n",
        "    outlier.append(x)\n",
        "  \n",
        "outlier"
      ],
      "metadata": {
        "colab": {
          "base_uri": "https://localhost:8080/"
        },
        "id": "vFRrXlaPLwEF",
        "outputId": "cf698e73-9f59-4ee9-a039-9d6ac2f71125"
      },
      "execution_count": null,
      "outputs": [
        {
          "output_type": "execute_result",
          "data": {
            "text/plain": [
              "[]"
            ]
          },
          "metadata": {},
          "execution_count": 561
        }
      ]
    },
    {
      "cell_type": "code",
      "source": [
        "plt.boxplot(df[\"Engine rpm\"])\n",
        "plt.title(\"box plot of Engine rpm\")"
      ],
      "metadata": {
        "colab": {
          "base_uri": "https://localhost:8080/",
          "height": 469
        },
        "id": "aQogbVN7KSu2",
        "outputId": "7a4f20d9-1dc7-463f-c41f-b24b2fb6500e"
      },
      "execution_count": null,
      "outputs": [
        {
          "output_type": "execute_result",
          "data": {
            "text/plain": [
              "Text(0.5, 1.0, 'box plot of Engine rpm')"
            ]
          },
          "metadata": {},
          "execution_count": 562
        },
        {
          "output_type": "display_data",
          "data": {
            "text/plain": [
              "<Figure size 640x480 with 1 Axes>"
            ],
            "image/png": "[encoded data removed]"
          },
          "metadata": {}
        }
      ]
    },
    {
      "cell_type": "code",
      "source": [
        "plt.boxplot(df[\"Lub oil pressure\"])\n",
        "plt.title(\"box plot of Lub oil pressure\")"
      ],
      "metadata": {
        "colab": {
          "base_uri": "https://localhost:8080/",
          "height": 469
        },
        "id": "_8w6qQU1Kbsi",
        "outputId": "22782b98-ddaf-452e-fb5d-694c7281f58d"
      },
      "execution_count": null,
      "outputs": [
        {
          "output_type": "execute_result",
          "data": {
            "text/plain": [
              "Text(0.5, 1.0, 'box plot of Lub oil pressure')"
            ]
          },
          "metadata": {},
          "execution_count": 563
        },
        {
          "output_type": "display_data",
          "data": {
            "text/plain": [
              "<Figure size 640x480 with 1 Axes>"
            ],
            "image/png": "[encoded data removed]"
          },
          "metadata": {}
        }
      ]
    },
    {
      "cell_type": "code",
      "source": [
        "q1 = np.percentile(df[\"Lub oil pressure\"],25, interpolation=\"midpoint\")\n",
        "q2 = np.percentile(df[\"Lub oil pressure\"],50, interpolation=\"midpoint\")\n",
        "q3 = np.percentile(df[\"Lub oil pressure\"],75, interpolation=\"midpoint\")\n",
        "\n",
        "print(q1)\n",
        "print(q2)\n",
        "print(q3)"
      ],
      "metadata": {
        "colab": {
          "base_uri": "https://localhost:8080/"
        },
        "id": "kjEing09Kl1r",
        "outputId": "80b23089-170d-424d-d2e7-3c8ae669a71d"
      },
      "execution_count": null,
      "outputs": [
        {
          "output_type": "stream",
          "name": "stdout",
          "text": [
            "2.5181868439999997\n",
            "3.160612207\n",
            "4.054674228\n"
          ]
        },
        {
          "output_type": "stream",
          "name": "stderr",
          "text": [
            "<ipython-input-564-17dacc7d9cd2>:1: DeprecationWarning: the `interpolation=` argument to percentile was renamed to `method=`, which has additional options.\n",
            "Users of the modes 'nearest', 'lower', 'higher', or 'midpoint' are encouraged to review the method they. (Deprecated NumPy 1.22)\n",
            "  q1 = np.percentile(df[\"Lub oil pressure\"],25, interpolation=\"midpoint\")\n",
            "<ipython-input-564-17dacc7d9cd2>:2: DeprecationWarning: the `interpolation=` argument to percentile was renamed to `method=`, which has additional options.\n",
            "Users of the modes 'nearest', 'lower', 'higher', or 'midpoint' are encouraged to review the method they. (Deprecated NumPy 1.22)\n",
            "  q2 = np.percentile(df[\"Lub oil pressure\"],50, interpolation=\"midpoint\")\n",
            "<ipython-input-564-17dacc7d9cd2>:3: DeprecationWarning: the `interpolation=` argument to percentile was renamed to `method=`, which has additional options.\n",
            "Users of the modes 'nearest', 'lower', 'higher', or 'midpoint' are encouraged to review the method they. (Deprecated NumPy 1.22)\n",
            "  q3 = np.percentile(df[\"Lub oil pressure\"],75, interpolation=\"midpoint\")\n"
          ]
        }
      ]
    },
    {
      "cell_type": "code",
      "source": [
        "iqr = q3-q1\n",
        "\n",
        "low_limit = q1-1.5*iqr\n",
        "upp_limit = q3+1.5*iqr\n",
        "\n",
        "print(low_limit)\n",
        "print(upp_limit)"
      ],
      "metadata": {
        "colab": {
          "base_uri": "https://localhost:8080/"
        },
        "id": "i-V80EqBKyKW",
        "outputId": "8f2b1616-e461-4faf-b5a8-7d6e74076d16"
      },
      "execution_count": null,
      "outputs": [
        {
          "output_type": "stream",
          "name": "stdout",
          "text": [
            "0.21345576799999977\n",
            "6.359405303999999\n"
          ]
        }
      ]
    },
    {
      "cell_type": "code",
      "source": [
        "outlier = []\n",
        "\n",
        "for x in df[\"Lub oil pressure\"]:\n",
        "  if ((x>upp_limit)or(x<low_limit)):\n",
        "    outlier.append(x)\n",
        "outlier"
      ],
      "metadata": {
        "colab": {
          "base_uri": "https://localhost:8080/"
        },
        "id": "aSSEHY-sK1RE",
        "outputId": "6d66e29a-41b1-4cf5-f1b6-ef8946f6d0eb"
      },
      "execution_count": null,
      "outputs": [
        {
          "output_type": "execute_result",
          "data": {
            "text/plain": [
              "[0.143224595,\n",
              " 6.45811012,\n",
              " 0.072614682,\n",
              " 0.158712284,\n",
              " 7.265565536,\n",
              " 0.126659536,\n",
              " 0.027070823,\n",
              " 0.013605747,\n",
              " 0.196882284,\n",
              " 0.052322313,\n",
              " 0.014064288,\n",
              " 0.089597014,\n",
              " 0.01866281,\n",
              " 0.004213703,\n",
              " 0.139560158,\n",
              " 0.130043074,\n",
              " 0.151722048,\n",
              " 7.051322299,\n",
              " 6.560668993,\n",
              " 0.007891068,\n",
              " 0.079414876,\n",
              " 6.643937594,\n",
              " 0.025207256,\n",
              " 0.112966164,\n",
              " 0.058794497,\n",
              " 0.017448888,\n",
              " 0.110167271,\n",
              " 0.036155578,\n",
              " 0.150336505,\n",
              " 0.063231139,\n",
              " 0.062089833,\n",
              " 0.089814153,\n",
              " 6.668045652,\n",
              " 0.054388318,\n",
              " 0.103614147,\n",
              " 0.168868564,\n",
              " 6.615158752,\n",
              " 0.074388453,\n",
              " 0.003384113,\n",
              " 0.158501698,\n",
              " 0.148360827,\n",
              " 6.826921011,\n",
              " 0.197602773,\n",
              " 0.080562204,\n",
              " 0.136916593,\n",
              " 0.12486646,\n",
              " 0.068751881,\n",
              " 0.029666923,\n",
              " 6.729323739,\n",
              " 0.012157152,\n",
              " 6.681496913,\n",
              " 0.02980383,\n",
              " 0.135279374,\n",
              " 0.135578338,\n",
              " 6.364523253,\n",
              " 0.107738542,\n",
              " 0.191380316,\n",
              " 6.659097272,\n",
              " 0.192245506,\n",
              " 0.192741064,\n",
              " 0.139909954,\n",
              " 0.040510041,\n",
              " 0.060044018]"
            ]
          },
          "metadata": {},
          "execution_count": 566
        }
      ]
    },
    {
      "cell_type": "code",
      "source": [
        "ind1 = df[\"Lub oil pressure\"]>upp_limit\n",
        "df.loc[ind1].index"
      ],
      "metadata": {
        "colab": {
          "base_uri": "https://localhost:8080/"
        },
        "id": "LP48XqErK95t",
        "outputId": "780edcd2-57e4-479e-c189-d0fee5285dc7"
      },
      "execution_count": null,
      "outputs": [
        {
          "output_type": "execute_result",
          "data": {
            "text/plain": [
              "Int64Index([440, 655, 3155, 3344, 5700, 8217, 10602, 12482, 15303, 15719,\n",
              "            16786, 17612],\n",
              "           dtype='int64')"
            ]
          },
          "metadata": {},
          "execution_count": 567
        }
      ]
    },
    {
      "cell_type": "code",
      "source": [
        "df.drop([440, 655, 3155, 3344, 5700, 8217, 10602, 12482, 15303, 15719,\n",
        "            16786, 17612],inplace=True)"
      ],
      "metadata": {
        "id": "tPSuzU4BLHC2"
      },
      "execution_count": null,
      "outputs": []
    },
    {
      "cell_type": "code",
      "source": [
        "ind1 = df[\"Lub oil pressure\"]<low_limit\n",
        "df.loc[ind1].index"
      ],
      "metadata": {
        "colab": {
          "base_uri": "https://localhost:8080/"
        },
        "id": "mlZsgyn8LOri",
        "outputId": "1f6752e2-6bf3-4fbc-b153-b76ebb0059b7"
      },
      "execution_count": null,
      "outputs": [
        {
          "output_type": "execute_result",
          "data": {
            "text/plain": [
              "Int64Index([  397,   587,   649,   854,  1101,  1117,  1388,  1455,  1569,\n",
              "             1746,  2144,  2159,  2573,  2855,  2905,  3390,  4228,  5722,\n",
              "             5778,  5912,  6031,  6418,  6494,  7164,  7207,  7860,  8203,\n",
              "            10059, 10061, 10122, 10670, 11049, 11427, 11499, 13559, 13855,\n",
              "            14034, 14467, 14807, 15104, 15542, 15971, 16484, 16589, 17046,\n",
              "            17079, 17639, 18055, 18206, 18296, 18321],\n",
              "           dtype='int64')"
            ]
          },
          "metadata": {},
          "execution_count": 569
        }
      ]
    },
    {
      "cell_type": "code",
      "source": [
        "df.drop([397,   587,   649,   854,  1101,  1117,  1388,  1455,  1569,\n",
        "             1746,  2144,  2159,  2573,  2855,  2905,  3390,  4228,  5722,\n",
        "             5778,  5912,  6031,  6418,  6494,  7164,  7207,  7860,  8203,\n",
        "            10059, 10061, 10122, 10670, 11049, 11427, 11499, 13559, 13855,\n",
        "            14034, 14467, 14807, 15104, 15542, 15971, 16484, 16589, 17046,\n",
        "            17079, 17639, 18055, 18206, 18296, 18321],inplace=True)"
      ],
      "metadata": {
        "id": "rcUUw-vuLWwU"
      },
      "execution_count": null,
      "outputs": []
    },
    {
      "cell_type": "code",
      "source": [
        "outlier = []\n",
        "\n",
        "for x in df[\"Lub oil pressure\"]:\n",
        "  if ((x>upp_limit)or(x<low_limit)):\n",
        "    outlier.append(x)\n",
        "outlier"
      ],
      "metadata": {
        "colab": {
          "base_uri": "https://localhost:8080/"
        },
        "id": "56Jauo52LcCo",
        "outputId": "5c76fa70-11a9-45e5-f5a7-7ac9823405b0"
      },
      "execution_count": null,
      "outputs": [
        {
          "output_type": "execute_result",
          "data": {
            "text/plain": [
              "[]"
            ]
          },
          "metadata": {},
          "execution_count": 571
        }
      ]
    },
    {
      "cell_type": "code",
      "source": [
        "plt.boxplot(df[\"Lub oil pressure\"])\n",
        "plt.title(\"box plot of Lub oil pressure\")"
      ],
      "metadata": {
        "colab": {
          "base_uri": "https://localhost:8080/",
          "height": 469
        },
        "id": "6S_yD0wQLfgE",
        "outputId": "8ef75038-0636-44f2-999d-7b1b2022854d"
      },
      "execution_count": null,
      "outputs": [
        {
          "output_type": "execute_result",
          "data": {
            "text/plain": [
              "Text(0.5, 1.0, 'box plot of Lub oil pressure')"
            ]
          },
          "metadata": {},
          "execution_count": 572
        },
        {
          "output_type": "display_data",
          "data": {
            "text/plain": [
              "<Figure size 640x480 with 1 Axes>"
            ],
            "image/png": "[encoded data removed]"
          },
          "metadata": {}
        }
      ]
    },
    {
      "cell_type": "code",
      "source": [
        "df.columns"
      ],
      "metadata": {
        "colab": {
          "base_uri": "https://localhost:8080/"
        },
        "id": "D1vIzWfkMH_q",
        "outputId": "552a0621-84f8-4654-87b5-f55e39df70eb"
      },
      "execution_count": null,
      "outputs": [
        {
          "output_type": "execute_result",
          "data": {
            "text/plain": [
              "Index(['Engine rpm', 'Lub oil pressure', 'Fuel pressure', 'Coolant pressure',\n",
              "       'lub oil temp', 'Coolant temp', 'Engine Condition'],\n",
              "      dtype='object')"
            ]
          },
          "metadata": {},
          "execution_count": 573
        }
      ]
    },
    {
      "cell_type": "code",
      "source": [
        "plt.boxplot(df[\"Fuel pressure\"])\n",
        "plt.title(\"box plot of Fuel pressure\")"
      ],
      "metadata": {
        "colab": {
          "base_uri": "https://localhost:8080/",
          "height": 469
        },
        "id": "BMtwEVU3MDad",
        "outputId": "bfc13425-4e0f-44a2-a66b-215430c75c91"
      },
      "execution_count": null,
      "outputs": [
        {
          "output_type": "execute_result",
          "data": {
            "text/plain": [
              "Text(0.5, 1.0, 'box plot of Fuel pressure')"
            ]
          },
          "metadata": {},
          "execution_count": 574
        },
        {
          "output_type": "display_data",
          "data": {
            "text/plain": [
              "<Figure size 640x480 with 1 Axes>"
            ],
            "image/png": "[encoded data removed]"
          },
          "metadata": {}
        }
      ]
    },
    {
      "cell_type": "code",
      "source": [
        "q1 = np.percentile(df[\"Fuel pressure\"],25, interpolation=\"midpoint\")\n",
        "q2 = np.percentile(df[\"Fuel pressure\"],50, interpolation=\"midpoint\")\n",
        "q3 = np.percentile(df[\"Fuel pressure\"],75, interpolation=\"midpoint\")\n",
        "\n",
        "print(q1)\n",
        "print(q2)\n",
        "print(q3)"
      ],
      "metadata": {
        "colab": {
          "base_uri": "https://localhost:8080/"
        },
        "id": "CZKDhjGtMNoY",
        "outputId": "caaf36c4-3445-4fc3-a58e-37fecdd8a168"
      },
      "execution_count": null,
      "outputs": [
        {
          "output_type": "stream",
          "name": "stdout",
          "text": [
            "4.9132484640000005\n",
            "6.2006177440000005\n",
            "7.7433369935\n"
          ]
        },
        {
          "output_type": "stream",
          "name": "stderr",
          "text": [
            "<ipython-input-575-e72322586ef0>:1: DeprecationWarning: the `interpolation=` argument to percentile was renamed to `method=`, which has additional options.\n",
            "Users of the modes 'nearest', 'lower', 'higher', or 'midpoint' are encouraged to review the method they. (Deprecated NumPy 1.22)\n",
            "  q1 = np.percentile(df[\"Fuel pressure\"],25, interpolation=\"midpoint\")\n",
            "<ipython-input-575-e72322586ef0>:2: DeprecationWarning: the `interpolation=` argument to percentile was renamed to `method=`, which has additional options.\n",
            "Users of the modes 'nearest', 'lower', 'higher', or 'midpoint' are encouraged to review the method they. (Deprecated NumPy 1.22)\n",
            "  q2 = np.percentile(df[\"Fuel pressure\"],50, interpolation=\"midpoint\")\n",
            "<ipython-input-575-e72322586ef0>:3: DeprecationWarning: the `interpolation=` argument to percentile was renamed to `method=`, which has additional options.\n",
            "Users of the modes 'nearest', 'lower', 'higher', or 'midpoint' are encouraged to review the method they. (Deprecated NumPy 1.22)\n",
            "  q3 = np.percentile(df[\"Fuel pressure\"],75, interpolation=\"midpoint\")\n"
          ]
        }
      ]
    },
    {
      "cell_type": "code",
      "source": [
        "iqr = q3-q1\n",
        "\n",
        "low_limit = q1-1.5*iqr\n",
        "upp_limit = q3+1.5*iqr\n",
        "\n",
        "print(low_limit)\n",
        "print(upp_limit)"
      ],
      "metadata": {
        "colab": {
          "base_uri": "https://localhost:8080/"
        },
        "id": "HROQWDciManM",
        "outputId": "f202ec88-92d4-4812-b65b-c463fcd5a2e7"
      },
      "execution_count": null,
      "outputs": [
        {
          "output_type": "stream",
          "name": "stdout",
          "text": [
            "0.6681156697500015\n",
            "11.988469787749999\n"
          ]
        }
      ]
    },
    {
      "cell_type": "code",
      "source": [
        "outlier = []\n",
        "for x in df[\"Fuel pressure\"]:\n",
        "  if((x>upp_limit)or(x<low_limit)):\n",
        "    outlier.append(x)\n",
        "  \n",
        "outlier"
      ],
      "metadata": {
        "colab": {
          "base_uri": "https://localhost:8080/"
        },
        "id": "TUAKYAD6MeF2",
        "outputId": "64289a8b-a6b3-481c-dc94-1c94166f6c19"
      },
      "execution_count": null,
      "outputs": [
        {
          "output_type": "execute_result",
          "data": {
            "text/plain": [
              "[16.19386556,\n",
              " 19.51017166,\n",
              " 15.73887141,\n",
              " 13.97116025,\n",
              " 12.31190941,\n",
              " 13.7865859,\n",
              " 17.5689917,\n",
              " 12.57025147,\n",
              " 0.314028302,\n",
              " 13.59343394,\n",
              " 15.34664402,\n",
              " 0.435527221,\n",
              " 12.93603086,\n",
              " 12.21937836,\n",
              " 12.08420404,\n",
              " 16.16594997,\n",
              " 12.82881802,\n",
              " 13.96014886,\n",
              " 13.58341972,\n",
              " 15.46040695,\n",
              " 14.47957576,\n",
              " 13.376654,\n",
              " 13.27609129,\n",
              " 13.11044077,\n",
              " 0.451073145,\n",
              " 13.13773173,\n",
              " 12.14284087,\n",
              " 13.41128319,\n",
              " 13.76926041,\n",
              " 0.625999717,\n",
              " 14.86914018,\n",
              " 18.41824809,\n",
              " 12.27024893,\n",
              " 16.37622331,\n",
              " 12.29772043,\n",
              " 17.28967956,\n",
              " 14.02751381,\n",
              " 0.095331933,\n",
              " 13.03311237,\n",
              " 14.45696642,\n",
              " 15.83335484,\n",
              " 15.39334334,\n",
              " 13.35952521,\n",
              " 13.35549411,\n",
              " 17.56316606,\n",
              " 14.10747176,\n",
              " 15.31196456,\n",
              " 14.9511731,\n",
              " 17.35775318,\n",
              " 14.19708747,\n",
              " 12.55669715,\n",
              " 12.15434602,\n",
              " 12.60632405,\n",
              " 14.28297493,\n",
              " 12.20058012,\n",
              " 12.54677803,\n",
              " 15.02987013,\n",
              " 13.96532201,\n",
              " 13.86888155,\n",
              " 12.74429434,\n",
              " 0.353161674,\n",
              " 13.81543548,\n",
              " 12.21998436,\n",
              " 18.49833096,\n",
              " 15.98042471,\n",
              " 12.76721012,\n",
              " 15.89864405,\n",
              " 0.360413366,\n",
              " 13.45282158,\n",
              " 12.01745784,\n",
              " 16.2361699,\n",
              " 13.38409959,\n",
              " 15.51327261,\n",
              " 16.68834602,\n",
              " 15.12778608,\n",
              " 13.52654734,\n",
              " 12.20688771,\n",
              " 15.46258566,\n",
              " 13.70078309,\n",
              " 12.73225083,\n",
              " 13.12484103,\n",
              " 14.54339463,\n",
              " 17.88766053,\n",
              " 14.9792274,\n",
              " 12.14829594,\n",
              " 14.53431296,\n",
              " 12.86350948,\n",
              " 12.81581202,\n",
              " 13.8743571,\n",
              " 12.00767383,\n",
              " 13.57276558,\n",
              " 13.16540639,\n",
              " 12.86920373,\n",
              " 18.61589648,\n",
              " 15.29087584,\n",
              " 12.916839,\n",
              " 12.25333967,\n",
              " 12.60580617,\n",
              " 16.52614239,\n",
              " 15.35596547,\n",
              " 12.88139158,\n",
              " 12.53454082,\n",
              " 12.28507443,\n",
              " 13.03769794,\n",
              " 12.24842822,\n",
              " 12.71198207,\n",
              " 14.3580229,\n",
              " 13.61420633,\n",
              " 0.317907599,\n",
              " 12.13574984,\n",
              " 13.94344149,\n",
              " 14.30077651,\n",
              " 12.28806777,\n",
              " 12.49930084,\n",
              " 14.16144645,\n",
              " 12.18262837,\n",
              " 12.39294577,\n",
              " 12.75354329,\n",
              " 17.31629955,\n",
              " 13.41302171,\n",
              " 15.3690659,\n",
              " 14.93502237,\n",
              " 0.39227027,\n",
              " 16.56635434,\n",
              " 16.55449227,\n",
              " 14.05924002,\n",
              " 12.21772974,\n",
              " 12.89386452,\n",
              " 16.2075838,\n",
              " 14.52046699,\n",
              " 16.08408331,\n",
              " 14.79662373,\n",
              " 14.20687213,\n",
              " 13.79490598,\n",
              " 12.93419061,\n",
              " 18.34510535,\n",
              " 12.51508636,\n",
              " 14.11764982,\n",
              " 13.36995812,\n",
              " 16.84128453,\n",
              " 17.64939075,\n",
              " 12.53742762,\n",
              " 18.72016806,\n",
              " 0.376681238,\n",
              " 12.62907656,\n",
              " 0.461502005,\n",
              " 15.22929807,\n",
              " 0.5809208,\n",
              " 13.10971559,\n",
              " 12.20428728,\n",
              " 0.571909576,\n",
              " 14.81218845,\n",
              " 15.40795801,\n",
              " 12.68755871,\n",
              " 15.41280423,\n",
              " 15.31665724,\n",
              " 12.20315112,\n",
              " 12.02869874,\n",
              " 12.90472019,\n",
              " 12.56578745,\n",
              " 12.24347078,\n",
              " 13.31648207,\n",
              " 14.02773671,\n",
              " 13.23648642,\n",
              " 13.29660687,\n",
              " 14.85705612,\n",
              " 12.34896835,\n",
              " 12.30499044,\n",
              " 12.07612535,\n",
              " 17.66702333,\n",
              " 16.45837526,\n",
              " 12.21535239,\n",
              " 15.00123557,\n",
              " 15.52044745,\n",
              " 12.74545838,\n",
              " 13.25188957,\n",
              " 16.24970946,\n",
              " 0.449208566,\n",
              " 17.179589,\n",
              " 12.79966288,\n",
              " 12.4394631,\n",
              " 13.39081259,\n",
              " 13.1327418,\n",
              " 14.79536963,\n",
              " 13.3431967,\n",
              " 13.13221701,\n",
              " 12.63864452,\n",
              " 12.60888745,\n",
              " 12.44900553,\n",
              " 14.99156403,\n",
              " 13.99531364,\n",
              " 12.28329334,\n",
              " 12.4263972,\n",
              " 14.45867511,\n",
              " 12.3501977,\n",
              " 13.18201883,\n",
              " 15.86792467,\n",
              " 12.00901201,\n",
              " 12.62261864,\n",
              " 11.99438923,\n",
              " 12.8125709,\n",
              " 16.74778839,\n",
              " 12.69441498,\n",
              " 13.7838342,\n",
              " 12.29270989,\n",
              " 12.9529414,\n",
              " 12.0951616,\n",
              " 12.08205554,\n",
              " 17.68131547,\n",
              " 14.00443354,\n",
              " 15.06710929,\n",
              " 13.78256904,\n",
              " 13.36280524,\n",
              " 14.24186261,\n",
              " 15.0326079,\n",
              " 12.91754252,\n",
              " 19.13726344,\n",
              " 15.9517108,\n",
              " 13.02602304,\n",
              " 12.43856,\n",
              " 12.88803235,\n",
              " 12.68095674,\n",
              " 13.80996039,\n",
              " 13.53049864,\n",
              " 18.20161034,\n",
              " 0.198997685,\n",
              " 12.13455611,\n",
              " 16.21390097,\n",
              " 18.75155795,\n",
              " 12.85025866,\n",
              " 16.4248639,\n",
              " 16.19625899,\n",
              " 17.99504481,\n",
              " 17.36630569,\n",
              " 15.78079991,\n",
              " 11.99406058,\n",
              " 12.45196608,\n",
              " 12.13676308,\n",
              " 18.6709784,\n",
              " 18.22365971,\n",
              " 14.43714029,\n",
              " 12.03562935,\n",
              " 16.28346976,\n",
              " 12.18144055,\n",
              " 17.48203714,\n",
              " 14.64962201,\n",
              " 13.84687913,\n",
              " 0.115284864,\n",
              " 17.43503347,\n",
              " 15.82361849,\n",
              " 13.71680894,\n",
              " 13.1481078,\n",
              " 14.86330939,\n",
              " 14.66338477,\n",
              " 14.61044734,\n",
              " 15.45976975,\n",
              " 12.73951834,\n",
              " 15.54498837,\n",
              " 12.93983187,\n",
              " 14.13185565,\n",
              " 12.31967894,\n",
              " 15.73709973,\n",
              " 15.12360613,\n",
              " 13.78879959,\n",
              " 12.4012705,\n",
              " 17.86892133,\n",
              " 13.80014318,\n",
              " 13.30328276,\n",
              " 12.46760765,\n",
              " 14.58835406,\n",
              " 12.11170795,\n",
              " 13.76908294,\n",
              " 14.07238966,\n",
              " 12.26447754,\n",
              " 18.51834456,\n",
              " 13.8795513,\n",
              " 12.7151717,\n",
              " 0.666496219,\n",
              " 14.77146288,\n",
              " 14.61635051,\n",
              " 15.33933653,\n",
              " 13.66661741,\n",
              " 18.27158042,\n",
              " 16.4417969,\n",
              " 13.7308259,\n",
              " 17.32485569,\n",
              " 14.97374549,\n",
              " 18.59656914,\n",
              " 13.66845148,\n",
              " 16.79634963,\n",
              " 17.62938744,\n",
              " 15.65932035,\n",
              " 18.40439266,\n",
              " 13.0888004,\n",
              " 16.80582765,\n",
              " 17.3682191,\n",
              " 15.78877246,\n",
              " 12.00628118,\n",
              " 13.46595036,\n",
              " 21.13832551,\n",
              " 12.51195093,\n",
              " 0.56835087,\n",
              " 15.00855245,\n",
              " 12.91376889,\n",
              " 12.77724615,\n",
              " 0.431446751,\n",
              " 12.80931821,\n",
              " 12.51593062,\n",
              " 17.78670639,\n",
              " 16.66226086,\n",
              " 13.46706152,\n",
              " 15.62316661,\n",
              " 12.14191631,\n",
              " 0.199516973,\n",
              " 16.32532891,\n",
              " 13.65294642,\n",
              " 12.25070953,\n",
              " 14.63753614,\n",
              " 17.29049968,\n",
              " 14.18968276,\n",
              " 12.44109009,\n",
              " 12.89427826,\n",
              " 14.46430632,\n",
              " 15.76675823,\n",
              " 12.42793221,\n",
              " 12.13152867,\n",
              " 0.126478781,\n",
              " 0.431310487,\n",
              " 12.29948665,\n",
              " 12.23229615,\n",
              " 0.226974798,\n",
              " 12.66540209,\n",
              " 12.16487249,\n",
              " 13.08487894,\n",
              " 12.69990317,\n",
              " 13.65316841,\n",
              " 12.98958758,\n",
              " 14.6514158,\n",
              " 12.01836433,\n",
              " 12.3160808,\n",
              " 16.44459736,\n",
              " 14.55967468,\n",
              " 12.46091661,\n",
              " 12.99334376,\n",
              " 12.49572952,\n",
              " 13.79503756,\n",
              " 15.2908922,\n",
              " 12.1075863,\n",
              " 13.52943276,\n",
              " 12.32969327,\n",
              " 15.07301276,\n",
              " 14.99540872,\n",
              " 16.86144289,\n",
              " 18.16840153,\n",
              " 17.71175078,\n",
              " 13.94723939,\n",
              " 14.55441991,\n",
              " 18.49665499,\n",
              " 12.02872734,\n",
              " 13.59331447,\n",
              " 13.70593458,\n",
              " 12.47226822,\n",
              " 17.21518792,\n",
              " 16.21740859,\n",
              " 13.26489944,\n",
              " 16.40004102,\n",
              " 15.64553366,\n",
              " 16.57326055,\n",
              " 17.21850414,\n",
              " 13.3844322,\n",
              " 12.69105696,\n",
              " 12.41555461,\n",
              " 13.46339513,\n",
              " 14.87033735,\n",
              " 15.98033294,\n",
              " 12.79553484,\n",
              " 15.70032212,\n",
              " 17.53244668,\n",
              " 15.16261696,\n",
              " 12.97877496,\n",
              " 12.13853925,\n",
              " 15.49967975,\n",
              " 0.569215524,\n",
              " 14.16830845,\n",
              " 12.37709659,\n",
              " 15.95630414,\n",
              " 14.46928458,\n",
              " 18.15762003,\n",
              " 17.2041593,\n",
              " 15.1850034,\n",
              " 15.77178767,\n",
              " 12.41410327,\n",
              " 16.94601583,\n",
              " 12.09133308,\n",
              " 12.73410344,\n",
              " 17.02873048,\n",
              " 15.8345508,\n",
              " 19.2269376,\n",
              " 19.13814413,\n",
              " 13.88862986,\n",
              " 13.72090602,\n",
              " 17.69823031,\n",
              " 13.21111599,\n",
              " 16.34256628,\n",
              " 14.72189466,\n",
              " 13.78686634,\n",
              " 13.6071172,\n",
              " 12.41123793,\n",
              " 17.02322404,\n",
              " 14.61077139,\n",
              " 14.42198563,\n",
              " 16.43424955,\n",
              " 14.42281725,\n",
              " 0.045126043,\n",
              " 15.54345806,\n",
              " 13.7398604,\n",
              " 12.29362812,\n",
              " 13.42342782,\n",
              " 12.94994416,\n",
              " 16.37338045,\n",
              " 14.52838261,\n",
              " 14.55064972,\n",
              " 17.77776441,\n",
              " 15.38222144,\n",
              " 15.34962468,\n",
              " 15.40508517,\n",
              " 18.86116757,\n",
              " 13.94880376,\n",
              " 13.05272298,\n",
              " 14.43788288,\n",
              " 14.06645226,\n",
              " 14.75337571,\n",
              " 14.17227292,\n",
              " 13.16206716,\n",
              " 15.85510802,\n",
              " 15.46395878,\n",
              " 0.003187131,\n",
              " 14.50001214,\n",
              " 13.88367401,\n",
              " 15.8399891,\n",
              " 14.08179727,\n",
              " 14.55700566,\n",
              " 11.99883921,\n",
              " 16.9306201,\n",
              " 14.88549806,\n",
              " 16.227151,\n",
              " 15.82820426,\n",
              " 17.33518775,\n",
              " 13.13086292,\n",
              " 12.2276052,\n",
              " 12.2177211,\n",
              " 13.8969575,\n",
              " 12.36988107,\n",
              " 19.85891723,\n",
              " 12.33836805,\n",
              " 13.41738367,\n",
              " 13.32514981,\n",
              " 18.04468571,\n",
              " 14.20305696,\n",
              " 13.97708792,\n",
              " 13.94429068,\n",
              " 13.99538496,\n",
              " 12.82883461,\n",
              " 13.1796366,\n",
              " 17.78581601,\n",
              " 12.21937115,\n",
              " 14.51422342,\n",
              " 15.36371482,\n",
              " 15.12739964,\n",
              " 14.5542909,\n",
              " 12.77393977,\n",
              " 0.568141272,\n",
              " 12.19896676,\n",
              " 12.61107627,\n",
              " 15.8331589,\n",
              " 12.74520565,\n",
              " 13.62278292,\n",
              " 13.09967775,\n",
              " 0.464514665,\n",
              " 16.83200881,\n",
              " 13.0776305,\n",
              " 13.70282688,\n",
              " 12.58405239,\n",
              " 14.53602021,\n",
              " 15.15064284,\n",
              " 15.12846204,\n",
              " 15.05317057,\n",
              " 12.5888095,\n",
              " 13.68679183,\n",
              " 12.6012095,\n",
              " 16.66110852,\n",
              " 12.92653363,\n",
              " 16.51134782,\n",
              " 17.39891425,\n",
              " 12.33855287,\n",
              " 13.52541233,\n",
              " 15.27769335,\n",
              " 0.048739749,\n",
              " 14.78498487,\n",
              " 12.02220418,\n",
              " 13.01594719,\n",
              " 16.1493701,\n",
              " 18.82593571,\n",
              " 16.151676,\n",
              " 12.3142633,\n",
              " 12.99733571,\n",
              " 0.050258467,\n",
              " 12.56111385,\n",
              " 15.86377137,\n",
              " 14.50859584,\n",
              " 19.07674171,\n",
              " 12.90518234,\n",
              " 14.68113698,\n",
              " 15.44173134,\n",
              " 12.69716865,\n",
              " 13.47269348,\n",
              " 12.0475244,\n",
              " 17.95876508,\n",
              " 14.89758939,\n",
              " 13.64977618,\n",
              " 0.435693215,\n",
              " 12.45929045,\n",
              " 16.34595518,\n",
              " 18.78629677,\n",
              " 17.44267439,\n",
              " 14.47557782,\n",
              " 15.18635472,\n",
              " 12.54166467,\n",
              " 14.02218227,\n",
              " 16.1673228,\n",
              " 13.21709593,\n",
              " 12.95225605,\n",
              " 12.81010365,\n",
              " 15.50178032,\n",
              " 15.66056022,\n",
              " 12.7667245,\n",
              " 15.75650975,\n",
              " 12.47323714,\n",
              " 13.77960973,\n",
              " 17.17198866,\n",
              " 13.88828764,\n",
              " 14.27441545,\n",
              " 12.53126455,\n",
              " 16.15395102,\n",
              " 18.91680795,\n",
              " 0.599029963,\n",
              " 12.04524108,\n",
              " 13.46725807,\n",
              " 14.85526385,\n",
              " 12.4693236,\n",
              " 12.16060819,\n",
              " 15.79846399,\n",
              " 12.05288724,\n",
              " 12.39896694,\n",
              " 14.07910916,\n",
              " 15.11873477,\n",
              " 12.806922,\n",
              " 12.15710776,\n",
              " 17.64107325,\n",
              " 14.72589986,\n",
              " 15.92286849,\n",
              " 12.14488152,\n",
              " 12.26111434,\n",
              " 15.28807084,\n",
              " 12.38280405,\n",
              " 15.7275996,\n",
              " 15.14942477,\n",
              " 13.80646383,\n",
              " 15.86639134,\n",
              " 14.96865517,\n",
              " 13.1307127,\n",
              " 14.21674825,\n",
              " 12.98935082,\n",
              " 15.8830127,\n",
              " 0.666337657,\n",
              " 13.51455793,\n",
              " 12.15346132,\n",
              " 13.44573566,\n",
              " 13.91588553,\n",
              " 14.66370337,\n",
              " 14.08773496,\n",
              " 14.89351907,\n",
              " 17.17920135,\n",
              " 16.44408191,\n",
              " 0.5229583,\n",
              " 17.88234247,\n",
              " 16.18190022,\n",
              " 12.67257518,\n",
              " 14.715238,\n",
              " 15.99522079,\n",
              " 13.66696372,\n",
              " 12.69454134,\n",
              " 12.30689219,\n",
              " 12.6668613,\n",
              " 13.67990061,\n",
              " 15.16993263,\n",
              " 12.47290465,\n",
              " 15.85214856,\n",
              " 13.06191102,\n",
              " 12.07143759,\n",
              " 14.99715557,\n",
              " 13.56409707,\n",
              " 13.3981076,\n",
              " 12.32098133,\n",
              " 18.22316606,\n",
              " 16.04455521,\n",
              " 14.9990823,\n",
              " 12.98290176,\n",
              " 13.11553341,\n",
              " 12.89066541,\n",
              " 12.96332078,\n",
              " 12.40312213,\n",
              " 17.22647336,\n",
              " 14.4146636,\n",
              " 12.15411764,\n",
              " 12.35975398,\n",
              " 12.24044049,\n",
              " 14.95024335,\n",
              " 12.25597114,\n",
              " 14.79042771,\n",
              " 12.69488235,\n",
              " 15.91922217,\n",
              " 12.42413991,\n",
              " 15.58308429,\n",
              " 0.629104541,\n",
              " 12.79427265,\n",
              " 14.43163506,\n",
              " 18.01465744,\n",
              " 14.85150365,\n",
              " 15.90736525,\n",
              " 14.21308042,\n",
              " 17.41690299,\n",
              " 13.7268101,\n",
              " 15.41992335,\n",
              " 12.13457989,\n",
              " 12.78000148,\n",
              " 13.57991271,\n",
              " 16.18050075,\n",
              " 12.61191367,\n",
              " 12.94964631,\n",
              " 13.61785857,\n",
              " 12.80995594,\n",
              " 14.92976306,\n",
              " 14.00168744,\n",
              " 16.16346599,\n",
              " 12.32116169,\n",
              " 15.56363278,\n",
              " 16.35762887,\n",
              " 12.65763674,\n",
              " 13.65354031,\n",
              " 0.63097804,\n",
              " 14.00460586,\n",
              " 15.00509541,\n",
              " 15.88118046,\n",
              " 16.36512746,\n",
              " 12.58846705,\n",
              " 13.94316604,\n",
              " 12.2434073,\n",
              " 15.55588131,\n",
              " 12.88790312,\n",
              " 15.31761092,\n",
              " 16.36373132,\n",
              " 12.26348956,\n",
              " 12.26489381,\n",
              " 0.218263352,\n",
              " 12.26854122,\n",
              " 11.99638415,\n",
              " 13.0419368,\n",
              " 19.55891794,\n",
              " 13.72846018,\n",
              " 13.00051353,\n",
              " 14.89365233,\n",
              " 13.23024996,\n",
              " 12.29456109,\n",
              " 15.66960032,\n",
              " 12.0084827,\n",
              " 12.7831553,\n",
              " 13.63393162,\n",
              " 18.1002843,\n",
              " 12.80993126,\n",
              " 0.297225287,\n",
              " 15.56340837,\n",
              " 14.23360841,\n",
              " 12.50072866,\n",
              " 12.82479639,\n",
              " 14.04832573,\n",
              " 12.0635247,\n",
              " 16.16725042,\n",
              " 12.31288099,\n",
              " 16.35634751,\n",
              " 12.89670524,\n",
              " 12.11895716,\n",
              " 16.15248492,\n",
              " 12.93556063,\n",
              " 19.71728051,\n",
              " 17.00084093,\n",
              " 14.04709191,\n",
              " 12.34793275,\n",
              " 12.44546266,\n",
              " 15.71160604,\n",
              " 13.90453105,\n",
              " 13.86776843,\n",
              " 12.60115915,\n",
              " 13.46346531,\n",
              " 13.50813113,\n",
              " 12.15206868,\n",
              " 18.66357006,\n",
              " 14.68177085,\n",
              " 13.83742064,\n",
              " 13.30933206,\n",
              " 18.28501912,\n",
              " 16.13107427,\n",
              " 12.64792214,\n",
              " 12.08312682,\n",
              " 15.08981432,\n",
              " 12.46941771,\n",
              " 15.03390592,\n",
              " 13.71734979,\n",
              " 14.20979085,\n",
              " 15.39717137,\n",
              " 12.11350862,\n",
              " 13.67743101,\n",
              " 18.52932654,\n",
              " 12.64491475,\n",
              " 14.27803846,\n",
              " 13.89448336,\n",
              " 13.32249411,\n",
              " 13.67998949,\n",
              " 16.20179571,\n",
              " 12.1944388,\n",
              " 16.75835062,\n",
              " 14.29339512,\n",
              " 14.66783426,\n",
              " 17.29971058,\n",
              " 13.46655991,\n",
              " 15.26907603,\n",
              " 13.06746066,\n",
              " 13.206178,\n",
              " 13.13767795,\n",
              " 12.4075411,\n",
              " 0.649491533,\n",
              " 16.39334711,\n",
              " 12.05109514,\n",
              " 0.588091725,\n",
              " 16.87699429,\n",
              " 12.24596063,\n",
              " 18.69047231,\n",
              " 14.02329146,\n",
              " 15.84544617,\n",
              " 17.93505307,\n",
              " 14.28717714,\n",
              " 13.78109703,\n",
              " 12.61343521,\n",
              " 14.70444288,\n",
              " 18.21288003,\n",
              " 12.02481748,\n",
              " 14.95296083,\n",
              " 12.1796376,\n",
              " 12.50267252,\n",
              " 13.66020076,\n",
              " 13.81791538,\n",
              " 15.01894448,\n",
              " 15.60772454,\n",
              " 13.05748743,\n",
              " 12.41727284,\n",
              " 15.78600743,\n",
              " 16.26800286,\n",
              " 14.20575915,\n",
              " 14.34056809,\n",
              " 16.90682571,\n",
              " 12.89016757,\n",
              " 12.04204097,\n",
              " 14.66554955,\n",
              " 13.01625931,\n",
              " 18.09114668,\n",
              " 13.37590838,\n",
              " 16.47267134,\n",
              " 12.53400605,\n",
              " 14.00198999,\n",
              " 15.31074589,\n",
              " 13.43169035,\n",
              " 12.06510091,\n",
              " 18.65354206,\n",
              " 13.14721094,\n",
              " 12.93688334,\n",
              " 12.23884783,\n",
              " 15.33234492,\n",
              " 12.02127587,\n",
              " 13.55582591,\n",
              " 15.78957774,\n",
              " 14.3277787,\n",
              " 12.26181503,\n",
              " 0.404058792,\n",
              " 12.8263239,\n",
              " 17.76136806,\n",
              " 0.512340653,\n",
              " 12.06151614,\n",
              " 18.42002522,\n",
              " 13.70111607,\n",
              " 14.05551889,\n",
              " 17.78273298,\n",
              " 18.73122212,\n",
              " 16.3498671,\n",
              " 13.7420114,\n",
              " 14.61428839,\n",
              " 0.173520387,\n",
              " 0.618633564,\n",
              " 14.02582617,\n",
              " 12.15290805,\n",
              " 12.62457218,\n",
              " 15.79077279,\n",
              " 12.72050634,\n",
              " 16.07026059,\n",
              " 18.15146974,\n",
              " 13.19055226,\n",
              " 13.27443848,\n",
              " 12.07841956,\n",
              " 12.21217727,\n",
              " 13.85954723,\n",
              " 17.09087609,\n",
              " 14.38895792,\n",
              " 16.84842394,\n",
              " 12.35521815,\n",
              " 12.71183986,\n",
              " 0.029335341,\n",
              " 14.30072654,\n",
              " 14.47097661,\n",
              " 13.47851352,\n",
              " 13.2525469,\n",
              " 17.7936229,\n",
              " 14.6927289,\n",
              " 12.81161655,\n",
              " 12.51245313,\n",
              " 13.00786311,\n",
              " 14.21951797,\n",
              " 14.43148576,\n",
              " 12.96862805,\n",
              " 12.41942596,\n",
              " 13.79398591,\n",
              " 14.27297737,\n",
              " 12.72275599,\n",
              " 12.51501328,\n",
              " 12.53871288,\n",
              " 12.95676065,\n",
              " 12.10256145,\n",
              " 12.95926569,\n",
              " 12.01499934,\n",
              " 13.67451471,\n",
              " 17.02568258,\n",
              " 14.71173613,\n",
              " 12.58086382,\n",
              " 12.97621512,\n",
              " 12.66721433,\n",
              " 0.301873604,\n",
              " 16.51413799,\n",
              " 16.44408736,\n",
              " 12.76904573,\n",
              " 15.57755453,\n",
              " 16.56563476,\n",
              " 18.04508002,\n",
              " 0.620876212,\n",
              " 13.75657686,\n",
              " 0.590956726,\n",
              " 13.4220927,\n",
              " 14.55964712,\n",
              " 11.99561745,\n",
              " 12.86071435,\n",
              " 13.37655906,\n",
              " 15.78746566,\n",
              " 14.93506628,\n",
              " 13.19194446,\n",
              " 12.54459493,\n",
              " 12.96621339,\n",
              " 13.04345005,\n",
              " 13.50897593,\n",
              " 12.16770187,\n",
              " 12.74947441,\n",
              " 12.41588813,\n",
              " 12.68387312,\n",
              " 12.21709644,\n",
              " 13.49230626,\n",
              " 14.01645203,\n",
              " 12.36161162,\n",
              " 13.06459504,\n",
              " 16.95408863,\n",
              " 12.35941604,\n",
              " 12.28186069,\n",
              " 14.76667359,\n",
              " 14.21544205,\n",
              " 14.37235108,\n",
              " 14.88128632,\n",
              " 12.53543618,\n",
              " 13.48928275,\n",
              " 16.15459912,\n",
              " 0.41355115,\n",
              " 18.76422196,\n",
              " 13.29352218,\n",
              " 12.45724377,\n",
              " 15.08401654,\n",
              " 12.16128752,\n",
              " 12.06092083,\n",
              " 12.0208984,\n",
              " 16.19259874,\n",
              " 13.86406363,\n",
              " 14.74318387,\n",
              " 12.1440663,\n",
              " 14.08468586,\n",
              " 14.0131926,\n",
              " 17.0376567,\n",
              " 15.77631317,\n",
              " 15.49929119,\n",
              " 12.44618067,\n",
              " 12.60002407,\n",
              " 0.442148633,\n",
              " 18.46907859,\n",
              " 13.74927103,\n",
              " 12.08696514,\n",
              " 13.03693673,\n",
              " 12.05199502,\n",
              " 13.23634998,\n",
              " 13.66311222,\n",
              " 14.55865316,\n",
              " 15.84157694,\n",
              " 15.04344966,\n",
              " 12.36936659,\n",
              " 0.243063297,\n",
              " 15.85783974,\n",
              " 15.20614754,\n",
              " 15.97146183,\n",
              " 13.35489144,\n",
              " 15.25467698,\n",
              " 12.27015011,\n",
              " 14.17804375,\n",
              " 12.0216751,\n",
              " 13.08866094,\n",
              " 13.18324961,\n",
              " 12.74038482,\n",
              " 12.06133805,\n",
              " 12.28087132,\n",
              " 17.7111263,\n",
              " 12.09446627,\n",
              " 14.46716553,\n",
              " 13.84070476,\n",
              " 17.96444657,\n",
              " 14.83964704,\n",
              " 16.07293628,\n",
              " 13.59340668,\n",
              " 12.03141559,\n",
              " 13.65429744,\n",
              " 15.00622807,\n",
              " 13.77090761,\n",
              " 12.5573289,\n",
              " 0.050702934,\n",
              " 12.77264274,\n",
              " 14.3261645,\n",
              " 18.50018138,\n",
              " 16.61676993,\n",
              " 13.47917222,\n",
              " 0.316456269,\n",
              " 12.64529309,\n",
              " 17.23548135,\n",
              " 13.62922729,\n",
              " 17.23816704,\n",
              " 12.10129858,\n",
              " 15.29177682,\n",
              " 14.96286921,\n",
              " 12.19079128,\n",
              " 13.32820103,\n",
              " 12.66832624,\n",
              " 16.92613609,\n",
              " 13.07715881,\n",
              " 14.02151524,\n",
              " 18.07476971,\n",
              " 12.96754442,\n",
              " 12.55918409,\n",
              " 16.43670082,\n",
              " 13.08791229,\n",
              " 13.1394398,\n",
              " 17.50007797,\n",
              " 12.02719291,\n",
              " 0.280569436,\n",
              " 17.33376133,\n",
              " 0.161181361,\n",
              " 12.9566009,\n",
              " 13.63216327,\n",
              " 15.4257823,\n",
              " 0.326801389,\n",
              " 14.88313795,\n",
              " 16.91125036,\n",
              " 13.78868419,\n",
              " 0.648874136,\n",
              " 12.88477401,\n",
              " 15.14562218,\n",
              " 15.56299134,\n",
              " 12.75760808,\n",
              " 17.32980004,\n",
              " 14.7795387,\n",
              " 15.83805418,\n",
              " 15.32520854,\n",
              " 12.55097403,\n",
              " ...]"
            ]
          },
          "metadata": {},
          "execution_count": 577
        }
      ]
    },
    {
      "cell_type": "code",
      "source": [
        "ind1 = df[\"Fuel pressure\"]>upp_limit\n",
        "a = df.loc[ind1].index\n",
        "a[:100]"
      ],
      "metadata": {
        "colab": {
          "base_uri": "https://localhost:8080/"
        },
        "id": "vziczhITMjgu",
        "outputId": "1f2b246f-f6f3-4a33-e754-d6bb46b96413"
      },
      "execution_count": null,
      "outputs": [
        {
          "output_type": "execute_result",
          "data": {
            "text/plain": [
              "Int64Index([   1,    3,    4,   29,   32,   54,   71,   89,  107,  109,  139,\n",
              "             174,  176,  203,  205,  288,  315,  322,  346,  347,  390,  391,\n",
              "             418,  442,  454,  485,  517,  523,  524,  556,  564,  586,  597,\n",
              "             638,  650,  669,  675,  697,  750,  773,  820,  928,  944,  963,\n",
              "            1053, 1120, 1122, 1130, 1134, 1168, 1178, 1179, 1214, 1230, 1237,\n",
              "            1260, 1266, 1285, 1295, 1312, 1328, 1351, 1354, 1375, 1393, 1395,\n",
              "            1425, 1481, 1494, 1498, 1520, 1544, 1557, 1564, 1588, 1610, 1639,\n",
              "            1657, 1711, 1770, 1783, 1796, 1831, 1842, 1864, 1889, 1918, 1923,\n",
              "            1933, 1937, 1946, 1949, 1997, 2004, 2059, 2061, 2143, 2147, 2191,\n",
              "            2221],\n",
              "           dtype='int64')"
            ]
          },
          "metadata": {},
          "execution_count": 578
        }
      ]
    },
    {
      "cell_type": "code",
      "source": [
        "df.drop([ 1,    3,    4,   29,   32,   54,   71,   89,  107,  109,  139,\n",
        "             174,  176,  203,  205,  288,  315,  322,  346,  347,  390,  391,\n",
        "             418,  442,  454,  485,  517,  523,  524,  556,  564,  586,  597,\n",
        "             638,  650,  669,  675,  697,  750,  773,  820,  928,  944,  963,\n",
        "            1053, 1120, 1122, 1130, 1134, 1168, 1178, 1179, 1214, 1230, 1237,\n",
        "            1260, 1266, 1285, 1295, 1312, 1328, 1351, 1354, 1375, 1393, 1395,\n",
        "            1425, 1481, 1494, 1498, 1520, 1544, 1557, 1564, 1588, 1610, 1639,\n",
        "            1657, 1711, 1770, 1783, 1796, 1831, 1842, 1864, 1889, 1918, 1923,\n",
        "            1933, 1937, 1946, 1949, 1997, 2004, 2059, 2061, 2143, 2147, 2191,\n",
        "            222],inplace=True)"
      ],
      "metadata": {
        "id": "exvQZDlUMtIb"
      },
      "execution_count": null,
      "outputs": []
    },
    {
      "cell_type": "code",
      "source": [
        "a[100:200]"
      ],
      "metadata": {
        "colab": {
          "base_uri": "https://localhost:8080/"
        },
        "id": "jzMYZPX8M9Z_",
        "outputId": "7e155e97-8e07-4678-f4e1-33a40a0ad498"
      },
      "execution_count": null,
      "outputs": [
        {
          "output_type": "execute_result",
          "data": {
            "text/plain": [
              "Int64Index([2223, 2238, 2240, 2249, 2268, 2283, 2310, 2312, 2330, 2342, 2357,\n",
              "            2373, 2397, 2411, 2442, 2480, 2482, 2507, 2546, 2555, 2594, 2598,\n",
              "            2606, 2608, 2614, 2631, 2636, 2642, 2647, 2655, 2680, 2684, 2694,\n",
              "            2704, 2752, 2772, 2845, 2846, 2877, 2882, 2889, 2894, 2901, 2911,\n",
              "            2928, 2965, 2982, 3096, 3103, 3111, 3144, 3182, 3221, 3223, 3241,\n",
              "            3256, 3316, 3317, 3331, 3349, 3360, 3369, 3414, 3416, 3427, 3446,\n",
              "            3454, 3467, 3493, 3543, 3551, 3563, 3686, 3730, 3738, 3739, 3761,\n",
              "            3767, 3784, 3847, 3855, 3868, 3885, 3900, 3925, 3941, 3951, 3954,\n",
              "            3974, 4036, 4043, 4059, 4086, 4089, 4097, 4133, 4134, 4185, 4186,\n",
              "            4197],\n",
              "           dtype='int64')"
            ]
          },
          "metadata": {},
          "execution_count": 580
        }
      ]
    },
    {
      "cell_type": "code",
      "source": [
        "df.drop([ 2223, 2238, 2240, 2249, 2268, 2283, 2310, 2312, 2330, 2342, 2357,\n",
        "            2373, 2397, 2411, 2442, 2480, 2482, 2507, 2546, 2555, 2594, 2598,\n",
        "            2606, 2608, 2614, 2631, 2636, 2642, 2647, 2655, 2680, 2684, 2694,\n",
        "            2704, 2752, 2772, 2845, 2846, 2877, 2882, 2889, 2894, 2901, 2911,\n",
        "            2928, 2965, 2982, 3096, 3103, 3111, 3144, 3182, 3221, 3223, 3241,\n",
        "            3256, 3316, 3317, 3331, 3349, 3360, 3369, 3414, 3416, 3427, 3446,\n",
        "            3454, 3467, 3493, 3543, 3551, 3563, 3686, 3730, 3738, 3739, 3761,\n",
        "            3767, 3784, 3847, 3855, 3868, 3885, 3900, 3925, 3941, 3951, 3954,\n",
        "            3974, 4036, 4043, 4059, 4086, 4089, 4097, 4133, 4134, 4185, 4186,\n",
        "            4197],inplace=True)"
      ],
      "metadata": {
        "id": "B5M9iWxDM_Tu"
      },
      "execution_count": null,
      "outputs": []
    },
    {
      "cell_type": "code",
      "source": [
        "a[200:300]"
      ],
      "metadata": {
        "colab": {
          "base_uri": "https://localhost:8080/"
        },
        "id": "5otuY6KzNEfo",
        "outputId": "2e044941-3f94-4557-c609-1e5dae3f9805"
      },
      "execution_count": null,
      "outputs": [
        {
          "output_type": "execute_result",
          "data": {
            "text/plain": [
              "Int64Index([4223, 4232, 4246, 4253, 4279, 4296, 4305, 4317, 4340, 4348, 4352,\n",
              "            4384, 4385, 4392, 4409, 4430, 4455, 4485, 4498, 4509, 4511, 4551,\n",
              "            4554, 4576, 4594, 4611, 4614, 4615, 4628, 4638, 4643, 4686, 4718,\n",
              "            4720, 4743, 4744, 4750, 4766, 4794, 4811, 4881, 4933, 4961, 4970,\n",
              "            4975, 4986, 5007, 5019, 5044, 5068, 5084, 5131, 5234, 5264, 5268,\n",
              "            5287, 5289, 5336, 5337, 5351, 5372, 5378, 5423, 5427, 5447, 5449,\n",
              "            5459, 5535, 5538, 5543, 5562, 5610, 5615, 5630, 5652, 5666, 5693,\n",
              "            5736, 5747, 5749, 5750, 5761, 5764, 5770, 5810, 5858, 5873, 5905,\n",
              "            5911, 5923, 5926, 5931, 5936, 5969, 6006, 6124, 6136, 6167, 6171,\n",
              "            6201],\n",
              "           dtype='int64')"
            ]
          },
          "metadata": {},
          "execution_count": 582
        }
      ]
    },
    {
      "cell_type": "code",
      "source": [
        "df.drop([4223, 4232, 4246, 4253, 4279, 4296, 4305, 4317, 4340, 4348, 4352,\n",
        "            4384, 4385, 4392, 4409, 4430, 4455, 4485, 4498, 4509, 4511, 4551,\n",
        "            4554, 4576, 4594, 4611, 4614, 4615, 4628, 4638, 4643, 4686, 4718,\n",
        "            4720, 4743, 4744, 4750, 4766, 4794, 4811, 4881, 4933, 4961, 4970,\n",
        "            4975, 4986, 5007, 5019, 5044, 5068, 5084, 5131, 5234, 5264, 5268,\n",
        "            5287, 5289, 5336, 5337, 5351, 5372, 5378, 5423, 5427, 5447, 5449,\n",
        "            5459, 5535, 5538, 5543, 5562, 5610, 5615, 5630, 5652, 5666, 5693,\n",
        "            5736, 5747, 5749, 5750, 5761, 5764, 5770, 5810, 5858, 5873, 5905,\n",
        "            5911, 5923, 5926, 5931, 5936, 5969, 6006, 6124, 6136, 6167, 6171,\n",
        "            6201],inplace=True)"
      ],
      "metadata": {
        "id": "E6NgAiQLNG91"
      },
      "execution_count": null,
      "outputs": []
    },
    {
      "cell_type": "code",
      "source": [
        "a[300:400]"
      ],
      "metadata": {
        "colab": {
          "base_uri": "https://localhost:8080/"
        },
        "id": "uHzBh_uxNNio",
        "outputId": "dda1df4c-f141-438d-9058-a3d9fc8ddf34"
      },
      "execution_count": null,
      "outputs": [
        {
          "output_type": "execute_result",
          "data": {
            "text/plain": [
              "Int64Index([6228, 6233, 6234, 6242, 6249, 6253, 6301, 6342, 6409, 6428, 6468,\n",
              "            6482, 6557, 6582, 6596, 6607, 6618, 6641, 6658, 6714, 6719, 6731,\n",
              "            6746, 6749, 6763, 6776, 6794, 6801, 6806, 6826, 6866, 6878, 6908,\n",
              "            6911, 6914, 6941, 6977, 7038, 7052, 7067, 7102, 7106, 7128, 7130,\n",
              "            7139, 7141, 7146, 7173, 7187, 7189, 7206, 7210, 7255, 7319, 7324,\n",
              "            7360, 7406, 7408, 7414, 7426, 7427, 7433, 7448, 7462, 7463, 7472,\n",
              "            7497, 7500, 7514, 7515, 7560, 7576, 7606, 7612, 7624, 7661, 7669,\n",
              "            7710, 7716, 7747, 7799, 7804, 7810, 7834, 7840, 7855, 7868, 7877,\n",
              "            7951, 8003, 8085, 8086, 8088, 8101, 8151, 8153, 8163, 8181, 8189,\n",
              "            8196],\n",
              "           dtype='int64')"
            ]
          },
          "metadata": {},
          "execution_count": 584
        }
      ]
    },
    {
      "cell_type": "code",
      "source": [
        "df.drop([6228, 6233, 6234, 6242, 6249, 6253, 6301, 6342, 6409, 6428, 6468,\n",
        "            6482, 6557, 6582, 6596, 6607, 6618, 6641, 6658, 6714, 6719, 6731,\n",
        "            6746, 6749, 6763, 6776, 6794, 6801, 6806, 6826, 6866, 6878, 6908,\n",
        "            6911, 6914, 6941, 6977, 7038, 7052, 7067, 7102, 7106, 7128, 7130,\n",
        "            7139, 7141, 7146, 7173, 7187, 7189, 7206, 7210, 7255, 7319, 7324,\n",
        "            7360, 7406, 7408, 7414, 7426, 7427, 7433, 7448, 7462, 7463, 7472,\n",
        "            7497, 7500, 7514, 7515, 7560, 7576, 7606, 7612, 7624, 7661, 7669,\n",
        "            7710, 7716, 7747, 7799, 7804, 7810, 7834, 7840, 7855, 7868, 7877,\n",
        "            7951, 8003, 8085, 8086, 8088, 8101, 8151, 8153, 8163, 8181, 8189,\n",
        "            8196],inplace=True)"
      ],
      "metadata": {
        "id": "2FSZOgOaNQGb"
      },
      "execution_count": null,
      "outputs": []
    },
    {
      "cell_type": "code",
      "source": [
        "a[400:500]"
      ],
      "metadata": {
        "colab": {
          "base_uri": "https://localhost:8080/"
        },
        "id": "opvVl-XnNWGi",
        "outputId": "b263d62f-7332-40a7-a647-a26064920aba"
      },
      "execution_count": null,
      "outputs": [
        {
          "output_type": "execute_result",
          "data": {
            "text/plain": [
              "Int64Index([ 8216,  8260,  8261,  8263,  8277,  8281,  8283,  8308,  8311,\n",
              "             8358,  8477,  8496,  8509,  8520,  8525,  8529,  8536,  8540,\n",
              "             8578,  8595,  8654,  8674,  8715,  8719,  8720,  8736,  8743,\n",
              "             8750,  8766,  8817,  8828,  8829,  8835,  8864,  8886,  8958,\n",
              "             8968,  8973,  8977,  8983,  9007,  9009,  9021,  9084,  9114,\n",
              "             9140,  9211,  9221,  9226,  9250,  9274,  9307,  9329,  9333,\n",
              "             9340,  9354,  9362,  9372,  9411,  9414,  9468,  9472,  9513,\n",
              "             9527,  9529,  9556,  9558,  9562,  9574,  9607,  9637,  9645,\n",
              "             9665,  9669,  9684,  9685,  9691,  9713,  9725,  9735,  9740,\n",
              "             9743,  9755,  9770,  9773,  9775,  9801,  9802,  9810,  9814,\n",
              "             9837,  9845,  9858,  9949,  9972,  9984, 10006, 10020, 10032,\n",
              "            10053],\n",
              "           dtype='int64')"
            ]
          },
          "metadata": {},
          "execution_count": 586
        }
      ]
    },
    {
      "cell_type": "code",
      "source": [
        "df.drop([8216,  8260,  8261,  8263,  8277,  8281,  8283,  8308,  8311,\n",
        "             8358,  8477,  8496,  8509,  8520,  8525,  8529,  8536,  8540,\n",
        "             8578,  8595,  8654,  8674,  8715,  8719,  8720,  8736,  8743,\n",
        "             8750,  8766,  8817,  8828,  8829,  8835,  8864,  8886,  8958,\n",
        "             8968,  8973,  8977,  8983,  9007,  9009,  9021,  9084,  9114,\n",
        "             9140,  9211,  9221,  9226,  9250,  9274,  9307,  9329,  9333,\n",
        "             9340,  9354,  9362,  9372,  9411,  9414,  9468,  9472,  9513,\n",
        "             9527,  9529,  9556,  9558,  9562,  9574,  9607,  9637,  9645,\n",
        "             9665,  9669,  9684,  9685,  9691,  9713,  9725,  9735,  9740,\n",
        "             9743,  9755,  9770,  9773,  9775,  9801,  9802,  9810,  9814,\n",
        "             9837,  9845,  9858,  9949,  9972,  9984, 10006, 10020, 10032,\n",
        "            10053],inplace=True)"
      ],
      "metadata": {
        "id": "xKbsHePuNY9z"
      },
      "execution_count": null,
      "outputs": []
    },
    {
      "cell_type": "code",
      "source": [
        "a[500:600]"
      ],
      "metadata": {
        "colab": {
          "base_uri": "https://localhost:8080/"
        },
        "id": "Rf8vXhMSNfts",
        "outputId": "8fcacfa0-5357-44a0-9962-e7cb109c9944"
      },
      "execution_count": null,
      "outputs": [
        {
          "output_type": "execute_result",
          "data": {
            "text/plain": [
              "Int64Index([10056, 10074, 10077, 10108, 10119, 10130, 10136, 10147, 10161,\n",
              "            10167, 10186, 10201, 10244, 10292, 10311, 10332, 10340, 10343,\n",
              "            10356, 10357, 10359, 10361, 10424, 10426, 10437, 10440, 10484,\n",
              "            10489, 10491, 10493, 10494, 10504, 10544, 10545, 10582, 10588,\n",
              "            10620, 10629, 10651, 10652, 10660, 10668, 10698, 10700, 10702,\n",
              "            10709, 10710, 10723, 10739, 10753, 10755, 10774, 10781, 10824,\n",
              "            10830, 10888, 10905, 10951, 10952, 10958, 10972, 10990, 11014,\n",
              "            11060, 11067, 11093, 11095, 11117, 11158, 11161, 11247, 11263,\n",
              "            11279, 11285, 11293, 11301, 11313, 11332, 11333, 11361, 11370,\n",
              "            11385, 11389, 11437, 11454, 11487, 11500, 11512, 11526, 11539,\n",
              "            11545, 11555, 11560, 11577, 11593, 11606, 11609, 11616, 11632,\n",
              "            11651],\n",
              "           dtype='int64')"
            ]
          },
          "metadata": {},
          "execution_count": 588
        }
      ]
    },
    {
      "cell_type": "code",
      "source": [
        "df.drop([10056, 10074, 10077, 10108, 10119, 10130, 10136, 10147, 10161,\n",
        "            10167, 10186, 10201, 10244, 10292, 10311, 10332, 10340, 10343,\n",
        "            10356, 10357, 10359, 10361, 10424, 10426, 10437, 10440, 10484,\n",
        "            10489, 10491, 10493, 10494, 10504, 10544, 10545, 10582, 10588,\n",
        "            10620, 10629, 10651, 10652, 10660, 10668, 10698, 10700, 10702,\n",
        "            10709, 10710, 10723, 10739, 10753, 10755, 10774, 10781, 10824,\n",
        "            10830, 10888, 10905, 10951, 10952, 10958, 10972, 10990, 11014,\n",
        "            11060, 11067, 11093, 11095, 11117, 11158, 11161, 11247, 11263,\n",
        "            11279, 11285, 11293, 11301, 11313, 11332, 11333, 11361, 11370,\n",
        "            11385, 11389, 11437, 11454, 11487, 11500, 11512, 11526, 11539,\n",
        "            11545, 11555, 11560, 11577, 11593, 11606, 11609, 11616, 11632,\n",
        "            11651],inplace=True)"
      ],
      "metadata": {
        "id": "j0adbOvmNiYA"
      },
      "execution_count": null,
      "outputs": []
    },
    {
      "cell_type": "code",
      "source": [
        "a[600:700]"
      ],
      "metadata": {
        "colab": {
          "base_uri": "https://localhost:8080/"
        },
        "id": "WjN8sM1ENneR",
        "outputId": "c520810b-c34a-48b7-ebbd-9dee9c4531a8"
      },
      "execution_count": null,
      "outputs": [
        {
          "output_type": "execute_result",
          "data": {
            "text/plain": [
              "Int64Index([11674, 11680, 11696, 11710, 11752, 11770, 11777, 11780, 11782,\n",
              "            11811, 11821, 11841, 11852, 11857, 11872, 11911, 11917, 11919,\n",
              "            11955, 11957, 11972, 11984, 11988, 12008, 12023, 12067, 12076,\n",
              "            12086, 12109, 12117, 12127, 12134, 12138, 12141, 12163, 12193,\n",
              "            12211, 12219, 12246, 12249, 12257, 12319, 12322, 12331, 12332,\n",
              "            12337, 12348, 12368, 12380, 12394, 12406, 12411, 12426, 12459,\n",
              "            12462, 12532, 12534, 12550, 12554, 12560, 12574, 12590, 12597,\n",
              "            12598, 12602, 12683, 12688, 12700, 12723, 12727, 12743, 12774,\n",
              "            12789, 12790, 12834, 12840, 12868, 12906, 12919, 12925, 12935,\n",
              "            12964, 12994, 13050, 13054, 13075, 13077, 13079, 13089, 13133,\n",
              "            13171, 13177, 13215, 13234, 13236, 13252, 13256, 13284, 13290,\n",
              "            13302],\n",
              "           dtype='int64')"
            ]
          },
          "metadata": {},
          "execution_count": 590
        }
      ]
    },
    {
      "cell_type": "code",
      "source": [
        "df.drop([11674, 11680, 11696, 11710, 11752, 11770, 11777, 11780, 11782,\n",
        "            11811, 11821, 11841, 11852, 11857, 11872, 11911, 11917, 11919,\n",
        "            11955, 11957, 11972, 11984, 11988, 12008, 12023, 12067, 12076,\n",
        "            12086, 12109, 12117, 12127, 12134, 12138, 12141, 12163, 12193,\n",
        "            12211, 12219, 12246, 12249, 12257, 12319, 12322, 12331, 12332,\n",
        "            12337, 12348, 12368, 12380, 12394, 12406, 12411, 12426, 12459,\n",
        "            12462, 12532, 12534, 12550, 12554, 12560, 12574, 12590, 12597,\n",
        "            12598, 12602, 12683, 12688, 12700, 12723, 12727, 12743, 12774,\n",
        "            12789, 12790, 12834, 12840, 12868, 12906, 12919, 12925, 12935,\n",
        "            12964, 12994, 13050, 13054, 13075, 13077, 13079, 13089, 13133,\n",
        "            13171, 13177, 13215, 13234, 13236, 13252, 13256, 13284, 13290,\n",
        "            13302],inplace=True)"
      ],
      "metadata": {
        "id": "4Fkx_KMjNsCn"
      },
      "execution_count": null,
      "outputs": []
    },
    {
      "cell_type": "code",
      "source": [
        "a[700:800]"
      ],
      "metadata": {
        "colab": {
          "base_uri": "https://localhost:8080/"
        },
        "id": "puIgi0JCNx5U",
        "outputId": "e177041e-771d-4492-f3a9-f329a3011314"
      },
      "execution_count": null,
      "outputs": [
        {
          "output_type": "execute_result",
          "data": {
            "text/plain": [
              "Int64Index([13305, 13341, 13346, 13361, 13445, 13464, 13475, 13484, 13486,\n",
              "            13494, 13496, 13552, 13560, 13569, 13574, 13585, 13614, 13628,\n",
              "            13657, 13713, 13716, 13771, 13780, 13790, 13819, 13824, 13837,\n",
              "            13845, 13873, 13921, 13930, 13939, 13940, 13943, 13958, 13978,\n",
              "            13986, 14006, 14033, 14039, 14042, 14058, 14064, 14065, 14111,\n",
              "            14114, 14117, 14118, 14126, 14136, 14137, 14144, 14152, 14154,\n",
              "            14190, 14205, 14231, 14245, 14259, 14261, 14271, 14282, 14362,\n",
              "            14395, 14417, 14441, 14474, 14553, 14558, 14580, 14640, 14643,\n",
              "            14645, 14668, 14685, 14694, 14702, 14704, 14705, 14740, 14793,\n",
              "            14815, 14832, 14835, 14838, 14839, 14847, 14884, 14896, 14932,\n",
              "            14948, 14971, 14998, 15043, 15059, 15068, 15070, 15080, 15090,\n",
              "            15093],\n",
              "           dtype='int64')"
            ]
          },
          "metadata": {},
          "execution_count": 592
        }
      ]
    },
    {
      "cell_type": "code",
      "source": [
        "df.drop([13305, 13341, 13346, 13361, 13445, 13464, 13475, 13484, 13486,\n",
        "            13494, 13496, 13552, 13560, 13569, 13574, 13585, 13614, 13628,\n",
        "            13657, 13713, 13716, 13771, 13780, 13790, 13819, 13824, 13837,\n",
        "            13845, 13873, 13921, 13930, 13939, 13940, 13943, 13958, 13978,\n",
        "            13986, 14006, 14033, 14039, 14042, 14058, 14064, 14065, 14111,\n",
        "            14114, 14117, 14118, 14126, 14136, 14137, 14144, 14152, 14154,\n",
        "            14190, 14205, 14231, 14245, 14259, 14261, 14271, 14282, 14362,\n",
        "            14395, 14417, 14441, 14474, 14553, 14558, 14580, 14640, 14643,\n",
        "            14645, 14668, 14685, 14694, 14702, 14704, 14705, 14740, 14793,\n",
        "            14815, 14832, 14835, 14838, 14839, 14847, 14884, 14896, 14932,\n",
        "            14948, 14971, 14998, 15043, 15059, 15068, 15070, 15080, 15090,\n",
        "            15093],inplace=True)"
      ],
      "metadata": {
        "id": "cdeqhsurN0JD"
      },
      "execution_count": null,
      "outputs": []
    },
    {
      "cell_type": "code",
      "source": [
        "a[800:900]"
      ],
      "metadata": {
        "colab": {
          "base_uri": "https://localhost:8080/"
        },
        "id": "JbfrPNrbN7oi",
        "outputId": "5863d091-a1df-40d1-e55e-304550d663ee"
      },
      "execution_count": null,
      "outputs": [
        {
          "output_type": "execute_result",
          "data": {
            "text/plain": [
              "Int64Index([15101, 15102, 15118, 15134, 15135, 15177, 15224, 15248, 15257,\n",
              "            15275, 15297, 15305, 15319, 15335, 15377, 15394, 15407, 15438,\n",
              "            15447, 15501, 15505, 15528, 15581, 15584, 15627, 15637, 15684,\n",
              "            15706, 15724, 15726, 15761, 15767, 15770, 15772, 15820, 15835,\n",
              "            15853, 15890, 15912, 15913, 15919, 15922, 15947, 15951, 15960,\n",
              "            15974, 16030, 16031, 16071, 16073, 16100, 16105, 16109, 16128,\n",
              "            16129, 16132, 16158, 16159, 16165, 16175, 16200, 16201, 16206,\n",
              "            16209, 16255, 16256, 16262, 16275, 16288, 16304, 16329, 16330,\n",
              "            16391, 16451, 16460, 16497, 16498, 16511, 16524, 16532, 16537,\n",
              "            16559, 16626, 16627, 16642, 16649, 16669, 16671, 16680, 16681,\n",
              "            16693, 16697, 16706, 16715, 16719, 16722, 16724, 16731, 16773,\n",
              "            16798],\n",
              "           dtype='int64')"
            ]
          },
          "metadata": {},
          "execution_count": 594
        }
      ]
    },
    {
      "cell_type": "code",
      "source": [
        "df.drop([15101, 15102, 15118, 15134, 15135, 15177, 15224, 15248, 15257,\n",
        "            15275, 15297, 15305, 15319, 15335, 15377, 15394, 15407, 15438,\n",
        "            15447, 15501, 15505, 15528, 15581, 15584, 15627, 15637, 15684,\n",
        "            15706, 15724, 15726, 15761, 15767, 15770, 15772, 15820, 15835,\n",
        "            15853, 15890, 15912, 15913, 15919, 15922, 15947, 15951, 15960,\n",
        "            15974, 16030, 16031, 16071, 16073, 16100, 16105, 16109, 16128,\n",
        "            16129, 16132, 16158, 16159, 16165, 16175, 16200, 16201, 16206,\n",
        "            16209, 16255, 16256, 16262, 16275, 16288, 16304, 16329, 16330,\n",
        "            16391, 16451, 16460, 16497, 16498, 16511, 16524, 16532, 16537,\n",
        "            16559, 16626, 16627, 16642, 16649, 16669, 16671, 16680, 16681,\n",
        "            16693, 16697, 16706, 16715, 16719, 16722, 16724, 16731, 16773,\n",
        "            16798],inplace=True)"
      ],
      "metadata": {
        "id": "-GLbFj84N9wu"
      },
      "execution_count": null,
      "outputs": []
    },
    {
      "cell_type": "code",
      "source": [
        "a[900:1000]"
      ],
      "metadata": {
        "colab": {
          "base_uri": "https://localhost:8080/"
        },
        "id": "wVA7ItbwOFOK",
        "outputId": "08806f92-13d1-406b-f01c-830193037e39"
      },
      "execution_count": null,
      "outputs": [
        {
          "output_type": "execute_result",
          "data": {
            "text/plain": [
              "Int64Index([16826, 16849, 16858, 16875, 16891, 16923, 16959, 16974, 17011,\n",
              "            17019, 17022, 17061, 17083, 17091, 17114, 17126, 17131, 17177,\n",
              "            17184, 17186, 17192, 17193, 17210, 17216, 17240, 17246, 17265,\n",
              "            17335, 17351, 17353, 17368, 17396, 17407, 17408, 17414, 17459,\n",
              "            17471, 17521, 17556, 17576, 17631, 17635, 17641, 17643, 17680,\n",
              "            17681, 17691, 17725, 17726, 17741, 17747, 17766, 17774, 17776,\n",
              "            17842, 17847, 17851, 17876, 17901, 17907, 17945, 17965, 17997,\n",
              "            18006, 18017, 18100, 18142, 18152, 18174, 18180, 18189, 18200,\n",
              "            18203, 18213, 18221, 18234, 18246, 18259, 18264, 18265, 18268,\n",
              "            18274, 18323, 18350, 18358, 18387, 18421, 18436, 18483, 18496,\n",
              "            18501, 18595, 18623, 18637, 18647, 18657, 18676, 18684, 18702,\n",
              "            18707],\n",
              "           dtype='int64')"
            ]
          },
          "metadata": {},
          "execution_count": 596
        }
      ]
    },
    {
      "cell_type": "code",
      "source": [
        "df.drop([16826, 16849, 16858, 16875, 16891, 16923, 16959, 16974, 17011,\n",
        "            17019, 17022, 17061, 17083, 17091, 17114, 17126, 17131, 17177,\n",
        "            17184, 17186, 17192, 17193, 17210, 17216, 17240, 17246, 17265,\n",
        "            17335, 17351, 17353, 17368, 17396, 17407, 17408, 17414, 17459,\n",
        "            17471, 17521, 17556, 17576, 17631, 17635, 17641, 17643, 17680,\n",
        "            17681, 17691, 17725, 17726, 17741, 17747, 17766, 17774, 17776,\n",
        "            17842, 17847, 17851, 17876, 17901, 17907, 17945, 17965, 17997,\n",
        "            18006, 18017, 18100, 18142, 18152, 18174, 18180, 18189, 18200,\n",
        "            18203, 18213, 18221, 18234, 18246, 18259, 18264, 18265, 18268,\n",
        "            18274, 18323, 18350, 18358, 18387, 18421, 18436, 18483, 18496,\n",
        "            18501, 18595, 18623, 18637, 18647, 18657, 18676, 18684, 18702,\n",
        "            18707],inplace=True)"
      ],
      "metadata": {
        "id": "5H-0t-RMOLzH"
      },
      "execution_count": null,
      "outputs": []
    },
    {
      "cell_type": "code",
      "source": [
        "a[1000:1100]"
      ],
      "metadata": {
        "colab": {
          "base_uri": "https://localhost:8080/"
        },
        "id": "E70jaU-xOueJ",
        "outputId": "3ed1c8d3-4ce7-4d5a-b34b-844f056a814c"
      },
      "execution_count": null,
      "outputs": [
        {
          "output_type": "execute_result",
          "data": {
            "text/plain": [
              "Int64Index([18739, 18807, 18869, 18871, 18873, 18896, 18964, 18995, 19007,\n",
              "            19011, 19024, 19032, 19047, 19050, 19062, 19070, 19071, 19106,\n",
              "            19114, 19132, 19154, 19191, 19204, 19205, 19232, 19237, 19275,\n",
              "            19278, 19280, 19286, 19296, 19321, 19338, 19351, 19387, 19425,\n",
              "            19474, 19515, 19524],\n",
              "           dtype='int64')"
            ]
          },
          "metadata": {},
          "execution_count": 598
        }
      ]
    },
    {
      "cell_type": "code",
      "source": [
        "df.drop([18739, 18807, 18869, 18871, 18873, 18896, 18964, 18995, 19007,\n",
        "            19011, 19024, 19032, 19047, 19050, 19062, 19070, 19071, 19106,\n",
        "            19114, 19132, 19154, 19191, 19204, 19205, 19232, 19237, 19275,\n",
        "            19278, 19280, 19286, 19296, 19321, 19338, 19351, 19387, 19425,\n",
        "            19474, 19515, 19524],inplace=True)"
      ],
      "metadata": {
        "id": "U0BU6bPqOzuA"
      },
      "execution_count": null,
      "outputs": []
    },
    {
      "cell_type": "code",
      "source": [
        "ind1 = df[\"Fuel pressure\"]<low_limit\n",
        "df.loc[ind1].index"
      ],
      "metadata": {
        "colab": {
          "base_uri": "https://localhost:8080/"
        },
        "id": "OPiYLfLRPBsd",
        "outputId": "0fc21d98-be59-4e56-a902-765740253527"
      },
      "execution_count": null,
      "outputs": [
        {
          "output_type": "execute_result",
          "data": {
            "text/plain": [
              "Int64Index([   91,   134,   408,   514,   618,  1256,  1349,  2232,  2412,\n",
              "             2747,  2753,  2793,  2873,  3421,  4358,  4716,  5373,  5777,\n",
              "             5897,  5983,  6259,  6261,  6359,  7423,  7991,  8482,  9129,\n",
              "             9298,  9578,  9698,  9835, 10304, 10685, 10766, 11541, 11896,\n",
              "            12108, 12327, 13344, 13400, 14148, 14180, 14380, 14394, 14766,\n",
              "            15251, 15375, 15378, 16002, 16234, 16467, 16837, 16927, 17273,\n",
              "            17349, 17377, 17413, 17673, 17888, 18173, 18316, 18434, 18793,\n",
              "            19116],\n",
              "           dtype='int64')"
            ]
          },
          "metadata": {},
          "execution_count": 600
        }
      ]
    },
    {
      "cell_type": "code",
      "source": [
        "df.drop([91,   134,   408,   514,   618,  1256,  1349,  2232,  2412,\n",
        "             2747,  2753,  2793,  2873,  3421,  4358,  4716,  5373,  5777,\n",
        "             5897,  5983,  6259,  6261,  6359,  7423,  7991,  8482,  9129,\n",
        "             9298,  9578,  9698,  9835, 10304, 10685, 10766, 11541, 11896,\n",
        "            12108, 12327, 13344, 13400, 14148, 14180, 14380, 14394, 14766,\n",
        "            15251, 15375, 15378, 16002, 16234, 16467, 16837, 16927, 17273,\n",
        "            17349, 17377, 17413, 17673, 17888, 18173, 18316, 18434, 18793,\n",
        "            19116],inplace=True)"
      ],
      "metadata": {
        "id": "aKvSF0UiPRyb"
      },
      "execution_count": null,
      "outputs": []
    },
    {
      "cell_type": "code",
      "source": [
        "outlier = []\n",
        "for x in df[\"Fuel pressure\"]:\n",
        "  if((x>upp_limit)or(x<low_limit)):\n",
        "    outlier.append(x)\n",
        "  \n",
        "outlier"
      ],
      "metadata": {
        "colab": {
          "base_uri": "https://localhost:8080/"
        },
        "id": "nz5Mi0IMPqDK",
        "outputId": "21826ed0-8cfd-4c5d-812d-094a8a4e1004"
      },
      "execution_count": null,
      "outputs": [
        {
          "output_type": "execute_result",
          "data": {
            "text/plain": [
              "[14.3580229]"
            ]
          },
          "metadata": {},
          "execution_count": 602
        }
      ]
    },
    {
      "cell_type": "code",
      "source": [
        "ind1 = df[\"Fuel pressure\"]>upp_limit\n",
        "df.loc[ind1].index"
      ],
      "metadata": {
        "colab": {
          "base_uri": "https://localhost:8080/"
        },
        "id": "3fMfpjomPvmP",
        "outputId": "277846f1-ad67-4628-e3c8-993ae45eac4d"
      },
      "execution_count": null,
      "outputs": [
        {
          "output_type": "execute_result",
          "data": {
            "text/plain": [
              "Int64Index([2221], dtype='int64')"
            ]
          },
          "metadata": {},
          "execution_count": 603
        }
      ]
    },
    {
      "cell_type": "code",
      "source": [
        "df.drop([2221],inplace=True)"
      ],
      "metadata": {
        "id": "M6Vq8u-LP-R8"
      },
      "execution_count": null,
      "outputs": []
    },
    {
      "cell_type": "code",
      "source": [
        "plt.boxplot(df[\"Fuel pressure\"])\n",
        "plt.title(\"box plot of Fuel pressure\")"
      ],
      "metadata": {
        "colab": {
          "base_uri": "https://localhost:8080/",
          "height": 469
        },
        "id": "Lt1jTs6wQGX2",
        "outputId": "b0d984ad-03c5-4b77-c6c9-1a82c8e900de"
      },
      "execution_count": null,
      "outputs": [
        {
          "output_type": "execute_result",
          "data": {
            "text/plain": [
              "Text(0.5, 1.0, 'box plot of Fuel pressure')"
            ]
          },
          "metadata": {},
          "execution_count": 605
        },
        {
          "output_type": "display_data",
          "data": {
            "text/plain": [
              "<Figure size 640x480 with 1 Axes>"
            ],
            "image/png": "[encoded data removed]"
          },
          "metadata": {}
        }
      ]
    },
    {
      "cell_type": "code",
      "source": [
        "df.columns"
      ],
      "metadata": {
        "colab": {
          "base_uri": "https://localhost:8080/"
        },
        "id": "7uItFQAiQPkU",
        "outputId": "94948805-4b0b-4fe4-c933-80ea3d54d939"
      },
      "execution_count": null,
      "outputs": [
        {
          "output_type": "execute_result",
          "data": {
            "text/plain": [
              "Index(['Engine rpm', 'Lub oil pressure', 'Fuel pressure', 'Coolant pressure',\n",
              "       'lub oil temp', 'Coolant temp', 'Engine Condition'],\n",
              "      dtype='object')"
            ]
          },
          "metadata": {},
          "execution_count": 606
        }
      ]
    },
    {
      "cell_type": "code",
      "source": [
        "plt.boxplot(df[\"Coolant pressure\"])\n",
        "plt.title(\"box plot of Coolant pressure\")"
      ],
      "metadata": {
        "colab": {
          "base_uri": "https://localhost:8080/",
          "height": 469
        },
        "id": "1fb_YdkDQatP",
        "outputId": "6651ed07-35d0-4f1e-84ca-068feb2081a2"
      },
      "execution_count": null,
      "outputs": [
        {
          "output_type": "execute_result",
          "data": {
            "text/plain": [
              "Text(0.5, 1.0, 'box plot of Coolant pressure')"
            ]
          },
          "metadata": {},
          "execution_count": 607
        },
        {
          "output_type": "display_data",
          "data": {
            "text/plain": [
              "<Figure size 640x480 with 1 Axes>"
            ],
            "image/png": "[encoded data removed]"
          },
          "metadata": {}
        }
      ]
    },
    {
      "cell_type": "code",
      "source": [
        "q1 = np.percentile(df[\"Coolant pressure\"],25, interpolation=\"midpoint\")\n",
        "q2 = np.percentile(df[\"Coolant pressure\"],50, interpolation=\"midpoint\")\n",
        "q3 = np.percentile(df[\"Coolant pressure\"],75, interpolation=\"midpoint\")\n",
        "\n",
        "print(q1)\n",
        "print(q2)\n",
        "print(q3)"
      ],
      "metadata": {
        "colab": {
          "base_uri": "https://localhost:8080/"
        },
        "id": "XsentLrfQvj2",
        "outputId": "30864264-5480-47c4-a115-f746cb3501cc"
      },
      "execution_count": null,
      "outputs": [
        {
          "output_type": "stream",
          "name": "stdout",
          "text": [
            "1.6018402114999999\n",
            "2.1688326525\n",
            "2.849897874\n"
          ]
        },
        {
          "output_type": "stream",
          "name": "stderr",
          "text": [
            "<ipython-input-608-bca8b08aa5e8>:1: DeprecationWarning: the `interpolation=` argument to percentile was renamed to `method=`, which has additional options.\n",
            "Users of the modes 'nearest', 'lower', 'higher', or 'midpoint' are encouraged to review the method they. (Deprecated NumPy 1.22)\n",
            "  q1 = np.percentile(df[\"Coolant pressure\"],25, interpolation=\"midpoint\")\n",
            "<ipython-input-608-bca8b08aa5e8>:2: DeprecationWarning: the `interpolation=` argument to percentile was renamed to `method=`, which has additional options.\n",
            "Users of the modes 'nearest', 'lower', 'higher', or 'midpoint' are encouraged to review the method they. (Deprecated NumPy 1.22)\n",
            "  q2 = np.percentile(df[\"Coolant pressure\"],50, interpolation=\"midpoint\")\n",
            "<ipython-input-608-bca8b08aa5e8>:3: DeprecationWarning: the `interpolation=` argument to percentile was renamed to `method=`, which has additional options.\n",
            "Users of the modes 'nearest', 'lower', 'higher', or 'midpoint' are encouraged to review the method they. (Deprecated NumPy 1.22)\n",
            "  q3 = np.percentile(df[\"Coolant pressure\"],75, interpolation=\"midpoint\")\n"
          ]
        }
      ]
    },
    {
      "cell_type": "code",
      "source": [
        "iqr = q3-q1\n",
        "\n",
        "low_limit = q1-1.5*iqr\n",
        "upp_limit = q3+1.5*iqr\n",
        "\n",
        "print(low_limit)\n",
        "print(upp_limit)"
      ],
      "metadata": {
        "colab": {
          "base_uri": "https://localhost:8080/"
        },
        "id": "YS79RFo3RBBn",
        "outputId": "5416c4d3-c486-459f-80b7-65ff49e85da7"
      },
      "execution_count": null,
      "outputs": [
        {
          "output_type": "stream",
          "name": "stdout",
          "text": [
            "-0.27024628225\n",
            "4.72198436775\n"
          ]
        }
      ]
    },
    {
      "cell_type": "code",
      "source": [
        "outlier = []\n",
        "for x in df[\"Coolant pressure\"]:\n",
        "  if((x>upp_limit)or(x<low_limit)):\n",
        "    outlier.append(x)\n",
        "  \n",
        "outlier"
      ],
      "metadata": {
        "colab": {
          "base_uri": "https://localhost:8080/"
        },
        "id": "NEJXPe9zREaK",
        "outputId": "ec718d7b-a37d-4ffa-fdef-3c20c362cd37"
      },
      "execution_count": null,
      "outputs": [
        {
          "output_type": "execute_result",
          "data": {
            "text/plain": [
              "[5.694339313,\n",
              " 5.261251561,\n",
              " 4.853973435,\n",
              " 6.151323455,\n",
              " 4.868988253,\n",
              " 4.914337108,\n",
              " 4.932171294,\n",
              " 7.478504946,\n",
              " 5.385198222,\n",
              " 4.854586184,\n",
              " 5.052523359,\n",
              " 5.517483928,\n",
              " 6.826048275,\n",
              " 5.278919322,\n",
              " 5.316528725,\n",
              " 5.06761218,\n",
              " 5.87926585,\n",
              " 5.041899251,\n",
              " 6.079396982,\n",
              " 4.932579465,\n",
              " 5.631606049,\n",
              " 5.329610078,\n",
              " 5.489421799,\n",
              " 5.196123214,\n",
              " 4.881209356,\n",
              " 5.913649852,\n",
              " 6.881109842,\n",
              " 5.546644433,\n",
              " 5.053307467,\n",
              " 6.685426485,\n",
              " 5.693132234,\n",
              " 5.114797802,\n",
              " 4.786943692,\n",
              " 5.413904346,\n",
              " 5.069119879,\n",
              " 4.928431815,\n",
              " 5.147237485,\n",
              " 6.1356653,\n",
              " 4.943831616,\n",
              " 5.17089953,\n",
              " 5.721613058,\n",
              " 5.788750354,\n",
              " 4.790147221,\n",
              " 4.975580106,\n",
              " 4.755667672,\n",
              " 4.723807519,\n",
              " 6.862837226,\n",
              " 6.799183687,\n",
              " 6.941848959,\n",
              " 5.097519628,\n",
              " 5.831570426,\n",
              " 5.417988024,\n",
              " 5.375786128,\n",
              " 5.683282203,\n",
              " 5.931952727,\n",
              " 6.887402443,\n",
              " 5.719245604,\n",
              " 6.455491675,\n",
              " 5.339579337,\n",
              " 5.338218166,\n",
              " 6.221044624,\n",
              " 6.672586713,\n",
              " 5.723238833,\n",
              " 5.806624338,\n",
              " 5.145475379,\n",
              " 4.882687782,\n",
              " 4.723905697,\n",
              " 6.222426352,\n",
              " 5.331036044,\n",
              " 5.192165506,\n",
              " 5.369473629,\n",
              " 5.855819237,\n",
              " 4.918295802,\n",
              " 5.536134949,\n",
              " 5.843181741,\n",
              " 5.122379872,\n",
              " 4.97446808,\n",
              " 4.737154627,\n",
              " 5.45702438,\n",
              " 4.964708662,\n",
              " 5.179844087,\n",
              " 6.574754079,\n",
              " 4.815884489,\n",
              " 5.347117499,\n",
              " 6.603111236,\n",
              " 5.405052212,\n",
              " 4.751132409,\n",
              " 5.247399749,\n",
              " 4.902938594,\n",
              " 4.905071046,\n",
              " 5.566876992,\n",
              " 4.915530702,\n",
              " 5.338166199,\n",
              " 5.217296768,\n",
              " 4.759353376,\n",
              " 5.520895983,\n",
              " 5.079371502,\n",
              " 4.906734481,\n",
              " 4.860799518,\n",
              " 5.424237374,\n",
              " 5.42097497,\n",
              " 5.049374757,\n",
              " 5.523076619,\n",
              " 4.739916273,\n",
              " 6.450148293,\n",
              " 6.095644534,\n",
              " 5.052145777,\n",
              " 5.183052715,\n",
              " 4.88070235,\n",
              " 5.547364734,\n",
              " 4.931634851,\n",
              " 5.407445978,\n",
              " 5.296295509,\n",
              " 4.752487166,\n",
              " 6.643331647,\n",
              " 6.356902561,\n",
              " 5.221521217,\n",
              " 6.83202414,\n",
              " 5.691212089,\n",
              " 4.982169871,\n",
              " 5.343930414,\n",
              " 5.544470704,\n",
              " 5.865745903,\n",
              " 5.407212621,\n",
              " 4.73895505,\n",
              " 6.134351656,\n",
              " 5.023908999,\n",
              " 5.712242899,\n",
              " 5.308963758,\n",
              " 6.494061973,\n",
              " 4.735365057,\n",
              " 5.664414269,\n",
              " 6.307959932,\n",
              " 5.099644844,\n",
              " 4.996692977,\n",
              " 5.949811582,\n",
              " 5.309385414,\n",
              " 6.090578747,\n",
              " 4.842036505,\n",
              " 6.287515888,\n",
              " 4.829289319,\n",
              " 4.772283926,\n",
              " 5.257315561,\n",
              " 5.000039744,\n",
              " 6.313233257,\n",
              " 4.725405337,\n",
              " 5.0336375,\n",
              " 4.871358996,\n",
              " 5.442434342,\n",
              " 6.047937927,\n",
              " 5.027294084,\n",
              " 4.87796422,\n",
              " 5.319642957,\n",
              " 5.350525442,\n",
              " 5.556470125,\n",
              " 6.107147309,\n",
              " 4.724650172,\n",
              " 5.133448494,\n",
              " 4.945613784,\n",
              " 5.91093935,\n",
              " 5.507856894,\n",
              " 6.010013269,\n",
              " 6.970337677,\n",
              " 5.021650412,\n",
              " 5.550004193,\n",
              " 4.761410509,\n",
              " 5.556781269,\n",
              " 5.750228076,\n",
              " 6.308771997,\n",
              " 5.20654669,\n",
              " 4.903021478,\n",
              " 6.183464986,\n",
              " 4.798237284,\n",
              " 6.625636587,\n",
              " 5.14137279,\n",
              " 6.459727964,\n",
              " 5.271861197,\n",
              " 5.967013286,\n",
              " 5.213982891,\n",
              " 5.798039931,\n",
              " 5.527708088,\n",
              " 5.253703861,\n",
              " 6.020184311,\n",
              " 5.249459184,\n",
              " 4.75403532,\n",
              " 5.565129522,\n",
              " 4.91180109,\n",
              " 6.281068703,\n",
              " 5.214254895,\n",
              " 5.362472239,\n",
              " 6.877908286,\n",
              " 5.574706563,\n",
              " 4.80303008,\n",
              " 4.939155745,\n",
              " 6.32708178,\n",
              " 5.842096356,\n",
              " 5.935178951,\n",
              " 5.384597478,\n",
              " 4.843964214,\n",
              " 4.798936206,\n",
              " 5.607101679,\n",
              " 4.742809975,\n",
              " 5.187346563,\n",
              " 6.009597863,\n",
              " 4.737655219,\n",
              " 4.819688105,\n",
              " 6.001030888,\n",
              " 4.967177748,\n",
              " 5.650745657,\n",
              " 4.830511035,\n",
              " 4.963053286,\n",
              " 6.470824872,\n",
              " 4.794704028,\n",
              " 6.413360328,\n",
              " 5.482187874,\n",
              " 5.091914931,\n",
              " 6.846907067,\n",
              " 4.942378187,\n",
              " 5.347962948,\n",
              " 5.814004296,\n",
              " 4.963551247,\n",
              " 5.890522934,\n",
              " 6.050097514,\n",
              " 5.119024389,\n",
              " 5.99831019,\n",
              " 6.234256716,\n",
              " 4.935570029,\n",
              " 4.802132993,\n",
              " 4.779176448,\n",
              " 5.442300807,\n",
              " 5.399672979,\n",
              " 5.376746364,\n",
              " 5.665076025,\n",
              " 6.068645753,\n",
              " 5.098329391,\n",
              " 4.730436753,\n",
              " 6.498745572,\n",
              " 5.466736271,\n",
              " 7.263990492,\n",
              " 4.802783073,\n",
              " 5.538924717,\n",
              " 6.043640462,\n",
              " 5.832033524,\n",
              " 5.859924294,\n",
              " 4.80378804,\n",
              " 5.625829499,\n",
              " 6.024664976,\n",
              " 5.335175142,\n",
              " 5.595405178,\n",
              " 4.822402389,\n",
              " 6.269315301,\n",
              " 5.83403721,\n",
              " 6.237827303,\n",
              " 5.615618002,\n",
              " 5.74832339,\n",
              " 4.760414751,\n",
              " 6.122222975,\n",
              " 6.197552294,\n",
              " 5.044333967,\n",
              " 7.211975896,\n",
              " 5.019435241,\n",
              " 6.142334825,\n",
              " 4.819513456,\n",
              " 5.939075811,\n",
              " 4.738575987,\n",
              " 5.123679538,\n",
              " 5.165879626,\n",
              " 5.19109262,\n",
              " 4.732130775,\n",
              " 6.057849463,\n",
              " 4.770635457,\n",
              " 5.594551342,\n",
              " 5.22023668,\n",
              " 6.49184121,\n",
              " 4.964323351,\n",
              " 6.625066924,\n",
              " 5.013282589,\n",
              " 4.725804462,\n",
              " 6.477559191,\n",
              " 6.019936974,\n",
              " 6.776498817,\n",
              " 4.827280206,\n",
              " 5.449122614,\n",
              " 4.745551722,\n",
              " 4.950352311,\n",
              " 5.105756547,\n",
              " 5.481862094,\n",
              " 5.701215061,\n",
              " 5.807651178,\n",
              " 5.240944834,\n",
              " 6.477492424,\n",
              " 5.570914294,\n",
              " 6.058999313,\n",
              " 5.204646773,\n",
              " 5.662660222,\n",
              " 6.234843811,\n",
              " 5.499033538,\n",
              " 5.938035158,\n",
              " 6.616029616,\n",
              " 4.779142571,\n",
              " 5.838285998,\n",
              " 5.211086229,\n",
              " 4.76677379,\n",
              " 5.632836809,\n",
              " 4.788312921,\n",
              " 6.431217539,\n",
              " 5.629821742,\n",
              " 6.266875488,\n",
              " 5.834430579,\n",
              " 7.168409539,\n",
              " 5.592091137,\n",
              " 6.15425531,\n",
              " 6.463757373,\n",
              " 4.832814846,\n",
              " 5.604405978,\n",
              " 4.826177225,\n",
              " 5.155928457,\n",
              " 5.116015077,\n",
              " 5.693943641,\n",
              " 6.414517414,\n",
              " 5.907164184,\n",
              " 4.8467576,\n",
              " 5.217317982,\n",
              " 5.528476737,\n",
              " 6.201780689,\n",
              " 5.035317544,\n",
              " 5.186665401,\n",
              " 5.227736853,\n",
              " 4.871096366,\n",
              " 5.322421049,\n",
              " 5.548916505,\n",
              " 5.65638308,\n",
              " 5.158255127,\n",
              " 5.949864865,\n",
              " 5.717631999,\n",
              " 5.592643368,\n",
              " 5.782505445,\n",
              " 5.843026169,\n",
              " 6.352513002,\n",
              " 5.289693903,\n",
              " 5.941705403,\n",
              " 5.736050978,\n",
              " 5.732103137,\n",
              " 5.149684699,\n",
              " 5.936339326,\n",
              " 4.800987254,\n",
              " 5.304100248,\n",
              " 4.758446257,\n",
              " 6.002365582,\n",
              " 6.971471411,\n",
              " 6.174729284,\n",
              " 5.333076403,\n",
              " 6.373646101,\n",
              " 6.734971339,\n",
              " 5.492189365,\n",
              " 5.365140148,\n",
              " 6.907917201,\n",
              " 4.881337958,\n",
              " 5.173525504,\n",
              " 6.032483035,\n",
              " 4.72795632,\n",
              " 5.742414292,\n",
              " 6.064931434,\n",
              " 6.620013636,\n",
              " 6.533766662,\n",
              " 4.891938056,\n",
              " 6.665743526,\n",
              " 4.797659564,\n",
              " 6.2271583,\n",
              " 5.025569967,\n",
              " 5.451210171,\n",
              " 6.071517418,\n",
              " 6.089538093,\n",
              " 5.107049964,\n",
              " 5.772490304,\n",
              " 5.69876867,\n",
              " 5.745379695,\n",
              " 5.128437306,\n",
              " 5.788695427,\n",
              " 5.214051303,\n",
              " 5.436132697,\n",
              " 4.960060091,\n",
              " 5.249806014,\n",
              " 6.051494042,\n",
              " 6.089918636,\n",
              " 5.986444962,\n",
              " 6.755138774,\n",
              " 5.981792608,\n",
              " 4.893342806,\n",
              " 5.100204475,\n",
              " 5.055596642,\n",
              " 6.683997724,\n",
              " 6.243449596,\n",
              " 5.135798517,\n",
              " 5.111795069,\n",
              " 6.006193044,\n",
              " 4.997863219,\n",
              " 5.152258376,\n",
              " 5.6493067,\n",
              " 6.138098207,\n",
              " 5.852736744,\n",
              " 4.739754288,\n",
              " 5.732867182,\n",
              " 6.423003807,\n",
              " 6.164029693,\n",
              " 5.525165656,\n",
              " 4.759473755,\n",
              " 5.019703627,\n",
              " 5.296377571,\n",
              " 6.072345928,\n",
              " 5.94233657,\n",
              " 4.814596335,\n",
              " 5.22391449,\n",
              " 5.606539581,\n",
              " 6.341496018,\n",
              " 6.147046381,\n",
              " 5.356981179,\n",
              " 4.738293787,\n",
              " 6.215753209,\n",
              " 4.851827005,\n",
              " 6.799090278,\n",
              " 5.762317288,\n",
              " 6.348168503,\n",
              " 7.137776363,\n",
              " 4.909864665,\n",
              " 5.866577702,\n",
              " 5.19580023,\n",
              " 4.964760958,\n",
              " 6.376781218,\n",
              " 5.623221287,\n",
              " 5.439666447,\n",
              " 5.336127814,\n",
              " 5.402489552,\n",
              " 4.818762239,\n",
              " 5.894510901,\n",
              " 6.891624918,\n",
              " 4.740189428,\n",
              " 5.048499049,\n",
              " 5.603305793,\n",
              " 5.726811064,\n",
              " 5.578691898,\n",
              " 5.847464735,\n",
              " 4.950434373,\n",
              " 7.05312359,\n",
              " 6.096315828,\n",
              " 4.901596006,\n",
              " 5.028967057,\n",
              " 5.064447462,\n",
              " 5.718805201,\n",
              " 5.190934581,\n",
              " 5.818929312,\n",
              " 4.776639443,\n",
              " 4.736214618,\n",
              " 4.956478979,\n",
              " 5.141967778,\n",
              " 4.742516592,\n",
              " 5.593862945,\n",
              " 4.980263377,\n",
              " 5.613315342,\n",
              " 5.175364408,\n",
              " 6.5886151,\n",
              " 6.321254579,\n",
              " 5.875412076,\n",
              " 5.2904591,\n",
              " 6.393181381,\n",
              " 4.928936026,\n",
              " 6.509130073,\n",
              " 5.510582032,\n",
              " 4.88940434,\n",
              " 4.879095816,\n",
              " 4.797648381,\n",
              " 5.194103576,\n",
              " 5.0991704,\n",
              " 5.705469769,\n",
              " 5.969434351,\n",
              " 6.36711636,\n",
              " 4.932663993,\n",
              " 5.417753022,\n",
              " 4.7326414,\n",
              " 5.862756161,\n",
              " 5.011481015,\n",
              " 5.489894928,\n",
              " 5.642023769,\n",
              " 5.924779979,\n",
              " 5.340902355,\n",
              " 4.927160599,\n",
              " 5.07518981,\n",
              " 5.068728318,\n",
              " 5.440751831,\n",
              " 6.946417771,\n",
              " 6.378851343,\n",
              " 4.734463695,\n",
              " 5.565834693,\n",
              " 4.757044138,\n",
              " 5.49424436,\n",
              " 5.107012304,\n",
              " 5.895897562,\n",
              " 5.055324145,\n",
              " 5.250645378,\n",
              " 5.959520842,\n",
              " 5.661326185,\n",
              " 4.725150271,\n",
              " 5.603637657,\n",
              " 5.44215132,\n",
              " 6.408614237,\n",
              " 5.511110746,\n",
              " 4.853579901,\n",
              " 5.384090637,\n",
              " 5.49831702,\n",
              " 5.522305174,\n",
              " 5.309674027,\n",
              " 5.834873285,\n",
              " 6.193987956,\n",
              " 5.34288088,\n",
              " 4.780966182,\n",
              " 5.54846492,\n",
              " 5.422870282,\n",
              " 5.102895736,\n",
              " 7.417474091,\n",
              " 6.562524424,\n",
              " 5.300153065,\n",
              " 5.552352899,\n",
              " 5.784472951,\n",
              " 4.925217267,\n",
              " 5.361246248,\n",
              " 5.848909612,\n",
              " 6.592414276,\n",
              " 5.24141599,\n",
              " 5.03116233,\n",
              " 5.449076897,\n",
              " 4.991061475,\n",
              " 4.823341904,\n",
              " 4.743987124,\n",
              " 5.383481999,\n",
              " 4.941567766,\n",
              " 6.287979643,\n",
              " 5.166868477,\n",
              " 6.039048297,\n",
              " 5.507099098,\n",
              " 5.918888313,\n",
              " 5.243305053,\n",
              " 5.618511046,\n",
              " 5.007413947,\n",
              " 5.389634979,\n",
              " 4.877928863,\n",
              " 5.116284615,\n",
              " 5.386665465,\n",
              " 6.337593237,\n",
              " 6.249582678,\n",
              " 6.403478065,\n",
              " 5.538205731,\n",
              " 6.922792234,\n",
              " 4.789947083,\n",
              " 6.712791666,\n",
              " 5.394945471,\n",
              " 5.344776357,\n",
              " 4.804855171,\n",
              " 4.7799821,\n",
              " 5.68793653,\n",
              " 5.869220121,\n",
              " 4.937683404,\n",
              " 5.14941401,\n",
              " 6.190768639,\n",
              " 5.451058382,\n",
              " 5.509809435,\n",
              " 5.553046559,\n",
              " 5.104609164,\n",
              " 5.656255465,\n",
              " 4.875408633,\n",
              " 4.953433817,\n",
              " 5.827297957,\n",
              " 5.49587918,\n",
              " 4.881447319,\n",
              " 6.481806663,\n",
              " 5.848161025,\n",
              " 5.214396817,\n",
              " 5.211572514,\n",
              " 5.628685706,\n",
              " 4.753318143,\n",
              " 5.237358296,\n",
              " 6.066290139,\n",
              " 5.588820182,\n",
              " 7.188819048,\n",
              " 4.811446088,\n",
              " 6.799153427,\n",
              " 6.173463988,\n",
              " 5.563086039,\n",
              " 5.185420662,\n",
              " 5.009578303,\n",
              " 5.727520182,\n",
              " 5.304594262,\n",
              " 5.98906633,\n",
              " 6.229349133,\n",
              " 6.090295889,\n",
              " 6.15068242,\n",
              " 5.821740787,\n",
              " 5.648512067,\n",
              " 5.136171165,\n",
              " 5.088530176,\n",
              " 5.370668868,\n",
              " 5.5228528,\n",
              " 4.932081832,\n",
              " 5.301225952,\n",
              " 4.840591299,\n",
              " 5.393121038,\n",
              " 6.058456292,\n",
              " 6.100154472,\n",
              " 6.899558423,\n",
              " 4.929917312,\n",
              " 4.792768919,\n",
              " 5.313569408,\n",
              " 5.719260076,\n",
              " 5.240861622,\n",
              " 4.787575024,\n",
              " 6.14227036,\n",
              " 5.756269722,\n",
              " 6.824771796,\n",
              " 5.497735681,\n",
              " 6.181426108,\n",
              " 5.354728184,\n",
              " 5.069904645,\n",
              " 5.809383189,\n",
              " 6.279026864,\n",
              " 4.722099847,\n",
              " 4.741620327,\n",
              " 5.32861728,\n",
              " 5.659792832,\n",
              " 5.456636601,\n",
              " 6.215221699,\n",
              " 5.892873943,\n",
              " 5.845533736,\n",
              " 6.593807515,\n",
              " 5.209917303,\n",
              " 4.797640323,\n",
              " 7.42532208,\n",
              " 5.066608364,\n",
              " 5.457185872,\n",
              " 5.52644937,\n",
              " 5.057561189,\n",
              " 5.559120438,\n",
              " 6.123430383,\n",
              " 5.471405892,\n",
              " 5.379134375,\n",
              " 4.84692567,\n",
              " 5.164652319,\n",
              " 5.30466251,\n",
              " 5.735912509,\n",
              " 6.715474211,\n",
              " 5.158450825,\n",
              " 6.314648533,\n",
              " 4.806239365,\n",
              " 6.07473509,\n",
              " 5.33316718,\n",
              " 5.59657246,\n",
              " 6.184046161,\n",
              " 6.146878969,\n",
              " 6.151440545,\n",
              " 5.915188138,\n",
              " 4.758814301,\n",
              " 4.991504509,\n",
              " 5.858005136,\n",
              " 4.76182312,\n",
              " 6.509008378,\n",
              " 5.875841625,\n",
              " 5.398319866,\n",
              " 5.7469364,\n",
              " 6.858944313,\n",
              " 5.03431011,\n",
              " 5.062812806,\n",
              " 5.272088141,\n",
              " 6.194230687,\n",
              " 6.175328548,\n",
              " 5.115030337,\n",
              " 5.583561657,\n",
              " 4.902659683,\n",
              " 5.887761123,\n",
              " 6.621491404,\n",
              " 5.016826864,\n",
              " 5.11736375,\n",
              " 5.191521018,\n",
              " 5.271442995,\n",
              " 5.899416511,\n",
              " 5.961709043,\n",
              " 5.953897233,\n",
              " 4.772597043,\n",
              " 6.315904619,\n",
              " 4.81840916,\n",
              " 5.167029476,\n",
              " 5.551059647,\n",
              " 6.300309285,\n",
              " 4.734082823,\n",
              " 4.796556747,\n",
              " 6.168389979,\n",
              " 5.054031879,\n",
              " 5.331663593,\n",
              " 6.107326234,\n",
              " 6.485329888,\n",
              " 5.853354098,\n",
              " 4.972876182,\n",
              " 5.786509856,\n",
              " 5.702993119,\n",
              " 5.609001102,\n",
              " 5.498193352,\n",
              " 5.358682273,\n",
              " 5.225109564,\n",
              " 5.345439757,\n",
              " 4.819447511,\n",
              " 4.850311084,\n",
              " 5.596626072,\n",
              " 6.221213023,\n",
              " 5.036341917,\n",
              " 6.115590616,\n",
              " 5.994035748,\n",
              " 6.91366974,\n",
              " 5.728019131,\n",
              " 6.471793825,\n",
              " 5.843806659,\n",
              " 6.304726143,\n",
              " 4.750640532,\n",
              " 5.040924214,\n",
              " 6.186689237]"
            ]
          },
          "metadata": {},
          "execution_count": 610
        }
      ]
    },
    {
      "cell_type": "code",
      "source": [
        "ind1 = df[\"Coolant pressure\"]>upp_limit\n",
        "b = df.loc[ind1].index\n",
        "b"
      ],
      "metadata": {
        "colab": {
          "base_uri": "https://localhost:8080/"
        },
        "id": "9BbQFk9ARYAN",
        "outputId": "878bffcd-496f-4aa7-9048-3ba68c7a2faf"
      },
      "execution_count": null,
      "outputs": [
        {
          "output_type": "execute_result",
          "data": {
            "text/plain": [
              "Int64Index([   53,    70,    80,   188,   194,   210,   237,   272,   289,\n",
              "              363,\n",
              "            ...\n",
              "            19386, 19392, 19395, 19423, 19455, 19460, 19506, 19517, 19519,\n",
              "            19531],\n",
              "           dtype='int64', length=721)"
            ]
          },
          "metadata": {},
          "execution_count": 611
        }
      ]
    },
    {
      "cell_type": "code",
      "source": [
        "b[:100]"
      ],
      "metadata": {
        "colab": {
          "base_uri": "https://localhost:8080/"
        },
        "id": "iLMPukDpV0aX",
        "outputId": "1a417dc7-f43c-4332-a968-88bb33c61f93"
      },
      "execution_count": null,
      "outputs": [
        {
          "output_type": "execute_result",
          "data": {
            "text/plain": [
              "Int64Index([  53,   70,   80,  188,  194,  210,  237,  272,  289,  363,  388,\n",
              "             392,  527,  565,  640,  703,  723,  735,  776,  794,  815,  826,\n",
              "             842,  925,  949,  956,  976,  987,  996, 1002, 1042, 1075, 1076,\n",
              "            1150, 1153, 1173, 1194, 1202, 1208, 1224, 1238, 1290, 1294, 1309,\n",
              "            1326, 1340, 1342, 1431, 1442, 1469, 1478, 1479, 1518, 1521, 1535,\n",
              "            1537, 1551, 1570, 1598, 1640, 1645, 1647, 1661, 1672, 1686, 1716,\n",
              "            1752, 1778, 1830, 1832, 1846, 1863, 1906, 1939, 1941, 1985, 1988,\n",
              "            2023, 2090, 2186, 2216, 2233, 2246, 2309, 2344, 2348, 2382, 2390,\n",
              "            2459, 2474, 2500, 2502, 2544, 2549, 2557, 2610, 2625, 2628, 2640,\n",
              "            2676],\n",
              "           dtype='int64')"
            ]
          },
          "metadata": {},
          "execution_count": 612
        }
      ]
    },
    {
      "cell_type": "code",
      "source": [
        "df.drop([53,   70,   80,  188,  194,  210,  237,  272,  289,  363,  388,\n",
        "             392,  527,  565,  640,  703,  723,  735,  776,  794,  815,  826,\n",
        "             842,  925,  949,  956,  976,  987,  996, 1002, 1042, 1075, 1076,\n",
        "            1150, 1153, 1173, 1194, 1202, 1208, 1224, 1238, 1290, 1294, 1309,\n",
        "            1326, 1340, 1342, 1431, 1442, 1469, 1478, 1479, 1518, 1521, 1535,\n",
        "            1537, 1551, 1570, 1598, 1640, 1645, 1647, 1661, 1672, 1686, 1716,\n",
        "            1752, 1778, 1830, 1832, 1846, 1863, 1906, 1939, 1941, 1985, 1988,\n",
        "            2023, 2090, 2186, 2216, 2233, 2246, 2309, 2344, 2348, 2382, 2390,\n",
        "            2459, 2474, 2500, 2502, 2544, 2549, 2557, 2610, 2625, 2628, 2640,\n",
        "            2676],inplace=True)"
      ],
      "metadata": {
        "id": "59aFyAoARpPe"
      },
      "execution_count": null,
      "outputs": []
    },
    {
      "cell_type": "code",
      "source": [
        "b[100:200]"
      ],
      "metadata": {
        "colab": {
          "base_uri": "https://localhost:8080/"
        },
        "id": "iuHTxRlsWNef",
        "outputId": "2d590e65-29bb-4f4b-e781-b0b980ba78f2"
      },
      "execution_count": null,
      "outputs": [
        {
          "output_type": "execute_result",
          "data": {
            "text/plain": [
              "Int64Index([2719, 2731, 2780, 2801, 2880, 2910, 2931, 2968, 3024, 3101, 3129,\n",
              "            3132, 3134, 3143, 3188, 3347, 3361, 3428, 3437, 3484, 3512, 3531,\n",
              "            3532, 3547, 3607, 3649, 3691, 3695, 3717, 3720, 3723, 3751, 3763,\n",
              "            3777, 3829, 3850, 3881, 3893, 3985, 3997, 4008, 4017, 4022, 4044,\n",
              "            4082, 4121, 4173, 4175, 4179, 4187, 4239, 4249, 4269, 4300, 4322,\n",
              "            4324, 4325, 4334, 4338, 4446, 4456, 4467, 4494, 4505, 4517, 4557,\n",
              "            4619, 4620, 4633, 4648, 4649, 4657, 4665, 4703, 4705, 4719, 4819,\n",
              "            4841, 4856, 4874, 4930, 4937, 4964, 4973, 4992, 5001, 5024, 5040,\n",
              "            5101, 5107, 5130, 5133, 5151, 5193, 5226, 5229, 5242, 5252, 5258,\n",
              "            5276],\n",
              "           dtype='int64')"
            ]
          },
          "metadata": {},
          "execution_count": 614
        }
      ]
    },
    {
      "cell_type": "code",
      "source": [
        "df.drop([2719, 2731, 2780, 2801, 2880, 2910, 2931, 2968, 3024, 3101, 3129,\n",
        "            3132, 3134, 3143, 3188, 3347, 3361, 3428, 3437, 3484, 3512, 3531,\n",
        "            3532, 3547, 3607, 3649, 3691, 3695, 3717, 3720, 3723, 3751, 3763,\n",
        "            3777, 3829, 3850, 3881, 3893, 3985, 3997, 4008, 4017, 4022, 4044,\n",
        "            4082, 4121, 4173, 4175, 4179, 4187, 4239, 4249, 4269, 4300, 4322,\n",
        "            4324, 4325, 4334, 4338, 4446, 4456, 4467, 4494, 4505, 4517, 4557,\n",
        "            4619, 4620, 4633, 4648, 4649, 4657, 4665, 4703, 4705, 4719, 4819,\n",
        "            4841, 4856, 4874, 4930, 4937, 4964, 4973, 4992, 5001, 5024, 5040,\n",
        "            5101, 5107, 5130, 5133, 5151, 5193, 5226, 5229, 5242, 5252, 5258,\n",
        "            5276],inplace=True)"
      ],
      "metadata": {
        "id": "GKLDOnGBWSDA"
      },
      "execution_count": null,
      "outputs": []
    },
    {
      "cell_type": "code",
      "source": [
        "b[200:300]"
      ],
      "metadata": {
        "colab": {
          "base_uri": "https://localhost:8080/"
        },
        "id": "G3DRYAAZWZnS",
        "outputId": "b3f8134b-1316-430e-e678-9fa8e1be81a3"
      },
      "execution_count": null,
      "outputs": [
        {
          "output_type": "execute_result",
          "data": {
            "text/plain": [
              "Int64Index([5279, 5280, 5281, 5296, 5380, 5382, 5390, 5425, 5443, 5460, 5502,\n",
              "            5531, 5532, 5558, 5577, 5596, 5604, 5658, 5661, 5671, 5673, 5679,\n",
              "            5760, 5775, 5801, 5808, 5827, 5830, 5841, 5943, 5952, 5994, 6000,\n",
              "            6038, 6046, 6133, 6158, 6160, 6185, 6187, 6202, 6208, 6243, 6246,\n",
              "            6285, 6343, 6376, 6395, 6411, 6448, 6504, 6537, 6604, 6614, 6698,\n",
              "            6716, 6744, 6769, 6800, 6805, 6816, 6839, 6844, 6849, 6852, 6869,\n",
              "            6958, 7005, 7051, 7100, 7155, 7160, 7176, 7180, 7182, 7196, 7224,\n",
              "            7260, 7269, 7274, 7309, 7322, 7333, 7362, 7363, 7383, 7431, 7489,\n",
              "            7581, 7592, 7622, 7653, 7709, 7784, 7793, 7820, 7827, 7929, 7936,\n",
              "            7940],\n",
              "           dtype='int64')"
            ]
          },
          "metadata": {},
          "execution_count": 616
        }
      ]
    },
    {
      "cell_type": "code",
      "source": [
        "df.drop([5279, 5280, 5281, 5296, 5380, 5382, 5390, 5425, 5443, 5460, 5502,\n",
        "            5531, 5532, 5558, 5577, 5596, 5604, 5658, 5661, 5671, 5673, 5679,\n",
        "            5760, 5775, 5801, 5808, 5827, 5830, 5841, 5943, 5952, 5994, 6000,\n",
        "            6038, 6046, 6133, 6158, 6160, 6185, 6187, 6202, 6208, 6243, 6246,\n",
        "            6285, 6343, 6376, 6395, 6411, 6448, 6504, 6537, 6604, 6614, 6698,\n",
        "            6716, 6744, 6769, 6800, 6805, 6816, 6839, 6844, 6849, 6852, 6869,\n",
        "            6958, 7005, 7051, 7100, 7155, 7160, 7176, 7180, 7182, 7196, 7224,\n",
        "            7260, 7269, 7274, 7309, 7322, 7333, 7362, 7363, 7383, 7431, 7489,\n",
        "            7581, 7592, 7622, 7653, 7709, 7784, 7793, 7820, 7827, 7929, 7936,\n",
        "            7940],inplace=True)"
      ],
      "metadata": {
        "id": "YdINwnXGWblt"
      },
      "execution_count": null,
      "outputs": []
    },
    {
      "cell_type": "code",
      "source": [
        "b[300:400]"
      ],
      "metadata": {
        "colab": {
          "base_uri": "https://localhost:8080/"
        },
        "id": "8GQJeecaWiXc",
        "outputId": "98bf4165-c9de-4dc3-c036-0e3ecfcd7bba"
      },
      "execution_count": null,
      "outputs": [
        {
          "output_type": "execute_result",
          "data": {
            "text/plain": [
              "Int64Index([ 7950,  7984,  7990,  8032,  8097,  8152,  8173,  8199,  8229,\n",
              "             8236,  8249,  8374,  8436,  8476,  8530,  8593,  8632,  8643,\n",
              "             8646,  8662,  8704,  8803,  8821,  8891,  8951,  8986,  9026,\n",
              "             9055,  9068,  9070,  9091,  9117,  9170,  9184,  9193,  9208,\n",
              "             9243,  9267,  9284,  9290,  9299,  9300,  9305,  9385,  9405,\n",
              "             9427,  9452,  9475,  9477,  9483,  9508,  9531,  9592,  9599,\n",
              "             9634,  9673,  9679,  9714,  9729,  9777,  9790,  9827,  9859,\n",
              "             9869,  9931,  9945,  9958,  9981, 10118, 10221, 10233, 10240,\n",
              "            10246, 10253, 10254, 10300, 10329, 10349, 10358, 10373, 10377,\n",
              "            10400, 10420, 10443, 10449, 10496, 10564, 10576, 10577, 10594,\n",
              "            10598, 10624, 10657, 10666, 10691, 10707, 10711, 10715, 10716,\n",
              "            10762],\n",
              "           dtype='int64')"
            ]
          },
          "metadata": {},
          "execution_count": 618
        }
      ]
    },
    {
      "cell_type": "code",
      "source": [
        "df.drop([ 7950,  7984,  7990,  8032,  8097,  8152,  8173,  8199,  8229,\n",
        "             8236,  8249,  8374,  8436,  8476,  8530,  8593,  8632,  8643,\n",
        "             8646,  8662,  8704,  8803,  8821,  8891,  8951,  8986,  9026,\n",
        "             9055,  9068,  9070,  9091,  9117,  9170,  9184,  9193,  9208,\n",
        "             9243,  9267,  9284,  9290,  9299,  9300,  9305,  9385,  9405,\n",
        "             9427,  9452,  9475,  9477,  9483,  9508,  9531,  9592,  9599,\n",
        "             9634,  9673,  9679,  9714,  9729,  9777,  9790,  9827,  9859,\n",
        "             9869,  9931,  9945,  9958,  9981, 10118, 10221, 10233, 10240,\n",
        "            10246, 10253, 10254, 10300, 10329, 10349, 10358, 10373, 10377,\n",
        "            10400, 10420, 10443, 10449, 10496, 10564, 10576, 10577, 10594,\n",
        "            10598, 10624, 10657, 10666, 10691, 10707, 10711, 10715, 10716,\n",
        "            10762],inplace=True)"
      ],
      "metadata": {
        "id": "dH4fAx_BWmDj"
      },
      "execution_count": null,
      "outputs": []
    },
    {
      "cell_type": "code",
      "source": [
        "b[400:500]"
      ],
      "metadata": {
        "colab": {
          "base_uri": "https://localhost:8080/"
        },
        "id": "1KPb7kkRWq5m",
        "outputId": "78abd679-4e4e-4762-8fba-bf66ccbb9232"
      },
      "execution_count": null,
      "outputs": [
        {
          "output_type": "execute_result",
          "data": {
            "text/plain": [
              "Int64Index([10788, 10802, 10821, 10829, 10908, 10976, 10995, 11080, 11096,\n",
              "            11145, 11156, 11168, 11192, 11204, 11221, 11242, 11257, 11336,\n",
              "            11364, 11412, 11436, 11491, 11574, 11604, 11639, 11677, 11681,\n",
              "            11684, 11748, 11753, 11763, 11792, 11869, 11871, 11894, 12009,\n",
              "            12022, 12078, 12132, 12137, 12216, 12282, 12287, 12328, 12349,\n",
              "            12369, 12381, 12385, 12424, 12496, 12529, 12540, 12552, 12570,\n",
              "            12579, 12588, 12661, 12680, 12719, 12757, 12758, 12772, 12800,\n",
              "            12829, 12841, 12873, 12903, 12913, 12991, 13019, 13042, 13088,\n",
              "            13146, 13182, 13185, 13186, 13190, 13195, 13198, 13255, 13263,\n",
              "            13282, 13386, 13401, 13402, 13429, 13453, 13478, 13499, 13506,\n",
              "            13580, 13604, 13611, 13625, 13639, 13652, 13653, 13685, 13696,\n",
              "            13707],\n",
              "           dtype='int64')"
            ]
          },
          "metadata": {},
          "execution_count": 620
        }
      ]
    },
    {
      "cell_type": "code",
      "source": [
        "df.drop([ 10788, 10802, 10821, 10829, 10908, 10976, 10995, 11080, 11096,\n",
        "            11145, 11156, 11168, 11192, 11204, 11221, 11242, 11257, 11336,\n",
        "            11364, 11412, 11436, 11491, 11574, 11604, 11639, 11677, 11681,\n",
        "            11684, 11748, 11753, 11763, 11792, 11869, 11871, 11894, 12009,\n",
        "            12022, 12078, 12132, 12137, 12216, 12282, 12287, 12328, 12349,\n",
        "            12369, 12381, 12385, 12424, 12496, 12529, 12540, 12552, 12570,\n",
        "            12579, 12588, 12661, 12680, 12719, 12757, 12758, 12772, 12800,\n",
        "            12829, 12841, 12873, 12903, 12913, 12991, 13019, 13042, 13088,\n",
        "            13146, 13182, 13185, 13186, 13190, 13195, 13198, 13255, 13263,\n",
        "            13282, 13386, 13401, 13402, 13429, 13453, 13478, 13499, 13506,\n",
        "            13580, 13604, 13611, 13625, 13639, 13652, 13653, 13685, 13696,\n",
        "            13707],inplace=True)"
      ],
      "metadata": {
        "id": "YX3IF10aWtEP"
      },
      "execution_count": null,
      "outputs": []
    },
    {
      "cell_type": "code",
      "source": [
        "b[500:600]"
      ],
      "metadata": {
        "colab": {
          "base_uri": "https://localhost:8080/"
        },
        "id": "dOM-9aE9Wzan",
        "outputId": "6aa4e722-6e91-4241-ba98-e7f6c7d15eac"
      },
      "execution_count": null,
      "outputs": [
        {
          "output_type": "execute_result",
          "data": {
            "text/plain": [
              "Int64Index([13715, 13718, 13722, 13725, 13741, 13748, 13767, 13831, 13844,\n",
              "            13878, 13919, 13947, 13972, 14074, 14080, 14098, 14160, 14182,\n",
              "            14187, 14194, 14204, 14252, 14265, 14277, 14288, 14295, 14329,\n",
              "            14339, 14342, 14399, 14437, 14463, 14481, 14501, 14535, 14565,\n",
              "            14567, 14613, 14653, 14655, 14670, 14681, 14698, 14732, 14795,\n",
              "            14798, 14860, 14873, 14878, 14926, 14951, 14965, 14990, 15018,\n",
              "            15023, 15088, 15156, 15271, 15295, 15337, 15343, 15366, 15376,\n",
              "            15385, 15420, 15453, 15506, 15509, 15521, 15523, 15552, 15557,\n",
              "            15567, 15599, 15608, 15615, 15635, 15687, 15752, 15802, 15858,\n",
              "            15862, 15888, 15945, 15985, 16007, 16048, 16058, 16060, 16075,\n",
              "            16108, 16111, 16131, 16211, 16266, 16268, 16269, 16299, 16376,\n",
              "            16419],\n",
              "           dtype='int64')"
            ]
          },
          "metadata": {},
          "execution_count": 622
        }
      ]
    },
    {
      "cell_type": "code",
      "source": [
        "df.drop([ 13715, 13718, 13722, 13725, 13741, 13748, 13767, 13831, 13844,\n",
        "            13878, 13919, 13947, 13972, 14074, 14080, 14098, 14160, 14182,\n",
        "            14187, 14194, 14204, 14252, 14265, 14277, 14288, 14295, 14329,\n",
        "            14339, 14342, 14399, 14437, 14463, 14481, 14501, 14535, 14565,\n",
        "            14567, 14613, 14653, 14655, 14670, 14681, 14698, 14732, 14795,\n",
        "            14798, 14860, 14873, 14878, 14926, 14951, 14965, 14990, 15018,\n",
        "            15023, 15088, 15156, 15271, 15295, 15337, 15343, 15366, 15376,\n",
        "            15385, 15420, 15453, 15506, 15509, 15521, 15523, 15552, 15557,\n",
        "            15567, 15599, 15608, 15615, 15635, 15687, 15752, 15802, 15858,\n",
        "            15862, 15888, 15945, 15985, 16007, 16048, 16058, 16060, 16075,\n",
        "            16108, 16111, 16131, 16211, 16266, 16268, 16269, 16299, 16376,\n",
        "            16419],inplace=True)"
      ],
      "metadata": {
        "id": "E5eTpOqDW2Jk"
      },
      "execution_count": null,
      "outputs": []
    },
    {
      "cell_type": "code",
      "source": [
        "b[600:700]"
      ],
      "metadata": {
        "colab": {
          "base_uri": "https://localhost:8080/"
        },
        "id": "5KR_00CVXBR4",
        "outputId": "6bdffd16-e7cd-40e1-cf23-4c1078acff1a"
      },
      "execution_count": null,
      "outputs": [
        {
          "output_type": "execute_result",
          "data": {
            "text/plain": [
              "Int64Index([16436, 16440, 16479, 16490, 16515, 16543, 16550, 16603, 16605,\n",
              "            16616, 16651, 16667, 16684, 16703, 16733, 16737, 16752, 16787,\n",
              "            16805, 16854, 16856, 16878, 16896, 16960, 16975, 16990, 16991,\n",
              "            17000, 17024, 17035, 17044, 17168, 17225, 17255, 17279, 17356,\n",
              "            17362, 17380, 17405, 17406, 17426, 17482, 17512, 17517, 17519,\n",
              "            17529, 17534, 17541, 17553, 17616, 17662, 17664, 17721, 17822,\n",
              "            17855, 17859, 17913, 17914, 17981, 17999, 18044, 18052, 18067,\n",
              "            18068, 18104, 18178, 18210, 18214, 18244, 18279, 18280, 18288,\n",
              "            18319, 18329, 18376, 18388, 18403, 18457, 18458, 18468, 18491,\n",
              "            18499, 18539, 18580, 18594, 18638, 18640, 18669, 18713, 18725,\n",
              "            18728, 18740, 18750, 18811, 18841, 18847, 18903, 18916, 18945,\n",
              "            18986],\n",
              "           dtype='int64')"
            ]
          },
          "metadata": {},
          "execution_count": 624
        }
      ]
    },
    {
      "cell_type": "code",
      "source": [
        "df.drop([ 16436, 16440, 16479, 16490, 16515, 16543, 16550, 16603, 16605,\n",
        "            16616, 16651, 16667, 16684, 16703, 16733, 16737, 16752, 16787,\n",
        "            16805, 16854, 16856, 16878, 16896, 16960, 16975, 16990, 16991,\n",
        "            17000, 17024, 17035, 17044, 17168, 17225, 17255, 17279, 17356,\n",
        "            17362, 17380, 17405, 17406, 17426, 17482, 17512, 17517, 17519,\n",
        "            17529, 17534, 17541, 17553, 17616, 17662, 17664, 17721, 17822,\n",
        "            17855, 17859, 17913, 17914, 17981, 17999, 18044, 18052, 18067,\n",
        "            18068, 18104, 18178, 18210, 18214, 18244, 18279, 18280, 18288,\n",
        "            18319, 18329, 18376, 18388, 18403, 18457, 18458, 18468, 18491,\n",
        "            18499, 18539, 18580, 18594, 18638, 18640, 18669, 18713, 18725,\n",
        "            18728, 18740, 18750, 18811, 18841, 18847, 18903, 18916, 18945,\n",
        "            18986],inplace=True)"
      ],
      "metadata": {
        "id": "iN1vCnx5XDlk"
      },
      "execution_count": null,
      "outputs": []
    },
    {
      "cell_type": "code",
      "source": [
        "b[700:800]"
      ],
      "metadata": {
        "colab": {
          "base_uri": "https://localhost:8080/"
        },
        "id": "W18V_ENGXIfN",
        "outputId": "aee47ae7-d37a-4d49-810f-4014dd88fc18"
      },
      "execution_count": null,
      "outputs": [
        {
          "output_type": "execute_result",
          "data": {
            "text/plain": [
              "Int64Index([18997, 19016, 19051, 19057, 19193, 19217, 19229, 19302, 19317,\n",
              "            19334, 19376, 19386, 19392, 19395, 19423, 19455, 19460, 19506,\n",
              "            19517, 19519, 19531],\n",
              "           dtype='int64')"
            ]
          },
          "metadata": {},
          "execution_count": 626
        }
      ]
    },
    {
      "cell_type": "code",
      "source": [
        "df.drop([ 18997, 19016, 19051, 19057, 19193, 19217, 19229, 19302, 19317,\n",
        "            19334, 19376, 19386, 19392, 19395, 19423, 19455, 19460, 19506,\n",
        "            19517, 19519, 19531],inplace=True)"
      ],
      "metadata": {
        "id": "L3JpC2e1XKI2"
      },
      "execution_count": null,
      "outputs": []
    },
    {
      "cell_type": "code",
      "source": [
        "outlier = []\n",
        "for x in df[\"Coolant pressure\"]:\n",
        "  if((x>upp_limit)or(x<low_limit)):\n",
        "    outlier.append(x)\n",
        "  \n",
        "outlier"
      ],
      "metadata": {
        "colab": {
          "base_uri": "https://localhost:8080/"
        },
        "id": "XVG8wcRmXPbb",
        "outputId": "cd3e4205-45e5-48d1-ed73-05f4843dbace"
      },
      "execution_count": null,
      "outputs": [
        {
          "output_type": "execute_result",
          "data": {
            "text/plain": [
              "[]"
            ]
          },
          "metadata": {},
          "execution_count": 628
        }
      ]
    },
    {
      "cell_type": "code",
      "source": [
        "plt.boxplot(df[\"Coolant pressure\"])\n",
        "plt.title(\"box plot of Coolant pressure\")"
      ],
      "metadata": {
        "colab": {
          "base_uri": "https://localhost:8080/",
          "height": 469
        },
        "id": "VGj2OujiXWcQ",
        "outputId": "63d54c88-40ec-4cf2-823a-09e22f57c88d"
      },
      "execution_count": null,
      "outputs": [
        {
          "output_type": "execute_result",
          "data": {
            "text/plain": [
              "Text(0.5, 1.0, 'box plot of Coolant pressure')"
            ]
          },
          "metadata": {},
          "execution_count": 629
        },
        {
          "output_type": "display_data",
          "data": {
            "text/plain": [
              "<Figure size 640x480 with 1 Axes>"
            ],
            "image/png": "[encoded data removed]"
          },
          "metadata": {}
        }
      ]
    },
    {
      "cell_type": "code",
      "source": [
        "df.columns"
      ],
      "metadata": {
        "colab": {
          "base_uri": "https://localhost:8080/"
        },
        "id": "CU2QOlqBXdgP",
        "outputId": "9666913a-1a85-4c36-dc12-8610dfd127ef"
      },
      "execution_count": null,
      "outputs": [
        {
          "output_type": "execute_result",
          "data": {
            "text/plain": [
              "Index(['Engine rpm', 'Lub oil pressure', 'Fuel pressure', 'Coolant pressure',\n",
              "       'lub oil temp', 'Coolant temp', 'Engine Condition'],\n",
              "      dtype='object')"
            ]
          },
          "metadata": {},
          "execution_count": 630
        }
      ]
    },
    {
      "cell_type": "code",
      "source": [
        "plt.boxplot(df[\"lub oil temp\"])\n",
        "plt.title(\"box plot of lub oil temp\")"
      ],
      "metadata": {
        "colab": {
          "base_uri": "https://localhost:8080/",
          "height": 469
        },
        "id": "od-ETphNXf8k",
        "outputId": "63414ad2-5650-44bf-c101-24cdf55aaa58"
      },
      "execution_count": null,
      "outputs": [
        {
          "output_type": "execute_result",
          "data": {
            "text/plain": [
              "Text(0.5, 1.0, 'box plot of lub oil temp')"
            ]
          },
          "metadata": {},
          "execution_count": 631
        },
        {
          "output_type": "display_data",
          "data": {
            "text/plain": [
              "<Figure size 640x480 with 1 Axes>"
            ],
            "image/png": "[encoded data removed]"
          },
          "metadata": {}
        }
      ]
    },
    {
      "cell_type": "code",
      "source": [
        "q1 = np.percentile(df[\"lub oil temp\"],25, interpolation=\"midpoint\")\n",
        "q2 = np.percentile(df[\"lub oil temp\"],50, interpolation=\"midpoint\")\n",
        "q3 = np.percentile(df[\"lub oil temp\"],75, interpolation=\"midpoint\")\n",
        "\n",
        "print(q1)\n",
        "print(q2)\n",
        "print(q3)"
      ],
      "metadata": {
        "colab": {
          "base_uri": "https://localhost:8080/"
        },
        "id": "3-iZCQBOXpIB",
        "outputId": "4ba01dbb-289b-43db-fb8d-1b1075d522ff"
      },
      "execution_count": null,
      "outputs": [
        {
          "output_type": "stream",
          "name": "stdout",
          "text": [
            "75.723003365\n",
            "76.81221087\n",
            "78.05482491000001\n"
          ]
        },
        {
          "output_type": "stream",
          "name": "stderr",
          "text": [
            "<ipython-input-632-9863fc583e8a>:1: DeprecationWarning: the `interpolation=` argument to percentile was renamed to `method=`, which has additional options.\n",
            "Users of the modes 'nearest', 'lower', 'higher', or 'midpoint' are encouraged to review the method they. (Deprecated NumPy 1.22)\n",
            "  q1 = np.percentile(df[\"lub oil temp\"],25, interpolation=\"midpoint\")\n",
            "<ipython-input-632-9863fc583e8a>:2: DeprecationWarning: the `interpolation=` argument to percentile was renamed to `method=`, which has additional options.\n",
            "Users of the modes 'nearest', 'lower', 'higher', or 'midpoint' are encouraged to review the method they. (Deprecated NumPy 1.22)\n",
            "  q2 = np.percentile(df[\"lub oil temp\"],50, interpolation=\"midpoint\")\n",
            "<ipython-input-632-9863fc583e8a>:3: DeprecationWarning: the `interpolation=` argument to percentile was renamed to `method=`, which has additional options.\n",
            "Users of the modes 'nearest', 'lower', 'higher', or 'midpoint' are encouraged to review the method they. (Deprecated NumPy 1.22)\n",
            "  q3 = np.percentile(df[\"lub oil temp\"],75, interpolation=\"midpoint\")\n"
          ]
        }
      ]
    },
    {
      "cell_type": "code",
      "source": [
        "iqr = q3-q1\n",
        "\n",
        "low_limit = q1-1.5*iqr\n",
        "upp_limit = q3+1.5*iqr\n",
        "\n",
        "print(low_limit)\n",
        "print(upp_limit)"
      ],
      "metadata": {
        "colab": {
          "base_uri": "https://localhost:8080/"
        },
        "id": "IHyMYhLYX0AG",
        "outputId": "d6ba4cb4-325a-4ade-ef14-568a0c5130a7"
      },
      "execution_count": null,
      "outputs": [
        {
          "output_type": "stream",
          "name": "stdout",
          "text": [
            "72.22527104749997\n",
            "81.55255722750002\n"
          ]
        }
      ]
    },
    {
      "cell_type": "code",
      "source": [
        "outlier = []\n",
        "for x in df[\"lub oil temp\"]:\n",
        "  if((x>upp_limit)or(x<low_limit)):\n",
        "    outlier.append(x)\n",
        "  \n",
        "outlier"
      ],
      "metadata": {
        "colab": {
          "base_uri": "https://localhost:8080/"
        },
        "id": "d0oI4TzrX3KM",
        "outputId": "4f819470-cd11-4472-e5ae-3af2edf41932"
      },
      "execution_count": null,
      "outputs": [
        {
          "output_type": "execute_result",
          "data": {
            "text/plain": [
              "[84.14416293,\n",
              " 83.64658857,\n",
              " 84.92414335,\n",
              " 83.33728981,\n",
              " 84.47375281,\n",
              " 83.95811494,\n",
              " 86.45666983,\n",
              " 81.88824943,\n",
              " 85.27476256,\n",
              " 83.66142859,\n",
              " 84.03223687,\n",
              " 85.24299314,\n",
              " 83.56868787,\n",
              " 84.46371135,\n",
              " 84.5215851,\n",
              " 81.62466421,\n",
              " 82.98158331,\n",
              " 81.91163998,\n",
              " 82.87267563,\n",
              " 86.25077987,\n",
              " 83.97901049,\n",
              " 85.02745829,\n",
              " 84.82589965,\n",
              " 81.79182907,\n",
              " 82.92946885,\n",
              " 83.23664854,\n",
              " 81.96455459,\n",
              " 83.51191683,\n",
              " 86.59158833,\n",
              " 81.92085432,\n",
              " 81.94656804,\n",
              " 82.19162577,\n",
              " 81.76736141,\n",
              " 82.15168618,\n",
              " 84.55627801,\n",
              " 85.25899559,\n",
              " 81.70732285,\n",
              " 87.54407157,\n",
              " 84.13125189,\n",
              " 85.93315531,\n",
              " 84.38738912,\n",
              " 82.0680808,\n",
              " 82.49132521,\n",
              " 82.5224274,\n",
              " 82.33275985,\n",
              " 84.61274189,\n",
              " 85.09802601,\n",
              " 85.86741582,\n",
              " 83.42970187,\n",
              " 86.1320727,\n",
              " 82.20953109,\n",
              " 86.71948305,\n",
              " 83.60575208,\n",
              " 83.98789429,\n",
              " 82.1328633,\n",
              " 81.6329511,\n",
              " 85.74238726,\n",
              " 88.60273387,\n",
              " 86.34149912,\n",
              " 83.96671616,\n",
              " 81.76118045,\n",
              " 87.57330929,\n",
              " 84.13806782,\n",
              " 83.47246393,\n",
              " 81.85690884,\n",
              " 88.62279222,\n",
              " 85.15694104,\n",
              " 87.25092099,\n",
              " 83.44104638,\n",
              " 87.79319765,\n",
              " 83.98750795,\n",
              " 84.83697761,\n",
              " 84.05806407,\n",
              " 86.37594358,\n",
              " 88.42386186,\n",
              " 82.04421653,\n",
              " 81.92349285,\n",
              " 85.95224781,\n",
              " 86.14057289,\n",
              " 86.56582017,\n",
              " 86.77647934,\n",
              " 83.94933148,\n",
              " 81.88609161,\n",
              " 85.99338021,\n",
              " 83.63950439,\n",
              " 84.4307754,\n",
              " 83.61813958,\n",
              " 85.18359928,\n",
              " 83.36370301,\n",
              " 88.04078997,\n",
              " 84.31452348,\n",
              " 84.48369974,\n",
              " 83.44955272,\n",
              " 81.73595068,\n",
              " 87.28133753,\n",
              " 82.42569733,\n",
              " 83.09200598,\n",
              " 82.89919531,\n",
              " 86.32274996,\n",
              " 82.9648952,\n",
              " 83.31802188,\n",
              " 88.25081297,\n",
              " 86.06308412,\n",
              " 84.07593646,\n",
              " 84.50934572,\n",
              " 83.8771904,\n",
              " 84.15029423,\n",
              " 83.76912196,\n",
              " 83.15326807,\n",
              " 86.64078406,\n",
              " 83.43500963,\n",
              " 85.42243237,\n",
              " 87.20000924,\n",
              " 85.66117023,\n",
              " 83.27332504,\n",
              " 84.06322337,\n",
              " 86.40796897,\n",
              " 85.17321243,\n",
              " 85.39197692,\n",
              " 85.0569885,\n",
              " 84.01893949,\n",
              " 85.19367283,\n",
              " 82.84755286,\n",
              " 88.3040141,\n",
              " 85.52908036,\n",
              " 85.02861492,\n",
              " 83.19502912,\n",
              " 88.17793095,\n",
              " 85.93146387,\n",
              " 82.49499306,\n",
              " 83.73497988,\n",
              " 83.95259012,\n",
              " 86.48554442,\n",
              " 82.21031623,\n",
              " 84.88390411,\n",
              " 86.93290872,\n",
              " 82.87780967,\n",
              " 82.61592204,\n",
              " 85.71511333,\n",
              " 87.73261371,\n",
              " 84.29746336,\n",
              " 85.24736371,\n",
              " 81.57754642,\n",
              " 82.62938768,\n",
              " 88.84181917,\n",
              " 81.98810845,\n",
              " 83.92054665,\n",
              " 85.09481754,\n",
              " 85.64153235,\n",
              " 82.87728579,\n",
              " 83.29229843,\n",
              " 87.58104567,\n",
              " 85.82210261,\n",
              " 85.47012301,\n",
              " 83.53446525,\n",
              " 82.5563159,\n",
              " 84.55649951,\n",
              " 83.94272033,\n",
              " 87.95218535,\n",
              " 85.0378977,\n",
              " 81.72678002,\n",
              " 82.82853441,\n",
              " 84.9383315,\n",
              " 85.85957569,\n",
              " 82.26438714,\n",
              " 85.35539871,\n",
              " 88.45855546,\n",
              " 84.98298022,\n",
              " 84.27680228,\n",
              " 84.83454967,\n",
              " 82.48391646,\n",
              " 83.74668719,\n",
              " 83.06220411,\n",
              " 86.30497825,\n",
              " 84.6681539,\n",
              " 88.34572328,\n",
              " 84.99494486,\n",
              " 82.54243491,\n",
              " 83.22030172,\n",
              " 88.70280723,\n",
              " 84.63487052,\n",
              " 84.72895524,\n",
              " 83.79983303,\n",
              " 81.55775478,\n",
              " 85.79178368,\n",
              " 82.15657637,\n",
              " 83.02350443,\n",
              " 86.55174055,\n",
              " 85.64176988,\n",
              " 82.67465652,\n",
              " 83.21314246,\n",
              " 84.40790002,\n",
              " 86.21542211,\n",
              " 86.16654173,\n",
              " 83.14103176,\n",
              " 87.97881834,\n",
              " 84.08789598,\n",
              " 86.62886345,\n",
              " 86.7417912,\n",
              " 84.04069031,\n",
              " 87.5633081,\n",
              " 86.79420736,\n",
              " 82.82404336,\n",
              " 84.36380454,\n",
              " 84.1116065,\n",
              " 84.46079058,\n",
              " 84.71307087,\n",
              " 85.58397566,\n",
              " 87.51299224,\n",
              " 86.45175046,\n",
              " 82.00008265,\n",
              " 82.40216463,\n",
              " 82.46079365,\n",
              " 85.08262287,\n",
              " 86.04135822,\n",
              " 83.49420622,\n",
              " 81.81284441,\n",
              " 82.670374,\n",
              " 88.26313358,\n",
              " 85.96486193,\n",
              " 83.03314966,\n",
              " 82.16382061,\n",
              " 84.23958381,\n",
              " 85.14879033,\n",
              " 84.2503594,\n",
              " 85.35738639,\n",
              " 82.00756972,\n",
              " 87.36090135,\n",
              " 81.59098919,\n",
              " 83.10301159,\n",
              " 86.59731587,\n",
              " 86.45733057,\n",
              " 87.99391433,\n",
              " 82.73303879,\n",
              " 84.94956475,\n",
              " 81.66650444,\n",
              " 82.25476034,\n",
              " 85.09354691,\n",
              " 81.74910421,\n",
              " 86.69600223,\n",
              " 83.56896534,\n",
              " 84.50831399,\n",
              " 84.18171553,\n",
              " 88.64324853,\n",
              " 82.62995763,\n",
              " 86.73009242,\n",
              " 86.15523544,\n",
              " 83.09128279,\n",
              " 83.17299435,\n",
              " 82.15743301,\n",
              " 85.63775357,\n",
              " 84.03909341,\n",
              " 85.99906134,\n",
              " 81.77673189,\n",
              " 86.8539722,\n",
              " 86.4737651,\n",
              " 84.29047474,\n",
              " 81.95780676,\n",
              " 82.61113577,\n",
              " 82.48348609,\n",
              " 83.77403825,\n",
              " 85.46174159,\n",
              " 81.64155146,\n",
              " 83.44389753,\n",
              " 85.93590065,\n",
              " 85.43188408,\n",
              " 88.06239369,\n",
              " 85.1998618,\n",
              " 83.59597067,\n",
              " 86.40179569,\n",
              " 85.35320353,\n",
              " 82.35641866,\n",
              " 71.58993153,\n",
              " 82.72706108,\n",
              " 84.17256142,\n",
              " 85.11981369,\n",
              " 82.93722606,\n",
              " 85.31854269,\n",
              " 83.43953446,\n",
              " 86.70303623,\n",
              " 84.75733939,\n",
              " 87.17605743,\n",
              " 82.8884269,\n",
              " 83.81570238,\n",
              " 81.94172632,\n",
              " 85.93157922,\n",
              " 82.33984881,\n",
              " 83.43829899,\n",
              " 83.24363784,\n",
              " 84.8384281,\n",
              " 85.51648604,\n",
              " 84.02113434,\n",
              " 83.54967045,\n",
              " 82.81125246,\n",
              " 83.93639313,\n",
              " 85.70189103,\n",
              " 81.7800175,\n",
              " 83.77755628,\n",
              " 86.58518502,\n",
              " 82.55973734,\n",
              " 82.79729912,\n",
              " 83.11616734,\n",
              " 84.94250992,\n",
              " 84.85405582,\n",
              " 81.8981868,\n",
              " 83.01521413,\n",
              " 83.49420929,\n",
              " 84.08546019,\n",
              " 84.52940817,\n",
              " 85.38448149,\n",
              " 82.6453816,\n",
              " 83.13129575,\n",
              " 88.65886328,\n",
              " 82.57851039,\n",
              " 84.49520739,\n",
              " 86.59498827,\n",
              " 82.70689897,\n",
              " 82.47865034,\n",
              " 83.82313195,\n",
              " 83.19692977,\n",
              " 82.89440222,\n",
              " 83.38399105,\n",
              " 82.54786007,\n",
              " 82.30747616,\n",
              " 87.01328686,\n",
              " 82.4776449,\n",
              " 86.12305374,\n",
              " 82.52686999,\n",
              " 82.81701686,\n",
              " 86.28241072,\n",
              " 83.48039656,\n",
              " 86.70636587,\n",
              " 86.33142216,\n",
              " 82.8754575,\n",
              " 85.07124832,\n",
              " 83.76095657,\n",
              " 82.87277597,\n",
              " 81.71672508,\n",
              " 85.79049428,\n",
              " 81.63730512,\n",
              " 86.06638168,\n",
              " 82.76144547,\n",
              " 82.8185066,\n",
              " 83.18927837,\n",
              " 83.99220446,\n",
              " 83.48153818,\n",
              " 83.70611979,\n",
              " 84.30691303,\n",
              " 82.42838568,\n",
              " 87.34134946,\n",
              " 82.31579189,\n",
              " 85.28728111,\n",
              " 81.97173621,\n",
              " 81.68681024,\n",
              " 84.69115623,\n",
              " 81.57951379,\n",
              " 82.25825602,\n",
              " 87.21403016,\n",
              " 83.7697786,\n",
              " 81.85389148,\n",
              " 85.8619108,\n",
              " 85.98711547,\n",
              " 81.65461369,\n",
              " 81.73188181,\n",
              " 82.97774891,\n",
              " 82.61665274,\n",
              " 83.81994292,\n",
              " 83.44074332,\n",
              " 81.96700797,\n",
              " 84.89148384,\n",
              " 84.38021142,\n",
              " 83.02463718,\n",
              " 82.51767766,\n",
              " 82.97860794,\n",
              " 89.28630161,\n",
              " 83.55236085,\n",
              " 83.14449825,\n",
              " 86.16045924,\n",
              " 86.74190314,\n",
              " 81.92430802,\n",
              " 86.71141766,\n",
              " 83.49092129,\n",
              " 86.33606508,\n",
              " 81.99630371,\n",
              " 81.67071137,\n",
              " 83.80939908,\n",
              " 87.04723849,\n",
              " 86.9309893,\n",
              " 86.49841997,\n",
              " 82.55207399,\n",
              " 85.56712544,\n",
              " 81.71150657,\n",
              " 82.60516966,\n",
              " 83.6039917,\n",
              " 82.84262291,\n",
              " 81.92578001,\n",
              " 86.55556847,\n",
              " 87.3386717,\n",
              " 83.8648971,\n",
              " 85.26154777,\n",
              " 83.19138174,\n",
              " 82.75026375,\n",
              " 84.22639189,\n",
              " 82.61338932,\n",
              " 82.83883185,\n",
              " 81.67038816,\n",
              " 86.12390833,\n",
              " 87.32818928,\n",
              " 86.20569191,\n",
              " 85.92341281,\n",
              " 82.11630778,\n",
              " 82.91040877,\n",
              " 87.4054057,\n",
              " 82.35379106,\n",
              " 82.0590045,\n",
              " 83.17073534,\n",
              " 86.85578992,\n",
              " 82.6639492,\n",
              " 86.72428092,\n",
              " 82.37050221,\n",
              " 86.13388086,\n",
              " 87.32874149,\n",
              " 81.76962792,\n",
              " 85.60052213,\n",
              " 83.91973165,\n",
              " 82.12613355,\n",
              " 86.51561421,\n",
              " 85.57003665,\n",
              " 84.7258768,\n",
              " 81.88810779,\n",
              " 84.87350599,\n",
              " 84.45236991,\n",
              " 82.32460163,\n",
              " 81.60133219,\n",
              " 85.90311555,\n",
              " 86.55176512,\n",
              " 82.56542871,\n",
              " 85.00976747,\n",
              " 88.20023364,\n",
              " 83.66520259,\n",
              " 84.20660247,\n",
              " 86.00747416,\n",
              " 85.19798641,\n",
              " 82.56477138,\n",
              " 86.28221755,\n",
              " 87.14273992,\n",
              " 84.89186131,\n",
              " 85.27063533,\n",
              " 83.06345494,\n",
              " 85.34974488,\n",
              " 85.38793535,\n",
              " 85.20033654,\n",
              " 81.84273212,\n",
              " 84.98406177,\n",
              " 81.58058715,\n",
              " 86.36915189,\n",
              " 84.93904957,\n",
              " 82.9209318,\n",
              " 82.41697291,\n",
              " 85.56197399,\n",
              " 84.86560237,\n",
              " 86.08879153,\n",
              " 88.08988605,\n",
              " 87.53541916,\n",
              " 87.57240214,\n",
              " 82.36122336,\n",
              " 86.67445174,\n",
              " 81.81730782,\n",
              " 83.917445,\n",
              " 84.66004687,\n",
              " 87.46632956,\n",
              " 83.24601322,\n",
              " 84.46718637,\n",
              " 86.71542919,\n",
              " 86.76992791,\n",
              " 86.54546148,\n",
              " 83.74841958,\n",
              " 86.35742171,\n",
              " 86.44756419,\n",
              " 84.69044669,\n",
              " 82.65710256,\n",
              " 83.48729439,\n",
              " 84.38654783,\n",
              " 86.79502373,\n",
              " 86.47427089,\n",
              " 83.5819873,\n",
              " 83.988082,\n",
              " 86.71431249,\n",
              " 83.63017998,\n",
              " 82.07872925,\n",
              " 85.19984167,\n",
              " 86.53748619,\n",
              " 83.41301342,\n",
              " 85.63069021,\n",
              " 82.49234021,\n",
              " 81.91592352,\n",
              " 83.74644692,\n",
              " 82.15176502,\n",
              " 72.10173977,\n",
              " 82.80530103,\n",
              " 81.7474225,\n",
              " 83.53026396,\n",
              " 83.20174436,\n",
              " 86.86887365,\n",
              " 82.16649139,\n",
              " 83.51865153,\n",
              " 84.18072954,\n",
              " 88.7625905,\n",
              " 82.07166077,\n",
              " 81.84006988,\n",
              " 83.84382203,\n",
              " 83.41003565,\n",
              " 81.91506142,\n",
              " 83.24287403,\n",
              " 87.58764897,\n",
              " 86.8090385,\n",
              " 84.84285021,\n",
              " 87.06978827,\n",
              " 86.24251994,\n",
              " 82.11947582,\n",
              " 85.83188811,\n",
              " 81.79239852,\n",
              " 83.46907423,\n",
              " 86.75437392,\n",
              " 85.04499928,\n",
              " 86.7564633,\n",
              " 82.90727128,\n",
              " 82.18532775,\n",
              " 83.50062624,\n",
              " 89.12104917,\n",
              " 87.32935923,\n",
              " 84.50082129,\n",
              " 86.80099018,\n",
              " 82.1580528,\n",
              " 83.54215727,\n",
              " 89.58079551,\n",
              " 84.28814748,\n",
              " 87.02513307,\n",
              " 83.77976682,\n",
              " 82.68531948,\n",
              " 86.74849961,\n",
              " 84.44701027,\n",
              " 87.32602959,\n",
              " 89.13886115,\n",
              " 82.70410618,\n",
              " 86.29064607,\n",
              " 82.04277901,\n",
              " 85.52897388,\n",
              " 84.01380033,\n",
              " 84.01481977,\n",
              " 86.01425493,\n",
              " 82.50258099,\n",
              " 85.01113161,\n",
              " 81.79909294,\n",
              " 84.19360167,\n",
              " 81.94766325,\n",
              " 88.05280819,\n",
              " 87.4693889,\n",
              " 88.93318756,\n",
              " 87.76247941,\n",
              " 85.11226229,\n",
              " 83.14247303,\n",
              " 82.50568093,\n",
              " 83.92213946,\n",
              " 85.23115375,\n",
              " 82.19796849,\n",
              " 84.73314834,\n",
              " 85.44797937,\n",
              " 83.24256107,\n",
              " 86.53055866,\n",
              " 82.85204971,\n",
              " 85.52997522,\n",
              " 84.95431313,\n",
              " 84.2275475,\n",
              " 88.58926038,\n",
              " 83.67884638,\n",
              " 86.04206264,\n",
              " 83.42900256,\n",
              " 87.69958288,\n",
              " 82.17334758,\n",
              " 82.95020467,\n",
              " 87.59736553,\n",
              " 81.79685714,\n",
              " 83.11511514,\n",
              " 82.73298214,\n",
              " 82.89390155,\n",
              " 82.70017041,\n",
              " 85.14369246,\n",
              " 86.57324803,\n",
              " 85.37130833,\n",
              " 82.25323358,\n",
              " 85.52298422,\n",
              " 85.10212117,\n",
              " 83.66929671,\n",
              " 83.48158596,\n",
              " 81.94331076,\n",
              " 86.42271274,\n",
              " 84.24338375,\n",
              " 85.10514364,\n",
              " 83.04198637,\n",
              " 86.0604241,\n",
              " 87.98544144,\n",
              " 87.35233221,\n",
              " 82.11825997,\n",
              " 83.90094801,\n",
              " 84.27271396,\n",
              " 81.92363107,\n",
              " 86.61643568,\n",
              " 85.86947449,\n",
              " 85.97385768,\n",
              " 83.4518363,\n",
              " 83.11326091,\n",
              " 82.06816885,\n",
              " 85.10690607,\n",
              " 86.65408349,\n",
              " 83.25343767,\n",
              " 83.05474792,\n",
              " 86.72639488,\n",
              " 83.93795727,\n",
              " 85.73371847,\n",
              " 83.97278875,\n",
              " 85.64313983,\n",
              " 81.91554469,\n",
              " 83.72188181,\n",
              " 85.20370269,\n",
              " 83.56756195,\n",
              " 85.672254,\n",
              " 88.41598077,\n",
              " 83.74411385,\n",
              " 84.04643936,\n",
              " 87.14009901,\n",
              " 84.12003502,\n",
              " 81.57742304,\n",
              " 86.14660555,\n",
              " 81.87364626,\n",
              " 85.13621887,\n",
              " 82.22241107,\n",
              " 83.18199726,\n",
              " 84.68792182,\n",
              " 82.08998451,\n",
              " 83.80872469,\n",
              " 83.66042451,\n",
              " 82.38286599,\n",
              " 85.53611983,\n",
              " 87.12453614,\n",
              " 83.52735582,\n",
              " 85.73189188,\n",
              " 81.97209935,\n",
              " 85.20401088,\n",
              " 85.90221864,\n",
              " 83.05158074,\n",
              " 87.07497522,\n",
              " 85.42920495,\n",
              " 82.21990668,\n",
              " 83.58570259,\n",
              " 82.35370488,\n",
              " 84.28674068,\n",
              " 81.79345788,\n",
              " 85.60069278,\n",
              " 81.96371485,\n",
              " 84.61110267,\n",
              " 83.20462452,\n",
              " 84.97884786,\n",
              " 84.2460953,\n",
              " 85.0414188,\n",
              " 86.23519925,\n",
              " 83.73285296,\n",
              " 81.79208419,\n",
              " 82.18645487,\n",
              " 82.16891916,\n",
              " 85.21122202,\n",
              " 81.90804994,\n",
              " 82.92115807,\n",
              " 84.16009099,\n",
              " 87.45970852,\n",
              " 82.99695847,\n",
              " 85.21707789,\n",
              " 84.06992326,\n",
              " 81.96859719,\n",
              " 82.32011894,\n",
              " 81.79432664,\n",
              " 84.29567568,\n",
              " 88.79188419,\n",
              " 84.80686346,\n",
              " 83.45973241,\n",
              " 84.62911225,\n",
              " 83.96404727,\n",
              " 85.78981784,\n",
              " 84.05011507,\n",
              " 84.16345031,\n",
              " 83.11213396,\n",
              " 84.37412074,\n",
              " 84.81651892,\n",
              " 86.2426155,\n",
              " 85.63033186,\n",
              " 86.09281057,\n",
              " 84.84844363,\n",
              " 84.55419511,\n",
              " 83.34596133,\n",
              " 83.26261328,\n",
              " 83.22861079,\n",
              " 86.32492671,\n",
              " 87.12326517,\n",
              " 85.01848472,\n",
              " 85.1800461,\n",
              " 86.4536378,\n",
              " 84.91055996,\n",
              " 82.47776606,\n",
              " 83.50319889,\n",
              " 84.77787215,\n",
              " 84.21336549,\n",
              " 86.25343921,\n",
              " 83.67700307,\n",
              " 81.95405802,\n",
              " 85.27761097,\n",
              " 82.44087318,\n",
              " 86.93174765,\n",
              " 87.06757739,\n",
              " 81.66681826,\n",
              " 84.98071165,\n",
              " 86.78751464,\n",
              " 84.7671812,\n",
              " 85.44915136,\n",
              " 82.25057321,\n",
              " 82.79740969,\n",
              " 85.75401846,\n",
              " 84.30087218,\n",
              " 88.13460473,\n",
              " 88.16930175,\n",
              " 85.91278296,\n",
              " 84.56552256,\n",
              " 82.61864076,\n",
              " 84.65010609,\n",
              " 84.88111235,\n",
              " 86.19452486,\n",
              " 81.57423163,\n",
              " 83.65276935,\n",
              " 87.64036957,\n",
              " 82.44956518,\n",
              " 86.7197827,\n",
              " 86.23559719,\n",
              " 83.64865441,\n",
              " 86.82582388,\n",
              " 84.09615011,\n",
              " 82.33409754,\n",
              " 82.8431717,\n",
              " 84.00096574,\n",
              " 85.30939882,\n",
              " 84.32439327,\n",
              " 83.29421239,\n",
              " 84.97423395,\n",
              " 82.78230518,\n",
              " 82.06551019,\n",
              " 87.76796737,\n",
              " 82.85285379,\n",
              " 86.87877518,\n",
              " 88.15126656,\n",
              " 83.2141776,\n",
              " 82.06626462,\n",
              " 82.77587798,\n",
              " 84.08473665,\n",
              " 87.57319462,\n",
              " 84.1956716,\n",
              " 86.31581697,\n",
              " 84.17607262,\n",
              " 82.71628618,\n",
              " 81.72066426,\n",
              " 83.56648347,\n",
              " 83.20736372,\n",
              " 84.50692938,\n",
              " 87.99106591,\n",
              " 85.4934134,\n",
              " 84.93643699,\n",
              " 83.62355996,\n",
              " 83.83922382,\n",
              " 85.87417407,\n",
              " 83.84056236,\n",
              " 81.84991886,\n",
              " 86.4318607,\n",
              " 85.73624744,\n",
              " 81.75978782,\n",
              " 83.47595568,\n",
              " 83.3026887,\n",
              " 81.88326026,\n",
              " 82.53025389,\n",
              " 83.8311813,\n",
              " 83.58735956,\n",
              " 83.58776535,\n",
              " 83.72156885,\n",
              " 84.70536077,\n",
              " 83.42262281,\n",
              " 82.82893987,\n",
              " 83.70880286,\n",
              " 83.15419808,\n",
              " 84.30462058,\n",
              " 84.27584701,\n",
              " 83.88682368,\n",
              " 86.11481361,\n",
              " 87.36646507,\n",
              " 82.00771204,\n",
              " 88.03320716,\n",
              " 81.76462715,\n",
              " 83.57226903,\n",
              " 88.17632347,\n",
              " 83.76162584,\n",
              " 84.39095834,\n",
              " 85.51551882,\n",
              " 83.2931131,\n",
              " 86.53662477,\n",
              " 83.60109925,\n",
              " 84.74112739,\n",
              " 83.04941798,\n",
              " 84.7435567,\n",
              " 87.92654074,\n",
              " 82.44666454,\n",
              " 87.89754261,\n",
              " 85.85743579,\n",
              " 84.43772852,\n",
              " 85.65045301,\n",
              " 85.17608201,\n",
              " 83.66810424,\n",
              " 84.95014085,\n",
              " 82.17162048,\n",
              " 83.40228186,\n",
              " 86.63445107,\n",
              " 86.07070242,\n",
              " 86.39655346,\n",
              " 82.26857529,\n",
              " 86.72938049,\n",
              " 87.77531468,\n",
              " 85.36961212,\n",
              " 82.50113971,\n",
              " 83.82089581,\n",
              " 83.19842428,\n",
              " 84.47063,\n",
              " 83.1409478,\n",
              " 85.10635829,\n",
              " 83.28735415,\n",
              " 82.63207056,\n",
              " 82.49234089,\n",
              " 86.07807363,\n",
              " 85.70625,\n",
              " 86.43045731,\n",
              " 82.74841771,\n",
              " 83.05948265,\n",
              " 81.67416643,\n",
              " 84.02560184,\n",
              " 81.67117074,\n",
              " 84.99912977,\n",
              " 83.40733911,\n",
              " 85.02382524,\n",
              " 85.07189268,\n",
              " 83.79493346,\n",
              " 83.1974301,\n",
              " 88.04124184,\n",
              " 84.8600325,\n",
              " 83.33124077,\n",
              " 82.88770711,\n",
              " 81.84618018,\n",
              " 83.21973689,\n",
              " 86.01926304,\n",
              " 84.5900334,\n",
              " 81.71146118,\n",
              " 84.73737865,\n",
              " 82.10300852,\n",
              " 85.83095502,\n",
              " 82.29481085,\n",
              " 85.73514438,\n",
              " 82.10865774,\n",
              " 84.61218763,\n",
              " 84.16233054,\n",
              " 86.99378685,\n",
              " 82.18135239,\n",
              " 83.92192615,\n",
              " 86.35259518,\n",
              " 85.55818839,\n",
              " 83.33882562,\n",
              " 86.24972186,\n",
              " 83.41368132,\n",
              " 86.29321258,\n",
              " 85.86369507,\n",
              " 85.43785531,\n",
              " 88.44099399,\n",
              " 82.10802567,\n",
              " 81.61759658,\n",
              " 82.92430375,\n",
              " 81.97194576,\n",
              " 84.76819484,\n",
              " 87.68765612,\n",
              " 81.7332521,\n",
              " 82.79608378,\n",
              " 86.93766769,\n",
              " 87.87175671,\n",
              " 83.67808837,\n",
              " 82.76596314,\n",
              " 84.14013502,\n",
              " 84.14480217,\n",
              " 82.08263771,\n",
              " 83.87603138,\n",
              " 85.194452,\n",
              " 81.6593846,\n",
              " 85.53330008,\n",
              " 82.04750504,\n",
              " 81.57458418,\n",
              " 84.8079433,\n",
              " 81.97246077,\n",
              " 87.26276447,\n",
              " 86.76641535,\n",
              " 88.89397458,\n",
              " 83.62735853,\n",
              " 85.2463924,\n",
              " 71.32197369,\n",
              " 85.18341806,\n",
              " 85.92586942,\n",
              " 83.50261529,\n",
              " 84.66685973,\n",
              " 83.02117853,\n",
              " 81.96662589,\n",
              " 85.49685771,\n",
              " 87.42876298,\n",
              " 86.54608399,\n",
              " 82.86727299,\n",
              " 83.42911587,\n",
              " 86.95487421,\n",
              " 83.65994978,\n",
              " 83.68676706,\n",
              " 83.5402672,\n",
              " 84.20638473,\n",
              " 87.94654381,\n",
              " 83.56304326,\n",
              " 88.68130862,\n",
              " 84.15161809,\n",
              " 84.29965752,\n",
              " 84.86705423,\n",
              " 83.43233186,\n",
              " 85.87688665,\n",
              " 86.27179316,\n",
              " 83.29278785,\n",
              " 84.92341059,\n",
              " 86.02664653,\n",
              " 84.40804098,\n",
              " 84.83003097,\n",
              " 81.79742471,\n",
              " 84.64708635,\n",
              " 88.19375047,\n",
              " 82.82215091,\n",
              " 84.76423484,\n",
              " 84.37147915,\n",
              " 82.22895635,\n",
              " 82.12947342,\n",
              " 82.84178538,\n",
              " 82.32395437,\n",
              " 85.83488123,\n",
              " 83.17979594,\n",
              " 83.87593923,\n",
              " 82.85435206,\n",
              " 87.133637,\n",
              " 82.656321,\n",
              " 84.73292923,\n",
              " 84.82775422,\n",
              " 86.32388714,\n",
              " 81.95623682,\n",
              " 81.93350632,\n",
              " 88.09699105,\n",
              " 85.55961021,\n",
              " 83.89129186,\n",
              " 87.87541671,\n",
              " 82.54130728,\n",
              " 82.31339602,\n",
              " 87.42687905,\n",
              " 82.01593221,\n",
              " 82.93599468,\n",
              " 83.86521689,\n",
              " 82.66264888,\n",
              " 82.81306233,\n",
              " 82.99857653,\n",
              " 89.21441206,\n",
              " 82.61117638,\n",
              " 82.18208498,\n",
              " 81.69089378,\n",
              " 84.33298016,\n",
              " 84.37377877,\n",
              " 84.87671993,\n",
              " 87.79953269,\n",
              " 84.32104726,\n",
              " 85.24883399,\n",
              " 88.04151828,\n",
              " 83.02233141,\n",
              " 84.58483793,\n",
              " 86.61119618,\n",
              " 85.84991715,\n",
              " 82.34691132,\n",
              " 82.79310226,\n",
              " 82.46847202,\n",
              " 85.07336296,\n",
              " 85.69357172,\n",
              " 82.26003466,\n",
              " 84.47516712,\n",
              " 83.42214091,\n",
              " 83.16080138,\n",
              " ...]"
            ]
          },
          "metadata": {},
          "execution_count": 634
        }
      ]
    },
    {
      "cell_type": "code",
      "source": [
        "ind1 = df[\"lub oil temp\"]>upp_limit\n",
        "c= df.loc[ind1].index\n",
        "c"
      ],
      "metadata": {
        "colab": {
          "base_uri": "https://localhost:8080/"
        },
        "id": "tQ5dfhViX9TW",
        "outputId": "7672e06a-144e-4a4b-d577-386208e985a4"
      },
      "execution_count": null,
      "outputs": [
        {
          "output_type": "execute_result",
          "data": {
            "text/plain": [
              "Int64Index([    0,     6,    17,    27,    33,    41,    45,    57,    59,\n",
              "               68,\n",
              "            ...\n",
              "            19479, 19490, 19494, 19497, 19507, 19508, 19510, 19513, 19520,\n",
              "            19521],\n",
              "           dtype='int64', length=2291)"
            ]
          },
          "metadata": {},
          "execution_count": 636
        }
      ]
    },
    {
      "cell_type": "code",
      "source": [
        "c[:100]"
      ],
      "metadata": {
        "colab": {
          "base_uri": "https://localhost:8080/"
        },
        "id": "Rlglgo7qYG14",
        "outputId": "0fc89674-6784-41fa-86b5-9b2a49ad565b"
      },
      "execution_count": null,
      "outputs": [
        {
          "output_type": "execute_result",
          "data": {
            "text/plain": [
              "Int64Index([  0,   6,  17,  27,  33,  41,  45,  57,  59,  68,  74,  75,  77,\n",
              "             87,  92,  95, 103, 105, 106, 111, 112, 117, 129, 151, 159, 165,\n",
              "            168, 169, 172, 185, 186, 187, 192, 213, 223, 238, 245, 253, 263,\n",
              "            279, 284, 297, 308, 311, 312, 313, 317, 319, 331, 333, 337, 359,\n",
              "            364, 368, 372, 373, 374, 376, 378, 396, 409, 415, 425, 429, 431,\n",
              "            437, 438, 443, 449, 458, 481, 482, 483, 502, 510, 511, 519, 521,\n",
              "            545, 551, 558, 596, 601, 609, 616, 623, 624, 625, 645, 654, 679,\n",
              "            680, 686, 690, 691, 705, 706, 715, 721, 726],\n",
              "           dtype='int64')"
            ]
          },
          "metadata": {},
          "execution_count": 639
        }
      ]
    },
    {
      "cell_type": "code",
      "source": [
        "df.drop([0,   6,  17,  27,  33,  41,  45,  57,  59,  68,  74,  75,  77,\n",
        "             87,  92,  95, 103, 105, 106, 111, 112, 117, 129, 151, 159, 165,\n",
        "            168, 169, 172, 185, 186, 187, 192, 213, 223, 238, 245, 253, 263,\n",
        "            279, 284, 297, 308, 311, 312, 313, 317, 319, 331, 333, 337, 359,\n",
        "            364, 368, 372, 373, 374, 376, 378, 396, 409, 415, 425, 429, 431,\n",
        "            437, 438, 443, 449, 458, 481, 482, 483, 502, 510, 511, 519, 521,\n",
        "            545, 551, 558, 596, 601, 609, 616, 623, 624, 625, 645, 654, 679,\n",
        "            680, 686, 690, 691, 705, 706, 715, 721, 726],inplace=True)"
      ],
      "metadata": {
        "id": "nddp3sCvYo7U"
      },
      "execution_count": null,
      "outputs": []
    },
    {
      "cell_type": "code",
      "source": [
        "c[100:200]"
      ],
      "metadata": {
        "colab": {
          "base_uri": "https://localhost:8080/"
        },
        "id": "JcSdczkkY2Ho",
        "outputId": "faa0a369-8c8a-4f3f-f8cb-e2cec938cd68"
      },
      "execution_count": null,
      "outputs": [
        {
          "output_type": "execute_result",
          "data": {
            "text/plain": [
              "Int64Index([ 732,  737,  739,  740,  751,  762,  765,  768,  786,  787,  793,\n",
              "             805,  835,  839,  849,  851,  853,  855,  874,  876,  879,  890,\n",
              "             899,  906,  915,  916,  931,  933,  945,  954,  964,  966,  971,\n",
              "             972,  982,  983,  984, 1009, 1012, 1022, 1024, 1030, 1036, 1041,\n",
              "            1043, 1044, 1047, 1049, 1063, 1065, 1081, 1090, 1104, 1109, 1137,\n",
              "            1142, 1146, 1172, 1183, 1187, 1193, 1201, 1219, 1231, 1250, 1269,\n",
              "            1300, 1308, 1315, 1333, 1343, 1366, 1368, 1385, 1394, 1399, 1428,\n",
              "            1432, 1449, 1457, 1466, 1484, 1512, 1513, 1514, 1515, 1522, 1524,\n",
              "            1525, 1545, 1555, 1556, 1587, 1591, 1593, 1613, 1616, 1627, 1650,\n",
              "            1662],\n",
              "           dtype='int64')"
            ]
          },
          "metadata": {},
          "execution_count": 641
        }
      ]
    },
    {
      "cell_type": "code",
      "source": [
        "df.drop([ 732,  737,  739,  740,  751,  762,  765,  768,  786,  787,  793,\n",
        "             805,  835,  839,  849,  851,  853,  855,  874,  876,  879,  890,\n",
        "             899,  906,  915,  916,  931,  933,  945,  954,  964,  966,  971,\n",
        "             972,  982,  983,  984, 1009, 1012, 1022, 1024, 1030, 1036, 1041,\n",
        "            1043, 1044, 1047, 1049, 1063, 1065, 1081, 1090, 1104, 1109, 1137,\n",
        "            1142, 1146, 1172, 1183, 1187, 1193, 1201, 1219, 1231, 1250, 1269,\n",
        "            1300, 1308, 1315, 1333, 1343, 1366, 1368, 1385, 1394, 1399, 1428,\n",
        "            1432, 1449, 1457, 1466, 1484, 1512, 1513, 1514, 1515, 1522, 1524,\n",
        "            1525, 1545, 1555, 1556, 1587, 1591, 1593, 1613, 1616, 1627, 1650,\n",
        "            1662],inplace=True)"
      ],
      "metadata": {
        "id": "q94XEnC2Y4zI"
      },
      "execution_count": null,
      "outputs": []
    },
    {
      "cell_type": "code",
      "source": [
        "c[200:300]"
      ],
      "metadata": {
        "colab": {
          "base_uri": "https://localhost:8080/"
        },
        "id": "eSzmaVA9Y9x2",
        "outputId": "75972c47-d75b-4b34-83d5-64f8add5ba9f"
      },
      "execution_count": null,
      "outputs": [
        {
          "output_type": "execute_result",
          "data": {
            "text/plain": [
              "Int64Index([1665, 1688, 1695, 1700, 1706, 1710, 1723, 1731, 1732, 1756, 1762,\n",
              "            1763, 1810, 1838, 1903, 1942, 1947, 1953, 1956, 1961, 1967, 1975,\n",
              "            1979, 1984, 1996, 2001, 2003, 2006, 2007, 2012, 2015, 2022, 2025,\n",
              "            2026, 2045, 2049, 2052, 2054, 2057, 2058, 2067, 2068, 2070, 2077,\n",
              "            2078, 2079, 2083, 2095, 2097, 2110, 2111, 2113, 2141, 2145, 2153,\n",
              "            2161, 2166, 2167, 2169, 2172, 2182, 2192, 2198, 2207, 2211, 2213,\n",
              "            2219, 2227, 2243, 2244, 2271, 2284, 2304, 2305, 2315, 2324, 2325,\n",
              "            2331, 2336, 2350, 2354, 2359, 2368, 2372, 2380, 2385, 2400, 2403,\n",
              "            2416, 2420, 2421, 2437, 2438, 2470, 2486, 2489, 2496, 2501, 2524,\n",
              "            2529],\n",
              "           dtype='int64')"
            ]
          },
          "metadata": {},
          "execution_count": 643
        }
      ]
    },
    {
      "cell_type": "code",
      "source": [
        "df.drop([ 1665, 1688, 1695, 1700, 1706, 1710, 1723, 1731, 1732, 1756, 1762,\n",
        "            1763, 1810, 1838, 1903, 1942, 1947, 1953, 1956, 1961, 1967, 1975,\n",
        "            1979, 1984, 1996, 2001, 2003, 2006, 2007, 2012, 2015, 2022, 2025,\n",
        "            2026, 2045, 2049, 2052, 2054, 2057, 2058, 2067, 2068, 2070, 2077,\n",
        "            2078, 2079, 2083, 2095, 2097, 2110, 2111, 2113, 2141, 2145, 2153,\n",
        "            2161, 2166, 2167, 2169, 2172, 2182, 2192, 2198, 2207, 2211, 2213,\n",
        "            2219, 2227, 2243, 2244, 2271, 2284, 2304, 2305, 2315, 2324, 2325,\n",
        "            2331, 2336, 2350, 2354, 2359, 2368, 2372, 2380, 2385, 2400, 2403,\n",
        "            2416, 2420, 2421, 2437, 2438, 2470, 2486, 2489, 2496, 2501, 2524,\n",
        "            2529],inplace=True)"
      ],
      "metadata": {
        "id": "LZy8OQr7ZBlL"
      },
      "execution_count": null,
      "outputs": []
    },
    {
      "cell_type": "code",
      "source": [
        "c[300:400]"
      ],
      "metadata": {
        "colab": {
          "base_uri": "https://localhost:8080/"
        },
        "id": "UyJBqpntZI2f",
        "outputId": "41d14a3c-ff4c-4e8f-827b-28963c4bf558"
      },
      "execution_count": null,
      "outputs": [
        {
          "output_type": "execute_result",
          "data": {
            "text/plain": [
              "Int64Index([2542, 2548, 2551, 2571, 2574, 2575, 2587, 2589, 2596, 2612, 2613,\n",
              "            2662, 2666, 2667, 2669, 2699, 2707, 2715, 2717, 2720, 2721, 2733,\n",
              "            2740, 2751, 2754, 2756, 2757, 2765, 2774, 2802, 2814, 2818, 2823,\n",
              "            2825, 2831, 2832, 2837, 2841, 2884, 2887, 2898, 2906, 2915, 2920,\n",
              "            2955, 2961, 2984, 2988, 2994, 2996, 3007, 3010, 3023, 3031, 3035,\n",
              "            3042, 3045, 3049, 3053, 3056, 3059, 3065, 3073, 3074, 3076, 3078,\n",
              "            3079, 3081, 3093, 3095, 3099, 3102, 3109, 3117, 3120, 3131, 3150,\n",
              "            3158, 3161, 3187, 3189, 3190, 3194, 3203, 3215, 3234, 3238, 3247,\n",
              "            3249, 3252, 3269, 3288, 3292, 3300, 3308, 3321, 3322, 3325, 3326,\n",
              "            3327],\n",
              "           dtype='int64')"
            ]
          },
          "metadata": {},
          "execution_count": 645
        }
      ]
    },
    {
      "cell_type": "code",
      "source": [
        "df.drop([ 2542, 2548, 2551, 2571, 2574, 2575, 2587, 2589, 2596, 2612, 2613,\n",
        "            2662, 2666, 2667, 2669, 2699, 2707, 2715, 2717, 2720, 2721, 2733,\n",
        "            2740, 2751, 2754, 2756, 2757, 2765, 2774, 2802, 2814, 2818, 2823,\n",
        "            2825, 2831, 2832, 2837, 2841, 2884, 2887, 2898, 2906, 2915, 2920,\n",
        "            2955, 2961, 2984, 2988, 2994, 2996, 3007, 3010, 3023, 3031, 3035,\n",
        "            3042, 3045, 3049, 3053, 3056, 3059, 3065, 3073, 3074, 3076, 3078,\n",
        "            3079, 3081, 3093, 3095, 3099, 3102, 3109, 3117, 3120, 3131, 3150,\n",
        "            3158, 3161, 3187, 3189, 3190, 3194, 3203, 3215, 3234, 3238, 3247,\n",
        "            3249, 3252, 3269, 3288, 3292, 3300, 3308, 3321, 3322, 3325, 3326,\n",
        "            3327],inplace=True)"
      ],
      "metadata": {
        "id": "5TLXTpP_ZMxn"
      },
      "execution_count": null,
      "outputs": []
    },
    {
      "cell_type": "code",
      "source": [
        "c[400:500]"
      ],
      "metadata": {
        "colab": {
          "base_uri": "https://localhost:8080/"
        },
        "id": "jXKl2aO4ZQJa",
        "outputId": "5ec0fb49-f41f-44db-a5cb-af052793ac47"
      },
      "execution_count": null,
      "outputs": [
        {
          "output_type": "execute_result",
          "data": {
            "text/plain": [
              "Int64Index([3330, 3350, 3371, 3372, 3385, 3397, 3407, 3412, 3413, 3417, 3425,\n",
              "            3434, 3438, 3442, 3452, 3453, 3488, 3490, 3491, 3506, 3507, 3521,\n",
              "            3529, 3534, 3538, 3545, 3577, 3578, 3579, 3581, 3586, 3587, 3597,\n",
              "            3615, 3623, 3633, 3634, 3635, 3639, 3654, 3655, 3672, 3675, 3677,\n",
              "            3678, 3705, 3728, 3737, 3742, 3747, 3754, 3760, 3768, 3770, 3788,\n",
              "            3797, 3813, 3817, 3819, 3824, 3827, 3836, 3840, 3853, 3859, 3870,\n",
              "            3873, 3875, 3880, 3883, 3886, 3889, 3891, 3907, 3920, 3922, 3923,\n",
              "            3924, 3930, 3933, 3952, 3966, 3973, 3978, 3987, 3993, 3994, 3996,\n",
              "            4003, 4005, 4018, 4030, 4041, 4063, 4067, 4084, 4085, 4104, 4115,\n",
              "            4124],\n",
              "           dtype='int64')"
            ]
          },
          "metadata": {},
          "execution_count": 647
        }
      ]
    },
    {
      "cell_type": "code",
      "source": [
        "df.drop([ 3330, 3350, 3371, 3372, 3385, 3397, 3407, 3412, 3413, 3417, 3425,\n",
        "            3434, 3438, 3442, 3452, 3453, 3488, 3490, 3491, 3506, 3507, 3521,\n",
        "            3529, 3534, 3538, 3545, 3577, 3578, 3579, 3581, 3586, 3587, 3597,\n",
        "            3615, 3623, 3633, 3634, 3635, 3639, 3654, 3655, 3672, 3675, 3677,\n",
        "            3678, 3705, 3728, 3737, 3742, 3747, 3754, 3760, 3768, 3770, 3788,\n",
        "            3797, 3813, 3817, 3819, 3824, 3827, 3836, 3840, 3853, 3859, 3870,\n",
        "            3873, 3875, 3880, 3883, 3886, 3889, 3891, 3907, 3920, 3922, 3923,\n",
        "            3924, 3930, 3933, 3952, 3966, 3973, 3978, 3987, 3993, 3994, 3996,\n",
        "            4003, 4005, 4018, 4030, 4041, 4063, 4067, 4084, 4085, 4104, 4115,\n",
        "            4124],inplace=True)"
      ],
      "metadata": {
        "id": "q6YvA48ZZSVg"
      },
      "execution_count": null,
      "outputs": []
    },
    {
      "cell_type": "code",
      "source": [
        "c[500:600]"
      ],
      "metadata": {
        "colab": {
          "base_uri": "https://localhost:8080/"
        },
        "id": "vAmDEUZBZZI6",
        "outputId": "5d292aa4-091e-4fe7-cef6-ece940fc109c"
      },
      "execution_count": null,
      "outputs": [
        {
          "output_type": "execute_result",
          "data": {
            "text/plain": [
              "Int64Index([4125, 4139, 4160, 4161, 4167, 4176, 4191, 4193, 4199, 4203, 4212,\n",
              "            4235, 4240, 4247, 4254, 4262, 4275, 4277, 4283, 4289, 4323, 4326,\n",
              "            4327, 4328, 4329, 4344, 4350, 4353, 4354, 4367, 4395, 4403, 4406,\n",
              "            4414, 4425, 4433, 4450, 4453, 4454, 4458, 4464, 4471, 4496, 4499,\n",
              "            4506, 4510, 4512, 4513, 4516, 4521, 4529, 4545, 4559, 4560, 4562,\n",
              "            4584, 4588, 4592, 4593, 4597, 4624, 4625, 4630, 4641, 4664, 4690,\n",
              "            4691, 4723, 4724, 4726, 4736, 4749, 4761, 4771, 4778, 4785, 4788,\n",
              "            4823, 4825, 4833, 4842, 4853, 4871, 4882, 4883, 4895, 4905, 4908,\n",
              "            4919, 4920, 4941, 4952, 4974, 4991, 5002, 5003, 5006, 5015, 5029,\n",
              "            5034],\n",
              "           dtype='int64')"
            ]
          },
          "metadata": {},
          "execution_count": 649
        }
      ]
    },
    {
      "cell_type": "code",
      "source": [
        "df.drop([ 4125, 4139, 4160, 4161, 4167, 4176, 4191, 4193, 4199, 4203, 4212,\n",
        "            4235, 4240, 4247, 4254, 4262, 4275, 4277, 4283, 4289, 4323, 4326,\n",
        "            4327, 4328, 4329, 4344, 4350, 4353, 4354, 4367, 4395, 4403, 4406,\n",
        "            4414, 4425, 4433, 4450, 4453, 4454, 4458, 4464, 4471, 4496, 4499,\n",
        "            4506, 4510, 4512, 4513, 4516, 4521, 4529, 4545, 4559, 4560, 4562,\n",
        "            4584, 4588, 4592, 4593, 4597, 4624, 4625, 4630, 4641, 4664, 4690,\n",
        "            4691, 4723, 4724, 4726, 4736, 4749, 4761, 4771, 4778, 4785, 4788,\n",
        "            4823, 4825, 4833, 4842, 4853, 4871, 4882, 4883, 4895, 4905, 4908,\n",
        "            4919, 4920, 4941, 4952, 4974, 4991, 5002, 5003, 5006, 5015, 5029,\n",
        "            5034],inplace=True)"
      ],
      "metadata": {
        "id": "Qc2piKagZamH"
      },
      "execution_count": null,
      "outputs": []
    },
    {
      "cell_type": "code",
      "source": [
        "c[600:700]"
      ],
      "metadata": {
        "colab": {
          "base_uri": "https://localhost:8080/"
        },
        "id": "PFUvdid2ZfiV",
        "outputId": "425bc4fc-7405-4ac1-994b-a736a41bbbdf"
      },
      "execution_count": null,
      "outputs": [
        {
          "output_type": "execute_result",
          "data": {
            "text/plain": [
              "Int64Index([5042, 5048, 5054, 5059, 5061, 5064, 5073, 5074, 5078, 5082, 5094,\n",
              "            5096, 5109, 5144, 5152, 5154, 5164, 5176, 5184, 5201, 5218, 5221,\n",
              "            5224, 5256, 5261, 5267, 5272, 5277, 5282, 5300, 5301, 5306, 5320,\n",
              "            5349, 5356, 5359, 5384, 5386, 5392, 5407, 5419, 5444, 5458, 5471,\n",
              "            5472, 5479, 5487, 5490, 5501, 5506, 5525, 5528, 5530, 5537, 5552,\n",
              "            5556, 5566, 5580, 5581, 5587, 5588, 5599, 5605, 5614, 5622, 5639,\n",
              "            5640, 5654, 5664, 5675, 5678, 5685, 5709, 5713, 5728, 5738, 5742,\n",
              "            5768, 5769, 5790, 5791, 5794, 5800, 5803, 5828, 5831, 5839, 5840,\n",
              "            5844, 5854, 5856, 5857, 5867, 5891, 5894, 5904, 5918, 5922, 5925,\n",
              "            5928],\n",
              "           dtype='int64')"
            ]
          },
          "metadata": {},
          "execution_count": 651
        }
      ]
    },
    {
      "cell_type": "code",
      "source": [
        "df.drop([ 5042, 5048, 5054, 5059, 5061, 5064, 5073, 5074, 5078, 5082, 5094,\n",
        "            5096, 5109, 5144, 5152, 5154, 5164, 5176, 5184, 5201, 5218, 5221,\n",
        "            5224, 5256, 5261, 5267, 5272, 5277, 5282, 5300, 5301, 5306, 5320,\n",
        "            5349, 5356, 5359, 5384, 5386, 5392, 5407, 5419, 5444, 5458, 5471,\n",
        "            5472, 5479, 5487, 5490, 5501, 5506, 5525, 5528, 5530, 5537, 5552,\n",
        "            5556, 5566, 5580, 5581, 5587, 5588, 5599, 5605, 5614, 5622, 5639,\n",
        "            5640, 5654, 5664, 5675, 5678, 5685, 5709, 5713, 5728, 5738, 5742,\n",
        "            5768, 5769, 5790, 5791, 5794, 5800, 5803, 5828, 5831, 5839, 5840,\n",
        "            5844, 5854, 5856, 5857, 5867, 5891, 5894, 5904, 5918, 5922, 5925,\n",
        "            5928],inplace=True)"
      ],
      "metadata": {
        "id": "0KrZ8HjmZhyV"
      },
      "execution_count": null,
      "outputs": []
    },
    {
      "cell_type": "code",
      "source": [
        "c[700:800]"
      ],
      "metadata": {
        "colab": {
          "base_uri": "https://localhost:8080/"
        },
        "id": "7qrj9E2nZmaD",
        "outputId": "2e8af760-4a74-4275-8955-2f7be28296d2"
      },
      "execution_count": null,
      "outputs": [
        {
          "output_type": "execute_result",
          "data": {
            "text/plain": [
              "Int64Index([5930, 5934, 5955, 5956, 5958, 5960, 5966, 5999, 6002, 6007, 6013,\n",
              "            6032, 6040, 6048, 6050, 6055, 6056, 6061, 6086, 6092, 6112, 6114,\n",
              "            6115, 6130, 6150, 6151, 6153, 6156, 6157, 6170, 6173, 6175, 6176,\n",
              "            6177, 6186, 6189, 6205, 6225, 6268, 6276, 6282, 6300, 6304, 6307,\n",
              "            6309, 6316, 6318, 6319, 6321, 6326, 6349, 6358, 6365, 6382, 6386,\n",
              "            6387, 6388, 6396, 6405, 6414, 6424, 6434, 6442, 6444, 6447, 6457,\n",
              "            6474, 6479, 6483, 6488, 6493, 6498, 6499, 6503, 6509, 6516, 6530,\n",
              "            6554, 6556, 6558, 6564, 6569, 6570, 6574, 6589, 6594, 6610, 6613,\n",
              "            6617, 6619, 6622, 6630, 6639, 6659, 6669, 6672, 6681, 6683, 6688,\n",
              "            6689],\n",
              "           dtype='int64')"
            ]
          },
          "metadata": {},
          "execution_count": 653
        }
      ]
    },
    {
      "cell_type": "code",
      "source": [
        "df.drop([ 5930, 5934, 5955, 5956, 5958, 5960, 5966, 5999, 6002, 6007, 6013,\n",
        "            6032, 6040, 6048, 6050, 6055, 6056, 6061, 6086, 6092, 6112, 6114,\n",
        "            6115, 6130, 6150, 6151, 6153, 6156, 6157, 6170, 6173, 6175, 6176,\n",
        "            6177, 6186, 6189, 6205, 6225, 6268, 6276, 6282, 6300, 6304, 6307,\n",
        "            6309, 6316, 6318, 6319, 6321, 6326, 6349, 6358, 6365, 6382, 6386,\n",
        "            6387, 6388, 6396, 6405, 6414, 6424, 6434, 6442, 6444, 6447, 6457,\n",
        "            6474, 6479, 6483, 6488, 6493, 6498, 6499, 6503, 6509, 6516, 6530,\n",
        "            6554, 6556, 6558, 6564, 6569, 6570, 6574, 6589, 6594, 6610, 6613,\n",
        "            6617, 6619, 6622, 6630, 6639, 6659, 6669, 6672, 6681, 6683, 6688,\n",
        "            6689],inplace=True)"
      ],
      "metadata": {
        "id": "rwZ931GcZomV"
      },
      "execution_count": null,
      "outputs": []
    },
    {
      "cell_type": "code",
      "source": [
        "c[800:900]"
      ],
      "metadata": {
        "colab": {
          "base_uri": "https://localhost:8080/"
        },
        "id": "hUP3Rd85Zur8",
        "outputId": "6f0c359d-ca9e-49d0-905b-4b225b81fa13"
      },
      "execution_count": null,
      "outputs": [
        {
          "output_type": "execute_result",
          "data": {
            "text/plain": [
              "Int64Index([6706, 6711, 6713, 6720, 6724, 6738, 6745, 6756, 6759, 6761, 6772,\n",
              "            6775, 6778, 6779, 6789, 6804, 6814, 6834, 6848, 6856, 6858, 6863,\n",
              "            6877, 6898, 6902, 6909, 6910, 6938, 6940, 6942, 6946, 6948, 6955,\n",
              "            6964, 6965, 6969, 6974, 6975, 6989, 7028, 7054, 7056, 7072, 7080,\n",
              "            7082, 7083, 7090, 7093, 7094, 7095, 7111, 7116, 7132, 7136, 7145,\n",
              "            7148, 7149, 7163, 7169, 7175, 7186, 7195, 7205, 7225, 7240, 7244,\n",
              "            7246, 7249, 7251, 7254, 7263, 7264, 7273, 7275, 7277, 7286, 7291,\n",
              "            7313, 7315, 7337, 7351, 7353, 7370, 7374, 7394, 7419, 7432, 7434,\n",
              "            7436, 7453, 7454, 7461, 7465, 7476, 7478, 7502, 7522, 7556, 7557,\n",
              "            7559],\n",
              "           dtype='int64')"
            ]
          },
          "metadata": {},
          "execution_count": 655
        }
      ]
    },
    {
      "cell_type": "code",
      "source": [
        "df.drop([ 6706, 6711, 6713, 6720, 6724, 6738, 6745, 6756, 6759, 6761, 6772,\n",
        "            6775, 6778, 6779, 6789, 6804, 6814, 6834, 6848, 6856, 6858, 6863,\n",
        "            6877, 6898, 6902, 6909, 6910, 6938, 6940, 6942, 6946, 6948, 6955,\n",
        "            6964, 6965, 6969, 6974, 6975, 6989, 7028, 7054, 7056, 7072, 7080,\n",
        "            7082, 7083, 7090, 7093, 7094, 7095, 7111, 7116, 7132, 7136, 7145,\n",
        "            7148, 7149, 7163, 7169, 7175, 7186, 7195, 7205, 7225, 7240, 7244,\n",
        "            7246, 7249, 7251, 7254, 7263, 7264, 7273, 7275, 7277, 7286, 7291,\n",
        "            7313, 7315, 7337, 7351, 7353, 7370, 7374, 7394, 7419, 7432, 7434,\n",
        "            7436, 7453, 7454, 7461, 7465, 7476, 7478, 7502, 7522, 7556, 7557,\n",
        "            7559],inplace=True)"
      ],
      "metadata": {
        "id": "rbNuQdGnZwuE"
      },
      "execution_count": null,
      "outputs": []
    },
    {
      "cell_type": "code",
      "source": [
        "c[900:1000]"
      ],
      "metadata": {
        "colab": {
          "base_uri": "https://localhost:8080/"
        },
        "id": "LgvqHVlnZ0n_",
        "outputId": "66767d74-1f61-4617-e76e-88fbbb9df0fa"
      },
      "execution_count": null,
      "outputs": [
        {
          "output_type": "execute_result",
          "data": {
            "text/plain": [
              "Int64Index([7562, 7571, 7587, 7610, 7619, 7629, 7632, 7638, 7644, 7681, 7684,\n",
              "            7692, 7702, 7714, 7735, 7751, 7765, 7771, 7774, 7785, 7791, 7794,\n",
              "            7817, 7818, 7824, 7832, 7837, 7841, 7843, 7848, 7880, 7897, 7901,\n",
              "            7902, 7906, 7907, 7913, 7916, 7920, 7926, 7932, 7943, 7952, 7953,\n",
              "            7960, 7965, 7968, 7971, 7974, 7982, 8005, 8010, 8011, 8026, 8027,\n",
              "            8034, 8043, 8044, 8054, 8056, 8062, 8066, 8067, 8070, 8077, 8093,\n",
              "            8120, 8124, 8131, 8134, 8137, 8148, 8157, 8162, 8166, 8170, 8182,\n",
              "            8183, 8197, 8200, 8214, 8222, 8231, 8258, 8278, 8294, 8306, 8323,\n",
              "            8326, 8336, 8337, 8338, 8354, 8363, 8377, 8386, 8404, 8405, 8407,\n",
              "            8412],\n",
              "           dtype='int64')"
            ]
          },
          "metadata": {},
          "execution_count": 657
        }
      ]
    },
    {
      "cell_type": "code",
      "source": [
        "df.drop([ 7562, 7571, 7587, 7610, 7619, 7629, 7632, 7638, 7644, 7681, 7684,\n",
        "            7692, 7702, 7714, 7735, 7751, 7765, 7771, 7774, 7785, 7791, 7794,\n",
        "            7817, 7818, 7824, 7832, 7837, 7841, 7843, 7848, 7880, 7897, 7901,\n",
        "            7902, 7906, 7907, 7913, 7916, 7920, 7926, 7932, 7943, 7952, 7953,\n",
        "            7960, 7965, 7968, 7971, 7974, 7982, 8005, 8010, 8011, 8026, 8027,\n",
        "            8034, 8043, 8044, 8054, 8056, 8062, 8066, 8067, 8070, 8077, 8093,\n",
        "            8120, 8124, 8131, 8134, 8137, 8148, 8157, 8162, 8166, 8170, 8182,\n",
        "            8183, 8197, 8200, 8214, 8222, 8231, 8258, 8278, 8294, 8306, 8323,\n",
        "            8326, 8336, 8337, 8338, 8354, 8363, 8377, 8386, 8404, 8405, 8407,\n",
        "            8412],inplace=True)"
      ],
      "metadata": {
        "id": "X8QU2TmQZ2ox"
      },
      "execution_count": null,
      "outputs": []
    },
    {
      "cell_type": "code",
      "source": [
        "c[1000:1100]"
      ],
      "metadata": {
        "colab": {
          "base_uri": "https://localhost:8080/"
        },
        "id": "9WiOJpFEZ7_L",
        "outputId": "e10bcc3a-0922-43f0-deca-f886981c9922"
      },
      "execution_count": null,
      "outputs": [
        {
          "output_type": "execute_result",
          "data": {
            "text/plain": [
              "Int64Index([8427, 8437, 8441, 8446, 8453, 8458, 8459, 8469, 8472, 8478, 8484,\n",
              "            8491, 8497, 8502, 8504, 8537, 8539, 8544, 8569, 8574, 8585, 8589,\n",
              "            8591, 8610, 8613, 8615, 8616, 8620, 8628, 8644, 8707, 8711, 8713,\n",
              "            8714, 8745, 8749, 8759, 8762, 8769, 8773, 8780, 8781, 8784, 8785,\n",
              "            8796, 8810, 8812, 8814, 8815, 8819, 8822, 8834, 8839, 8841, 8842,\n",
              "            8847, 8848, 8851, 8869, 8871, 8873, 8889, 8895, 8903, 8906, 8912,\n",
              "            8923, 8938, 8949, 8950, 8956, 8961, 8965, 8971, 8972, 8980, 8984,\n",
              "            8990, 9001, 9002, 9013, 9047, 9088, 9090, 9092, 9110, 9115, 9125,\n",
              "            9132, 9133, 9154, 9156, 9161, 9175, 9194, 9199, 9205, 9231, 9252,\n",
              "            9255],\n",
              "           dtype='int64')"
            ]
          },
          "metadata": {},
          "execution_count": 659
        }
      ]
    },
    {
      "cell_type": "code",
      "source": [
        "df.drop([8427, 8437, 8441, 8446, 8453, 8458, 8459, 8469, 8472, 8478, 8484,\n",
        "            8491, 8497, 8502, 8504, 8537, 8539, 8544, 8569, 8574, 8585, 8589,\n",
        "            8591, 8610, 8613, 8615, 8616, 8620, 8628, 8644, 8707, 8711, 8713,\n",
        "            8714, 8745, 8749, 8759, 8762, 8769, 8773, 8780, 8781, 8784, 8785,\n",
        "            8796, 8810, 8812, 8814, 8815, 8819, 8822, 8834, 8839, 8841, 8842,\n",
        "            8847, 8848, 8851, 8869, 8871, 8873, 8889, 8895, 8903, 8906, 8912,\n",
        "            8923, 8938, 8949, 8950, 8956, 8961, 8965, 8971, 8972, 8980, 8984,\n",
        "            8990, 9001, 9002, 9013, 9047, 9088, 9090, 9092, 9110, 9115, 9125,\n",
        "            9132, 9133, 9154, 9156, 9161, 9175, 9194, 9199, 9205, 9231, 9252,\n",
        "            9255],inplace=True)"
      ],
      "metadata": {
        "id": "ii_hsnQkZ-Wk"
      },
      "execution_count": null,
      "outputs": []
    },
    {
      "cell_type": "code",
      "source": [
        "c[1100:1200]"
      ],
      "metadata": {
        "colab": {
          "base_uri": "https://localhost:8080/"
        },
        "id": "Bm02cBdvaDvP",
        "outputId": "c54f9d2e-0923-4d35-c977-b734df616cab"
      },
      "execution_count": null,
      "outputs": [
        {
          "output_type": "execute_result",
          "data": {
            "text/plain": [
              "Int64Index([ 9256,  9266,  9269,  9273,  9281,  9304,  9308,  9310,  9317,\n",
              "             9324,  9338,  9339,  9342,  9345,  9349,  9352,  9357,  9367,\n",
              "             9381,  9391,  9404,  9407,  9416,  9424,  9443,  9457,  9458,\n",
              "             9462,  9463,  9470,  9489,  9496,  9510,  9521,  9533,  9539,\n",
              "             9543,  9552,  9570,  9577,  9580,  9632,  9639,  9646,  9663,\n",
              "             9664,  9671,  9672,  9682,  9687,  9697,  9705,  9709,  9715,\n",
              "             9720,  9722,  9726,  9728,  9736,  9747,  9748,  9752,  9759,\n",
              "             9767,  9788,  9789,  9795,  9809,  9819,  9824,  9830,  9832,\n",
              "             9849,  9854,  9865,  9866,  9872,  9886,  9889,  9893,  9894,\n",
              "             9910,  9912,  9925,  9959,  9966, 10012, 10017, 10023, 10028,\n",
              "            10047, 10058, 10064, 10081, 10084, 10085, 10087, 10090, 10091,\n",
              "            10100],\n",
              "           dtype='int64')"
            ]
          },
          "metadata": {},
          "execution_count": 661
        }
      ]
    },
    {
      "cell_type": "code",
      "source": [
        "df.drop([9256,  9266,  9269,  9273,  9281,  9304,  9308,  9310,  9317,\n",
        "             9324,  9338,  9339,  9342,  9345,  9349,  9352,  9357,  9367,\n",
        "             9381,  9391,  9404,  9407,  9416,  9424,  9443,  9457,  9458,\n",
        "             9462,  9463,  9470,  9489,  9496,  9510,  9521,  9533,  9539,\n",
        "             9543,  9552,  9570,  9577,  9580,  9632,  9639,  9646,  9663,\n",
        "             9664,  9671,  9672,  9682,  9687,  9697,  9705,  9709,  9715,\n",
        "             9720,  9722,  9726,  9728,  9736,  9747,  9748,  9752,  9759,\n",
        "             9767,  9788,  9789,  9795,  9809,  9819,  9824,  9830,  9832,\n",
        "             9849,  9854,  9865,  9866,  9872,  9886,  9889,  9893,  9894,\n",
        "             9910,  9912,  9925,  9959,  9966, 10012, 10017, 10023, 10028,\n",
        "            10047, 10058, 10064, 10081, 10084, 10085, 10087, 10090, 10091,\n",
        "            10100],inplace=True)"
      ],
      "metadata": {
        "id": "wRRLpmYDaFqm"
      },
      "execution_count": null,
      "outputs": []
    },
    {
      "cell_type": "code",
      "source": [
        "c[1200:1300]"
      ],
      "metadata": {
        "colab": {
          "base_uri": "https://localhost:8080/"
        },
        "id": "PAdp2QJEaK3y",
        "outputId": "0489f809-729c-4315-be2f-79b8ab4b31af"
      },
      "execution_count": null,
      "outputs": [
        {
          "output_type": "execute_result",
          "data": {
            "text/plain": [
              "Int64Index([10104, 10109, 10116, 10128, 10135, 10151, 10163, 10205, 10216,\n",
              "            10239, 10245, 10249, 10250, 10259, 10260, 10261, 10262, 10265,\n",
              "            10267, 10298, 10302, 10320, 10335, 10336, 10337, 10338, 10342,\n",
              "            10355, 10371, 10384, 10391, 10402, 10411, 10413, 10419, 10431,\n",
              "            10435, 10450, 10458, 10461, 10466, 10469, 10470, 10500, 10520,\n",
              "            10524, 10534, 10535, 10537, 10552, 10575, 10591, 10592, 10596,\n",
              "            10604, 10615, 10617, 10632, 10649, 10671, 10689, 10695, 10701,\n",
              "            10724, 10737, 10747, 10765, 10773, 10776, 10780, 10784, 10786,\n",
              "            10794, 10815, 10823, 10825, 10861, 10862, 10883, 10891, 10894,\n",
              "            10901, 10917, 10921, 10922, 10934, 10936, 10937, 10956, 10959,\n",
              "            10963, 10977, 10980, 10987, 10996, 10999, 11002, 11004, 11013,\n",
              "            11037],\n",
              "           dtype='int64')"
            ]
          },
          "metadata": {},
          "execution_count": 663
        }
      ]
    },
    {
      "cell_type": "code",
      "source": [
        "df.drop([10104, 10109, 10116, 10128, 10135, 10151, 10163, 10205, 10216,\n",
        "            10239, 10245, 10249, 10250, 10259, 10260, 10261, 10262, 10265,\n",
        "            10267, 10298, 10302, 10320, 10335, 10336, 10337, 10338, 10342,\n",
        "            10355, 10371, 10384, 10391, 10402, 10411, 10413, 10419, 10431,\n",
        "            10435, 10450, 10458, 10461, 10466, 10469, 10470, 10500, 10520,\n",
        "            10524, 10534, 10535, 10537, 10552, 10575, 10591, 10592, 10596,\n",
        "            10604, 10615, 10617, 10632, 10649, 10671, 10689, 10695, 10701,\n",
        "            10724, 10737, 10747, 10765, 10773, 10776, 10780, 10784, 10786,\n",
        "            10794, 10815, 10823, 10825, 10861, 10862, 10883, 10891, 10894,\n",
        "            10901, 10917, 10921, 10922, 10934, 10936, 10937, 10956, 10959,\n",
        "            10963, 10977, 10980, 10987, 10996, 10999, 11002, 11004, 11013,\n",
        "            11037],inplace=True)"
      ],
      "metadata": {
        "id": "Za15XNvIaM8s"
      },
      "execution_count": null,
      "outputs": []
    },
    {
      "cell_type": "code",
      "source": [
        "c[1300:1400]"
      ],
      "metadata": {
        "colab": {
          "base_uri": "https://localhost:8080/"
        },
        "id": "bnRplbP3aRf4",
        "outputId": "f4923404-5386-4f59-db26-a944e404e7e2"
      },
      "execution_count": null,
      "outputs": [
        {
          "output_type": "execute_result",
          "data": {
            "text/plain": [
              "Int64Index([11052, 11054, 11059, 11065, 11071, 11074, 11091, 11092, 11131,\n",
              "            11147, 11162, 11173, 11176, 11181, 11183, 11186, 11190, 11197,\n",
              "            11202, 11203, 11212, 11215, 11222, 11226, 11230, 11238, 11240,\n",
              "            11254, 11262, 11268, 11270, 11273, 11276, 11302, 11319, 11326,\n",
              "            11330, 11337, 11342, 11343, 11349, 11354, 11358, 11365, 11379,\n",
              "            11384, 11387, 11388, 11392, 11403, 11416, 11431, 11453, 11455,\n",
              "            11466, 11468, 11493, 11494, 11509, 11517, 11527, 11530, 11561,\n",
              "            11567, 11568, 11572, 11573, 11586, 11595, 11597, 11605, 11621,\n",
              "            11626, 11644, 11647, 11648, 11649, 11655, 11661, 11662, 11666,\n",
              "            11675, 11682, 11692, 11693, 11720, 11721, 11737, 11739, 11746,\n",
              "            11747, 11790, 11793, 11800, 11803, 11822, 11831, 11834, 11838,\n",
              "            11843],\n",
              "           dtype='int64')"
            ]
          },
          "metadata": {},
          "execution_count": 665
        }
      ]
    },
    {
      "cell_type": "code",
      "source": [
        "df.drop([11052, 11054, 11059, 11065, 11071, 11074, 11091, 11092, 11131,\n",
        "            11147, 11162, 11173, 11176, 11181, 11183, 11186, 11190, 11197,\n",
        "            11202, 11203, 11212, 11215, 11222, 11226, 11230, 11238, 11240,\n",
        "            11254, 11262, 11268, 11270, 11273, 11276, 11302, 11319, 11326,\n",
        "            11330, 11337, 11342, 11343, 11349, 11354, 11358, 11365, 11379,\n",
        "            11384, 11387, 11388, 11392, 11403, 11416, 11431, 11453, 11455,\n",
        "            11466, 11468, 11493, 11494, 11509, 11517, 11527, 11530, 11561,\n",
        "            11567, 11568, 11572, 11573, 11586, 11595, 11597, 11605, 11621,\n",
        "            11626, 11644, 11647, 11648, 11649, 11655, 11661, 11662, 11666,\n",
        "            11675, 11682, 11692, 11693, 11720, 11721, 11737, 11739, 11746,\n",
        "            11747, 11790, 11793, 11800, 11803, 11822, 11831, 11834, 11838,\n",
        "            11843],inplace=True)"
      ],
      "metadata": {
        "id": "pjPdFPLyaTVS"
      },
      "execution_count": null,
      "outputs": []
    },
    {
      "cell_type": "code",
      "source": [
        "c[1400:1500]"
      ],
      "metadata": {
        "colab": {
          "base_uri": "https://localhost:8080/"
        },
        "id": "qOn0QJ58aYaK",
        "outputId": "b5ec8572-fea6-4f5c-eebb-f1109f17609e"
      },
      "execution_count": null,
      "outputs": [
        {
          "output_type": "execute_result",
          "data": {
            "text/plain": [
              "Int64Index([11850, 11861, 11867, 11899, 11902, 11905, 11906, 11912, 11931,\n",
              "            11932, 11944, 11945, 11947, 11963, 11966, 11970, 11977, 11980,\n",
              "            11993, 12010, 12013, 12014, 12032, 12034, 12035, 12040, 12048,\n",
              "            12049, 12052, 12057, 12072, 12075, 12096, 12098, 12111, 12119,\n",
              "            12122, 12143, 12145, 12150, 12155, 12156, 12170, 12173, 12177,\n",
              "            12215, 12220, 12225, 12231, 12233, 12235, 12253, 12259, 12279,\n",
              "            12283, 12303, 12310, 12317, 12326, 12350, 12363, 12371, 12374,\n",
              "            12377, 12402, 12404, 12419, 12432, 12444, 12445, 12453, 12463,\n",
              "            12473, 12474, 12483, 12490, 12500, 12506, 12541, 12548, 12564,\n",
              "            12585, 12591, 12609, 12627, 12643, 12647, 12650, 12653, 12655,\n",
              "            12670, 12684, 12735, 12753, 12771, 12775, 12787, 12791, 12819,\n",
              "            12827],\n",
              "           dtype='int64')"
            ]
          },
          "metadata": {},
          "execution_count": 667
        }
      ]
    },
    {
      "cell_type": "code",
      "source": [
        "df.drop([11850, 11861, 11867, 11899, 11902, 11905, 11906, 11912, 11931,\n",
        "            11932, 11944, 11945, 11947, 11963, 11966, 11970, 11977, 11980,\n",
        "            11993, 12010, 12013, 12014, 12032, 12034, 12035, 12040, 12048,\n",
        "            12049, 12052, 12057, 12072, 12075, 12096, 12098, 12111, 12119,\n",
        "            12122, 12143, 12145, 12150, 12155, 12156, 12170, 12173, 12177,\n",
        "            12215, 12220, 12225, 12231, 12233, 12235, 12253, 12259, 12279,\n",
        "            12283, 12303, 12310, 12317, 12326, 12350, 12363, 12371, 12374,\n",
        "            12377, 12402, 12404, 12419, 12432, 12444, 12445, 12453, 12463,\n",
        "            12473, 12474, 12483, 12490, 12500, 12506, 12541, 12548, 12564,\n",
        "            12585, 12591, 12609, 12627, 12643, 12647, 12650, 12653, 12655,\n",
        "            12670, 12684, 12735, 12753, 12771, 12775, 12787, 12791, 12819,\n",
        "            12827],inplace=True)"
      ],
      "metadata": {
        "id": "HhBIIiHHaaUU"
      },
      "execution_count": null,
      "outputs": []
    },
    {
      "cell_type": "code",
      "source": [
        "c[1500:1600]"
      ],
      "metadata": {
        "colab": {
          "base_uri": "https://localhost:8080/"
        },
        "id": "Js-F6-HnafJe",
        "outputId": "a420ab51-8738-4d79-d742-3f2800daea81"
      },
      "execution_count": null,
      "outputs": [
        {
          "output_type": "execute_result",
          "data": {
            "text/plain": [
              "Int64Index([12831, 12836, 12852, 12854, 12870, 12882, 12887, 12891, 12905,\n",
              "            12915, 12940, 12946, 12947, 12948, 12957, 12958, 12972, 12977,\n",
              "            12996, 13004, 13025, 13027, 13028, 13044, 13052, 13061, 13064,\n",
              "            13069, 13097, 13103, 13107, 13108, 13109, 13110, 13111, 13128,\n",
              "            13129, 13139, 13147, 13151, 13164, 13168, 13172, 13193, 13233,\n",
              "            13241, 13248, 13262, 13266, 13276, 13288, 13296, 13318, 13335,\n",
              "            13336, 13338, 13345, 13348, 13355, 13360, 13370, 13383, 13392,\n",
              "            13394, 13397, 13403, 13409, 13424, 13427, 13437, 13450, 13460,\n",
              "            13468, 13485, 13487, 13488, 13492, 13493, 13515, 13517, 13519,\n",
              "            13521, 13523, 13537, 13547, 13555, 13556, 13561, 13566, 13570,\n",
              "            13575, 13579, 13589, 13595, 13600, 13608, 13622, 13644, 13665,\n",
              "            13666],\n",
              "           dtype='int64')"
            ]
          },
          "metadata": {},
          "execution_count": 669
        }
      ]
    },
    {
      "cell_type": "code",
      "source": [
        "df.drop([12831, 12836, 12852, 12854, 12870, 12882, 12887, 12891, 12905,\n",
        "            12915, 12940, 12946, 12947, 12948, 12957, 12958, 12972, 12977,\n",
        "            12996, 13004, 13025, 13027, 13028, 13044, 13052, 13061, 13064,\n",
        "            13069, 13097, 13103, 13107, 13108, 13109, 13110, 13111, 13128,\n",
        "            13129, 13139, 13147, 13151, 13164, 13168, 13172, 13193, 13233,\n",
        "            13241, 13248, 13262, 13266, 13276, 13288, 13296, 13318, 13335,\n",
        "            13336, 13338, 13345, 13348, 13355, 13360, 13370, 13383, 13392,\n",
        "            13394, 13397, 13403, 13409, 13424, 13427, 13437, 13450, 13460,\n",
        "            13468, 13485, 13487, 13488, 13492, 13493, 13515, 13517, 13519,\n",
        "            13521, 13523, 13537, 13547, 13555, 13556, 13561, 13566, 13570,\n",
        "            13575, 13579, 13589, 13595, 13600, 13608, 13622, 13644, 13665,\n",
        "            13666],inplace=True)"
      ],
      "metadata": {
        "id": "-dpLKzbRahEF"
      },
      "execution_count": null,
      "outputs": []
    },
    {
      "cell_type": "code",
      "source": [
        "c[1600:1700]"
      ],
      "metadata": {
        "colab": {
          "base_uri": "https://localhost:8080/"
        },
        "id": "pISZV7LManob",
        "outputId": "a5415aca-0b2c-4ebe-9fed-52a5910f7969"
      },
      "execution_count": null,
      "outputs": [
        {
          "output_type": "execute_result",
          "data": {
            "text/plain": [
              "Int64Index([13667, 13669, 13680, 13688, 13691, 13711, 13720, 13727, 13729,\n",
              "            13730, 13765, 13768, 13774, 13781, 13783, 13785, 13793, 13795,\n",
              "            13810, 13847, 13861, 13862, 13866, 13877, 13891, 13895, 13899,\n",
              "            13905, 13908, 13910, 13911, 13935, 13950, 13962, 13975, 13982,\n",
              "            13984, 14008, 14015, 14017, 14031, 14036, 14048, 14052, 14073,\n",
              "            14082, 14089, 14101, 14104, 14120, 14125, 14128, 14135, 14139,\n",
              "            14143, 14147, 14167, 14192, 14199, 14208, 14210, 14211, 14214,\n",
              "            14219, 14222, 14224, 14240, 14241, 14243, 14256, 14264, 14266,\n",
              "            14270, 14272, 14280, 14294, 14301, 14303, 14316, 14326, 14336,\n",
              "            14340, 14349, 14368, 14373, 14382, 14388, 14403, 14418, 14420,\n",
              "            14423, 14424, 14461, 14475, 14502, 14503, 14508, 14511, 14523,\n",
              "            14533],\n",
              "           dtype='int64')"
            ]
          },
          "metadata": {},
          "execution_count": 671
        }
      ]
    },
    {
      "cell_type": "code",
      "source": [
        "df.drop([13667, 13669, 13680, 13688, 13691, 13711, 13720, 13727, 13729,\n",
        "            13730, 13765, 13768, 13774, 13781, 13783, 13785, 13793, 13795,\n",
        "            13810, 13847, 13861, 13862, 13866, 13877, 13891, 13895, 13899,\n",
        "            13905, 13908, 13910, 13911, 13935, 13950, 13962, 13975, 13982,\n",
        "            13984, 14008, 14015, 14017, 14031, 14036, 14048, 14052, 14073,\n",
        "            14082, 14089, 14101, 14104, 14120, 14125, 14128, 14135, 14139,\n",
        "            14143, 14147, 14167, 14192, 14199, 14208, 14210, 14211, 14214,\n",
        "            14219, 14222, 14224, 14240, 14241, 14243, 14256, 14264, 14266,\n",
        "            14270, 14272, 14280, 14294, 14301, 14303, 14316, 14326, 14336,\n",
        "            14340, 14349, 14368, 14373, 14382, 14388, 14403, 14418, 14420,\n",
        "            14423, 14424, 14461, 14475, 14502, 14503, 14508, 14511, 14523,\n",
        "            14533],inplace=True)"
      ],
      "metadata": {
        "id": "lRRj2BWraqw5"
      },
      "execution_count": null,
      "outputs": []
    },
    {
      "cell_type": "code",
      "source": [
        "c[1700:1800]"
      ],
      "metadata": {
        "colab": {
          "base_uri": "https://localhost:8080/"
        },
        "id": "Ji8V1a3savGQ",
        "outputId": "49f520a9-bb91-40de-819a-4550bc30ba9a"
      },
      "execution_count": null,
      "outputs": [
        {
          "output_type": "execute_result",
          "data": {
            "text/plain": [
              "Int64Index([14537, 14549, 14562, 14563, 14564, 14568, 14574, 14577, 14581,\n",
              "            14586, 14588, 14590, 14592, 14593, 14595, 14623, 14647, 14652,\n",
              "            14667, 14686, 14695, 14703, 14725, 14726, 14737, 14745, 14753,\n",
              "            14756, 14758, 14764, 14810, 14819, 14831, 14836, 14843, 14854,\n",
              "            14861, 14872, 14874, 14891, 14916, 14927, 14930, 14933, 14963,\n",
              "            14973, 14976, 14986, 14992, 14994, 15019, 15024, 15029, 15034,\n",
              "            15046, 15057, 15061, 15072, 15073, 15106, 15152, 15153, 15161,\n",
              "            15170, 15191, 15192, 15195, 15196, 15198, 15204, 15208, 15210,\n",
              "            15211, 15217, 15225, 15230, 15233, 15269, 15280, 15285, 15317,\n",
              "            15331, 15333, 15340, 15341, 15353, 15363, 15365, 15370, 15388,\n",
              "            15415, 15433, 15439, 15441, 15460, 15482, 15484, 15490, 15504,\n",
              "            15517],\n",
              "           dtype='int64')"
            ]
          },
          "metadata": {},
          "execution_count": 673
        }
      ]
    },
    {
      "cell_type": "code",
      "source": [
        "df.drop([14537, 14549, 14562, 14563, 14564, 14568, 14574, 14577, 14581,\n",
        "            14586, 14588, 14590, 14592, 14593, 14595, 14623, 14647, 14652,\n",
        "            14667, 14686, 14695, 14703, 14725, 14726, 14737, 14745, 14753,\n",
        "            14756, 14758, 14764, 14810, 14819, 14831, 14836, 14843, 14854,\n",
        "            14861, 14872, 14874, 14891, 14916, 14927, 14930, 14933, 14963,\n",
        "            14973, 14976, 14986, 14992, 14994, 15019, 15024, 15029, 15034,\n",
        "            15046, 15057, 15061, 15072, 15073, 15106, 15152, 15153, 15161,\n",
        "            15170, 15191, 15192, 15195, 15196, 15198, 15204, 15208, 15210,\n",
        "            15211, 15217, 15225, 15230, 15233, 15269, 15280, 15285, 15317,\n",
        "            15331, 15333, 15340, 15341, 15353, 15363, 15365, 15370, 15388,\n",
        "            15415, 15433, 15439, 15441, 15460, 15482, 15484, 15490, 15504,\n",
        "            15517],inplace=True)"
      ],
      "metadata": {
        "id": "YRaoerXuawv9"
      },
      "execution_count": null,
      "outputs": []
    },
    {
      "cell_type": "code",
      "source": [
        "c[1800:1900]"
      ],
      "metadata": {
        "colab": {
          "base_uri": "https://localhost:8080/"
        },
        "id": "cRIL5pVJa1fh",
        "outputId": "aa9c2424-8212-455d-8aef-5964d9573cac"
      },
      "execution_count": null,
      "outputs": [
        {
          "output_type": "execute_result",
          "data": {
            "text/plain": [
              "Int64Index([15519, 15536, 15553, 15556, 15558, 15563, 15564, 15571, 15587,\n",
              "            15594, 15598, 15614, 15659, 15665, 15666, 15668, 15674, 15675,\n",
              "            15688, 15691, 15696, 15698, 15699, 15707, 15711, 15717, 15721,\n",
              "            15747, 15755, 15757, 15765, 15801, 15817, 15826, 15827, 15836,\n",
              "            15852, 15857, 15864, 15873, 15874, 15904, 15907, 15908, 15916,\n",
              "            15933, 15944, 15949, 15957, 15964, 15965, 15977, 15999, 16008,\n",
              "            16015, 16020, 16022, 16024, 16041, 16059, 16061, 16064, 16072,\n",
              "            16101, 16102, 16113, 16116, 16117, 16119, 16121, 16122, 16127,\n",
              "            16143, 16149, 16153, 16161, 16168, 16173, 16184, 16207, 16208,\n",
              "            16222, 16226, 16228, 16229, 16231, 16245, 16248, 16263, 16277,\n",
              "            16283, 16290, 16298, 16300, 16301, 16311, 16315, 16318, 16319,\n",
              "            16324],\n",
              "           dtype='int64')"
            ]
          },
          "metadata": {},
          "execution_count": 675
        }
      ]
    },
    {
      "cell_type": "code",
      "source": [
        "df.drop([15519, 15536, 15553, 15556, 15558, 15563, 15564, 15571, 15587,\n",
        "            15594, 15598, 15614, 15659, 15665, 15666, 15668, 15674, 15675,\n",
        "            15688, 15691, 15696, 15698, 15699, 15707, 15711, 15717, 15721,\n",
        "            15747, 15755, 15757, 15765, 15801, 15817, 15826, 15827, 15836,\n",
        "            15852, 15857, 15864, 15873, 15874, 15904, 15907, 15908, 15916,\n",
        "            15933, 15944, 15949, 15957, 15964, 15965, 15977, 15999, 16008,\n",
        "            16015, 16020, 16022, 16024, 16041, 16059, 16061, 16064, 16072,\n",
        "            16101, 16102, 16113, 16116, 16117, 16119, 16121, 16122, 16127,\n",
        "            16143, 16149, 16153, 16161, 16168, 16173, 16184, 16207, 16208,\n",
        "            16222, 16226, 16228, 16229, 16231, 16245, 16248, 16263, 16277,\n",
        "            16283, 16290, 16298, 16300, 16301, 16311, 16315, 16318, 16319,\n",
        "            16324],inplace=True)"
      ],
      "metadata": {
        "id": "CxLS7C6ia3es"
      },
      "execution_count": null,
      "outputs": []
    },
    {
      "cell_type": "code",
      "source": [
        "c[1900:2000]"
      ],
      "metadata": {
        "colab": {
          "base_uri": "https://localhost:8080/"
        },
        "id": "zuXJS63ba9_N",
        "outputId": "9dfb723b-42e1-4159-e929-4c9cfe48847b"
      },
      "execution_count": null,
      "outputs": [
        {
          "output_type": "execute_result",
          "data": {
            "text/plain": [
              "Int64Index([16325, 16351, 16358, 16361, 16371, 16412, 16413, 16415, 16416,\n",
              "            16424, 16433, 16435, 16439, 16442, 16452, 16453, 16456, 16461,\n",
              "            16462, 16477, 16500, 16526, 16529, 16549, 16561, 16574, 16575,\n",
              "            16578, 16600, 16607, 16613, 16614, 16617, 16620, 16622, 16632,\n",
              "            16635, 16643, 16652, 16655, 16666, 16676, 16679, 16686, 16692,\n",
              "            16696, 16716, 16732, 16735, 16741, 16742, 16750, 16762, 16765,\n",
              "            16774, 16781, 16794, 16806, 16807, 16817, 16830, 16843, 16848,\n",
              "            16850, 16857, 16869, 16893, 16901, 16903, 16919, 16922, 16933,\n",
              "            16943, 16948, 16949, 16951, 16963, 16969, 16973, 16980, 16983,\n",
              "            17001, 17005, 17018, 17033, 17037, 17042, 17045, 17048, 17075,\n",
              "            17084, 17085, 17093, 17094, 17105, 17107, 17109, 17137, 17140,\n",
              "            17141],\n",
              "           dtype='int64')"
            ]
          },
          "metadata": {},
          "execution_count": 677
        }
      ]
    },
    {
      "cell_type": "code",
      "source": [
        "df.drop([16325, 16351, 16358, 16361, 16371, 16412, 16413, 16415, 16416,\n",
        "            16424, 16433, 16435, 16439, 16442, 16452, 16453, 16456, 16461,\n",
        "            16462, 16477, 16500, 16526, 16529, 16549, 16561, 16574, 16575,\n",
        "            16578, 16600, 16607, 16613, 16614, 16617, 16620, 16622, 16632,\n",
        "            16635, 16643, 16652, 16655, 16666, 16676, 16679, 16686, 16692,\n",
        "            16696, 16716, 16732, 16735, 16741, 16742, 16750, 16762, 16765,\n",
        "            16774, 16781, 16794, 16806, 16807, 16817, 16830, 16843, 16848,\n",
        "            16850, 16857, 16869, 16893, 16901, 16903, 16919, 16922, 16933,\n",
        "            16943, 16948, 16949, 16951, 16963, 16969, 16973, 16980, 16983,\n",
        "            17001, 17005, 17018, 17033, 17037, 17042, 17045, 17048, 17075,\n",
        "            17084, 17085, 17093, 17094, 17105, 17107, 17109, 17137, 17140,\n",
        "            17141],inplace=True)"
      ],
      "metadata": {
        "id": "qxP7Imb8bA44"
      },
      "execution_count": null,
      "outputs": []
    },
    {
      "cell_type": "code",
      "source": [
        "c[2000:2100]"
      ],
      "metadata": {
        "colab": {
          "base_uri": "https://localhost:8080/"
        },
        "id": "ZDLNozcSbHMC",
        "outputId": "e3bc272e-1411-4058-9d1e-75fbb57bb004"
      },
      "execution_count": null,
      "outputs": [
        {
          "output_type": "execute_result",
          "data": {
            "text/plain": [
              "Int64Index([17143, 17154, 17171, 17180, 17185, 17189, 17191, 17194, 17201,\n",
              "            17203, 17222, 17233, 17234, 17249, 17253, 17268, 17269, 17280,\n",
              "            17284, 17297, 17301, 17314, 17315, 17320, 17322, 17326, 17331,\n",
              "            17334, 17336, 17347, 17363, 17370, 17385, 17387, 17394, 17398,\n",
              "            17402, 17416, 17421, 17425, 17429, 17441, 17451, 17485, 17511,\n",
              "            17523, 17526, 17528, 17531, 17538, 17549, 17555, 17567, 17568,\n",
              "            17569, 17570, 17593, 17594, 17595, 17604, 17611, 17613, 17620,\n",
              "            17626, 17634, 17648, 17651, 17663, 17666, 17674, 17684, 17699,\n",
              "            17713, 17715, 17728, 17731, 17733, 17736, 17743, 17748, 17757,\n",
              "            17761, 17775, 17790, 17808, 17809, 17827, 17828, 17829, 17832,\n",
              "            17836, 17840, 17841, 17844, 17866, 17867, 17869, 17885, 17897,\n",
              "            17908],\n",
              "           dtype='int64')"
            ]
          },
          "metadata": {},
          "execution_count": 679
        }
      ]
    },
    {
      "cell_type": "code",
      "source": [
        "df.drop([17143, 17154, 17171, 17180, 17185, 17189, 17191, 17194, 17201,\n",
        "            17203, 17222, 17233, 17234, 17249, 17253, 17268, 17269, 17280,\n",
        "            17284, 17297, 17301, 17314, 17315, 17320, 17322, 17326, 17331,\n",
        "            17334, 17336, 17347, 17363, 17370, 17385, 17387, 17394, 17398,\n",
        "            17402, 17416, 17421, 17425, 17429, 17441, 17451, 17485, 17511,\n",
        "            17523, 17526, 17528, 17531, 17538, 17549, 17555, 17567, 17568,\n",
        "            17569, 17570, 17593, 17594, 17595, 17604, 17611, 17613, 17620,\n",
        "            17626, 17634, 17648, 17651, 17663, 17666, 17674, 17684, 17699,\n",
        "            17713, 17715, 17728, 17731, 17733, 17736, 17743, 17748, 17757,\n",
        "            17761, 17775, 17790, 17808, 17809, 17827, 17828, 17829, 17832,\n",
        "            17836, 17840, 17841, 17844, 17866, 17867, 17869, 17885, 17897,\n",
        "            17908],inplace=True)"
      ],
      "metadata": {
        "id": "apulR1WibLIu"
      },
      "execution_count": null,
      "outputs": []
    },
    {
      "cell_type": "code",
      "source": [
        "c[2100:2200]"
      ],
      "metadata": {
        "colab": {
          "base_uri": "https://localhost:8080/"
        },
        "id": "wm7yXTvWbPq4",
        "outputId": "68285347-751c-4e5c-d6a2-df29b61e279f"
      },
      "execution_count": null,
      "outputs": [
        {
          "output_type": "execute_result",
          "data": {
            "text/plain": [
              "Int64Index([17924, 17938, 17943, 17944, 17946, 17957, 17975, 17988, 18001,\n",
              "            18019, 18020, 18023, 18030, 18035, 18045, 18057, 18073, 18076,\n",
              "            18086, 18090, 18098, 18107, 18115, 18120, 18121, 18125, 18128,\n",
              "            18146, 18147, 18149, 18150, 18159, 18160, 18182, 18184, 18186,\n",
              "            18208, 18233, 18235, 18240, 18247, 18254, 18269, 18270, 18277,\n",
              "            18284, 18302, 18313, 18331, 18352, 18353, 18363, 18385, 18393,\n",
              "            18395, 18419, 18430, 18487, 18490, 18506, 18508, 18513, 18518,\n",
              "            18520, 18521, 18548, 18566, 18570, 18571, 18585, 18592, 18596,\n",
              "            18598, 18614, 18621, 18630, 18639, 18642, 18644, 18650, 18682,\n",
              "            18686, 18709, 18717, 18720, 18724, 18731, 18735, 18743, 18751,\n",
              "            18763, 18768, 18777, 18784, 18791, 18792, 18797, 18810, 18812,\n",
              "            18819],\n",
              "           dtype='int64')"
            ]
          },
          "metadata": {},
          "execution_count": 681
        }
      ]
    },
    {
      "cell_type": "code",
      "source": [
        "df.drop([17924, 17938, 17943, 17944, 17946, 17957, 17975, 17988, 18001,\n",
        "            18019, 18020, 18023, 18030, 18035, 18045, 18057, 18073, 18076,\n",
        "            18086, 18090, 18098, 18107, 18115, 18120, 18121, 18125, 18128,\n",
        "            18146, 18147, 18149, 18150, 18159, 18160, 18182, 18184, 18186,\n",
        "            18208, 18233, 18235, 18240, 18247, 18254, 18269, 18270, 18277,\n",
        "            18284, 18302, 18313, 18331, 18352, 18353, 18363, 18385, 18393,\n",
        "            18395, 18419, 18430, 18487, 18490, 18506, 18508, 18513, 18518,\n",
        "            18520, 18521, 18548, 18566, 18570, 18571, 18585, 18592, 18596,\n",
        "            18598, 18614, 18621, 18630, 18639, 18642, 18644, 18650, 18682,\n",
        "            18686, 18709, 18717, 18720, 18724, 18731, 18735, 18743, 18751,\n",
        "            18763, 18768, 18777, 18784, 18791, 18792, 18797, 18810, 18812,\n",
        "            18819],inplace=True)"
      ],
      "metadata": {
        "id": "KWtU-o-UbRCb"
      },
      "execution_count": null,
      "outputs": []
    },
    {
      "cell_type": "code",
      "source": [
        "c[2200:2300]"
      ],
      "metadata": {
        "colab": {
          "base_uri": "https://localhost:8080/"
        },
        "id": "QWFaAdPubUsv",
        "outputId": "104cfabb-7153-4d0f-8a30-9903acd475bc"
      },
      "execution_count": null,
      "outputs": [
        {
          "output_type": "execute_result",
          "data": {
            "text/plain": [
              "Int64Index([18821, 18827, 18835, 18840, 18843, 18851, 18852, 18861, 18864,\n",
              "            18867, 18886, 18893, 18900, 18904, 18906, 18913, 18920, 18925,\n",
              "            18927, 18944, 18954, 18961, 18965, 18974, 18991, 18993, 18994,\n",
              "            19003, 19013, 19015, 19028, 19058, 19078, 19079, 19095, 19098,\n",
              "            19101, 19119, 19124, 19129, 19135, 19143, 19147, 19160, 19179,\n",
              "            19183, 19188, 19189, 19197, 19200, 19201, 19202, 19216, 19219,\n",
              "            19220, 19235, 19239, 19248, 19254, 19265, 19269, 19270, 19273,\n",
              "            19274, 19276, 19277, 19292, 19316, 19333, 19336, 19337, 19350,\n",
              "            19356, 19360, 19364, 19381, 19402, 19415, 19442, 19459, 19472,\n",
              "            19479, 19490, 19494, 19497, 19507, 19508, 19510, 19513, 19520,\n",
              "            19521],\n",
              "           dtype='int64')"
            ]
          },
          "metadata": {},
          "execution_count": 683
        }
      ]
    },
    {
      "cell_type": "code",
      "source": [
        "df.drop([18821, 18827, 18835, 18840, 18843, 18851, 18852, 18861, 18864,\n",
        "            18867, 18886, 18893, 18900, 18904, 18906, 18913, 18920, 18925,\n",
        "            18927, 18944, 18954, 18961, 18965, 18974, 18991, 18993, 18994,\n",
        "            19003, 19013, 19015, 19028, 19058, 19078, 19079, 19095, 19098,\n",
        "            19101, 19119, 19124, 19129, 19135, 19143, 19147, 19160, 19179,\n",
        "            19183, 19188, 19189, 19197, 19200, 19201, 19202, 19216, 19219,\n",
        "            19220, 19235, 19239, 19248, 19254, 19265, 19269, 19270, 19273,\n",
        "            19274, 19276, 19277, 19292, 19316, 19333, 19336, 19337, 19350,\n",
        "            19356, 19360, 19364, 19381, 19402, 19415, 19442, 19459, 19472,\n",
        "            19479, 19490, 19494, 19497, 19507, 19508, 19510, 19513, 19520,\n",
        "            19521],inplace=True)"
      ],
      "metadata": {
        "id": "uXg2otN7bW7M"
      },
      "execution_count": null,
      "outputs": []
    },
    {
      "cell_type": "code",
      "source": [
        "ind1 = df[\"lub oil temp\"]<low_limit\n",
        "df.loc[ind1].index"
      ],
      "metadata": {
        "colab": {
          "base_uri": "https://localhost:8080/"
        },
        "id": "BGHenmJPbfFt",
        "outputId": "8309ddc7-2dcc-45cb-f4e6-75a2a11602e3"
      },
      "execution_count": null,
      "outputs": [
        {
          "output_type": "execute_result",
          "data": {
            "text/plain": [
              "Int64Index([2299, 4099, 7679, 8919, 9318], dtype='int64')"
            ]
          },
          "metadata": {},
          "execution_count": 687
        }
      ]
    },
    {
      "cell_type": "code",
      "source": [
        "df.drop([2299, 4099, 7679, 8919, 9318],inplace=True)"
      ],
      "metadata": {
        "id": "R2BSpg9qbyNE"
      },
      "execution_count": null,
      "outputs": []
    },
    {
      "cell_type": "code",
      "source": [
        "outlier = []\n",
        "for x in df[\"lub oil temp\"]:\n",
        "  if((x>upp_limit)or(x<low_limit)):\n",
        "    outlier.append(x)\n",
        "  \n",
        "outlier"
      ],
      "metadata": {
        "colab": {
          "base_uri": "https://localhost:8080/"
        },
        "id": "NONDE0Ycb5JX",
        "outputId": "df17ff10-d48d-4c53-aeb7-53d3f397cdc5"
      },
      "execution_count": null,
      "outputs": [
        {
          "output_type": "execute_result",
          "data": {
            "text/plain": [
              "[]"
            ]
          },
          "metadata": {},
          "execution_count": 689
        }
      ]
    },
    {
      "cell_type": "code",
      "source": [
        "plt.boxplot(df[\"lub oil temp\"])\n",
        "plt.title(\"box plot of lub oil temp\")"
      ],
      "metadata": {
        "colab": {
          "base_uri": "https://localhost:8080/",
          "height": 469
        },
        "id": "qMf0numWb7Mg",
        "outputId": "d1f62411-34dd-496e-e970-9383c4a999f5"
      },
      "execution_count": null,
      "outputs": [
        {
          "output_type": "execute_result",
          "data": {
            "text/plain": [
              "Text(0.5, 1.0, 'box plot of lub oil temp')"
            ]
          },
          "metadata": {},
          "execution_count": 690
        },
        {
          "output_type": "display_data",
          "data": {
            "text/plain": [
              "<Figure size 640x480 with 1 Axes>"
            ],
            "image/png": "[encoded data removed]"
          },
          "metadata": {}
        }
      ]
    },
    {
      "cell_type": "code",
      "source": [
        "df.columns"
      ],
      "metadata": {
        "colab": {
          "base_uri": "https://localhost:8080/"
        },
        "id": "8S4hcTI9cFjy",
        "outputId": "e5c6fa18-a2ed-4872-e80e-1a5c25b9485a"
      },
      "execution_count": null,
      "outputs": [
        {
          "output_type": "execute_result",
          "data": {
            "text/plain": [
              "Index(['Engine rpm', 'Lub oil pressure', 'Fuel pressure', 'Coolant pressure',\n",
              "       'lub oil temp', 'Coolant temp', 'Engine Condition'],\n",
              "      dtype='object')"
            ]
          },
          "metadata": {},
          "execution_count": 691
        }
      ]
    },
    {
      "cell_type": "code",
      "source": [
        "plt.boxplot(df[\"Coolant temp\"])\n",
        "plt.title(\"box plot of Coolant temp\")"
      ],
      "metadata": {
        "colab": {
          "base_uri": "https://localhost:8080/",
          "height": 469
        },
        "id": "bmX8QcqkcMeB",
        "outputId": "c8f075c2-a0d1-474a-8e28-7caac180cbd9"
      },
      "execution_count": null,
      "outputs": [
        {
          "output_type": "execute_result",
          "data": {
            "text/plain": [
              "Text(0.5, 1.0, 'box plot of Coolant temp')"
            ]
          },
          "metadata": {},
          "execution_count": 692
        },
        {
          "output_type": "display_data",
          "data": {
            "text/plain": [
              "<Figure size 640x480 with 1 Axes>"
            ],
            "image/png": "[encoded data removed]"
          },
          "metadata": {}
        }
      ]
    },
    {
      "cell_type": "code",
      "source": [
        "q1 = np.percentile(df[\"Coolant temp\"],25, interpolation=\"midpoint\")\n",
        "q2 = np.percentile(df[\"Coolant temp\"],50, interpolation=\"midpoint\")\n",
        "q3 = np.percentile(df[\"Coolant temp\"],75, interpolation=\"midpoint\")\n",
        "\n",
        "print(q1)\n",
        "print(q2)\n",
        "print(q3)"
      ],
      "metadata": {
        "colab": {
          "base_uri": "https://localhost:8080/"
        },
        "id": "gBOuaStDcUIC",
        "outputId": "65418020-061f-456f-ac2a-c2367593b393"
      },
      "execution_count": null,
      "outputs": [
        {
          "output_type": "stream",
          "name": "stdout",
          "text": [
            "73.714272645\n",
            "78.20253367\n",
            "82.770537905\n"
          ]
        },
        {
          "output_type": "stream",
          "name": "stderr",
          "text": [
            "<ipython-input-693-309726960c77>:1: DeprecationWarning: the `interpolation=` argument to percentile was renamed to `method=`, which has additional options.\n",
            "Users of the modes 'nearest', 'lower', 'higher', or 'midpoint' are encouraged to review the method they. (Deprecated NumPy 1.22)\n",
            "  q1 = np.percentile(df[\"Coolant temp\"],25, interpolation=\"midpoint\")\n",
            "<ipython-input-693-309726960c77>:2: DeprecationWarning: the `interpolation=` argument to percentile was renamed to `method=`, which has additional options.\n",
            "Users of the modes 'nearest', 'lower', 'higher', or 'midpoint' are encouraged to review the method they. (Deprecated NumPy 1.22)\n",
            "  q2 = np.percentile(df[\"Coolant temp\"],50, interpolation=\"midpoint\")\n",
            "<ipython-input-693-309726960c77>:3: DeprecationWarning: the `interpolation=` argument to percentile was renamed to `method=`, which has additional options.\n",
            "Users of the modes 'nearest', 'lower', 'higher', or 'midpoint' are encouraged to review the method they. (Deprecated NumPy 1.22)\n",
            "  q3 = np.percentile(df[\"Coolant temp\"],75, interpolation=\"midpoint\")\n"
          ]
        }
      ]
    },
    {
      "cell_type": "code",
      "source": [
        "iqr = q3-q1\n",
        "\n",
        "low_limit = q1-1.5*iqr\n",
        "upp_limit = q3+1.5*iqr\n",
        "\n",
        "print(low_limit)\n",
        "print(upp_limit)"
      ],
      "metadata": {
        "colab": {
          "base_uri": "https://localhost:8080/"
        },
        "id": "sCPUhYJ8ce2g",
        "outputId": "d08a0ac3-a8b9-429e-814c-60786954e8d8"
      },
      "execution_count": null,
      "outputs": [
        {
          "output_type": "stream",
          "name": "stdout",
          "text": [
            "60.12987475499999\n",
            "96.354935795\n"
          ]
        }
      ]
    },
    {
      "cell_type": "code",
      "source": [
        "outlier = []\n",
        "for x in df[\"Coolant temp\"]:\n",
        "  if((x>upp_limit)or(x<low_limit)):\n",
        "    outlier.append(x)\n",
        "  \n",
        "outlier"
      ],
      "metadata": {
        "colab": {
          "base_uri": "https://localhost:8080/"
        },
        "id": "r0NAgtR8chmv",
        "outputId": "80687d52-8cce-4425-8337-b5f4a6936f37"
      },
      "execution_count": null,
      "outputs": [
        {
          "output_type": "execute_result",
          "data": {
            "text/plain": [
              "[195.5279116, 118.371957]"
            ]
          },
          "metadata": {},
          "execution_count": 695
        }
      ]
    },
    {
      "cell_type": "code",
      "source": [
        "ind1 = df[\"Coolant temp\"]>upp_limit\n",
        "df.loc[ind1].index"
      ],
      "metadata": {
        "colab": {
          "base_uri": "https://localhost:8080/"
        },
        "id": "cV6XnNOycm_6",
        "outputId": "efa68d47-ae16-4a81-f8f2-09969374d1bd"
      },
      "execution_count": null,
      "outputs": [
        {
          "output_type": "execute_result",
          "data": {
            "text/plain": [
              "Int64Index([2423, 15123], dtype='int64')"
            ]
          },
          "metadata": {},
          "execution_count": 697
        }
      ]
    },
    {
      "cell_type": "code",
      "source": [
        "df.drop([2423, 15123],inplace=True)"
      ],
      "metadata": {
        "id": "to2ObkSWcqpe"
      },
      "execution_count": null,
      "outputs": []
    },
    {
      "cell_type": "code",
      "source": [
        "outlier = []\n",
        "for x in df[\"Coolant temp\"]:\n",
        "  if((x>upp_limit)or(x<low_limit)):\n",
        "    outlier.append(x)\n",
        "  \n",
        "outlier"
      ],
      "metadata": {
        "colab": {
          "base_uri": "https://localhost:8080/"
        },
        "id": "dch_QqSSc2Lm",
        "outputId": "98f4286f-95d1-4131-e179-2384ce33c3a5"
      },
      "execution_count": null,
      "outputs": [
        {
          "output_type": "execute_result",
          "data": {
            "text/plain": [
              "[]"
            ]
          },
          "metadata": {},
          "execution_count": 699
        }
      ]
    },
    {
      "cell_type": "code",
      "source": [
        "plt.boxplot(df[\"Coolant temp\"])\n",
        "plt.title(\"box plot of Coolant temp\")"
      ],
      "metadata": {
        "colab": {
          "base_uri": "https://localhost:8080/",
          "height": 469
        },
        "id": "1GvG82WHc3d0",
        "outputId": "1262f790-4966-46b7-ee2c-00d618738a9a"
      },
      "execution_count": null,
      "outputs": [
        {
          "output_type": "execute_result",
          "data": {
            "text/plain": [
              "Text(0.5, 1.0, 'box plot of Coolant temp')"
            ]
          },
          "metadata": {},
          "execution_count": 702
        },
        {
          "output_type": "display_data",
          "data": {
            "text/plain": [
              "<Figure size 640x480 with 1 Axes>"
            ],
            "image/png": "[encoded data removed]"
          },
          "metadata": {}
        }
      ]
    },
    {
      "cell_type": "code",
      "source": [
        "df.shape"
      ],
      "metadata": {
        "colab": {
          "base_uri": "https://localhost:8080/"
        },
        "id": "31SUzVV4dRU2",
        "outputId": "7ad5889f-d161-4d64-d209-2698a4379aad"
      },
      "execution_count": null,
      "outputs": [
        {
          "output_type": "execute_result",
          "data": {
            "text/plain": [
              "(14885, 7)"
            ]
          },
          "metadata": {},
          "execution_count": 704
        }
      ]
    },
    {
      "cell_type": "code",
      "source": [
        "corrmatrix = df.corr()\n",
        "plt.subplots(figsize=(20,8))\n",
        "sns.heatmap(corrmatrix, vmin=-1, vmax=1, annot=True, linewidth=0.2, cmap=\"YlGnBu\")"
      ],
      "metadata": {
        "colab": {
          "base_uri": "https://localhost:8080/",
          "height": 699
        },
        "id": "FbxsCspHdWbH",
        "outputId": "d6cfd745-432c-4dae-c9df-6b4488540ac8"
      },
      "execution_count": null,
      "outputs": [
        {
          "output_type": "execute_result",
          "data": {
            "text/plain": [
              "<Axes: >"
            ]
          },
          "metadata": {},
          "execution_count": 706
        },
        {
          "output_type": "display_data",
          "data": {
            "text/plain": [
              "<Figure size 2000x800 with 2 Axes>"
            ],
            "image/png": "[encoded data removed]"
          },
          "metadata": {}
        }
      ]
    },
    {
      "cell_type": "code",
      "source": [
        "x =df.drop([\"Engine Condition\"],axis=\"columns\")\n",
        "x.head()"
      ],
      "metadata": {
        "colab": {
          "base_uri": "https://localhost:8080/",
          "height": 206
        },
        "id": "kFxyra02df6t",
        "outputId": "149d795d-805c-4695-d7f5-9643f3e5f856"
      },
      "execution_count": null,
      "outputs": [
        {
          "output_type": "execute_result",
          "data": {
            "text/plain": [
              "   Engine rpm  Lub oil pressure  Fuel pressure  Coolant pressure  \\\n",
              "2         520          2.961746       6.553147          1.064347   \n",
              "5        1221          3.989226       6.679231          2.214250   \n",
              "7         729          3.845166      10.191126          2.362998   \n",
              "8         845          4.877239       3.638269          3.525604   \n",
              "9         824          3.741228       7.626214          1.301032   \n",
              "\n",
              "   lub oil temp  Coolant temp  \n",
              "2     77.752266     79.645777  \n",
              "5     76.401152     75.669818  \n",
              "7     77.921202     71.671761  \n",
              "8     76.301626     70.496024  \n",
              "9     77.066520     85.143297  "
            ],
            "text/html": [
              "\n",
              "  <div id=\"df-f5705f69-13a4-47c1-8b05-1c29d3e36880\">\n",
              "    <div class=\"colab-df-container\">\n",
              "      <div>\n",
              "<style scoped>\n",
              "    .dataframe tbody tr th:only-of-type {\n",
              "        vertical-align: middle;\n",
              "    }\n",
              "\n",
              "    .dataframe tbody tr th {\n",
              "        vertical-align: top;\n",
              "    }\n",
              "\n",
              "    .dataframe thead th {\n",
              "        text-align: right;\n",
              "    }\n",
              "</style>\n",
              "<table border=\"1\" class=\"dataframe\">\n",
              "  <thead>\n",
              "    <tr style=\"text-align: right;\">\n",
              "      <th></th>\n",
              "      <th>Engine rpm</th>\n",
              "      <th>Lub oil pressure</th>\n",
              "      <th>Fuel pressure</th>\n",
              "      <th>Coolant pressure</th>\n",
              "      <th>lub oil temp</th>\n",
              "      <th>Coolant temp</th>\n",
              "    </tr>\n",
              "  </thead>\n",
              "  <tbody>\n",
              "    <tr>\n",
              "      <th>2</th>\n",
              "      <td>520</td>\n",
              "      <td>2.961746</td>\n",
              "      <td>6.553147</td>\n",
              "      <td>1.064347</td>\n",
              "      <td>77.752266</td>\n",
              "      <td>79.645777</td>\n",
              "    </tr>\n",
              "    <tr>\n",
              "      <th>5</th>\n",
              "      <td>1221</td>\n",
              "      <td>3.989226</td>\n",
              "      <td>6.679231</td>\n",
              "      <td>2.214250</td>\n",
              "      <td>76.401152</td>\n",
              "      <td>75.669818</td>\n",
              "    </tr>\n",
              "    <tr>\n",
              "      <th>7</th>\n",
              "      <td>729</td>\n",
              "      <td>3.845166</td>\n",
              "      <td>10.191126</td>\n",
              "      <td>2.362998</td>\n",
              "      <td>77.921202</td>\n",
              "      <td>71.671761</td>\n",
              "    </tr>\n",
              "    <tr>\n",
              "      <th>8</th>\n",
              "      <td>845</td>\n",
              "      <td>4.877239</td>\n",
              "      <td>3.638269</td>\n",
              "      <td>3.525604</td>\n",
              "      <td>76.301626</td>\n",
              "      <td>70.496024</td>\n",
              "    </tr>\n",
              "    <tr>\n",
              "      <th>9</th>\n",
              "      <td>824</td>\n",
              "      <td>3.741228</td>\n",
              "      <td>7.626214</td>\n",
              "      <td>1.301032</td>\n",
              "      <td>77.066520</td>\n",
              "      <td>85.143297</td>\n",
              "    </tr>\n",
              "  </tbody>\n",
              "</table>\n",
              "</div>\n",
              "      <button class=\"colab-df-convert\" onclick=\"convertToInteractive('df-f5705f69-13a4-47c1-8b05-1c29d3e36880')\"\n",
              "              title=\"Convert this dataframe to an interactive table.\"\n",
              "              style=\"display:none;\">\n",
              "        \n",
              "  <svg xmlns=\"http://www.w3.org/2000/svg\" height=\"24px\"viewBox=\"0 0 24 24\"\n",
              "       width=\"24px\">\n",
              "    <path d=\"M0 0h24v24H0V0z\" fill=\"none\"/>\n",
              "    <path d=\"M18.56 5.44l.94 2.06.94-2.06 2.06-.94-2.06-.94-.94-2.06-.94 2.06-2.06.94zm-11 1L8.5 8.5l.94-2.06 2.06-.94-2.06-.94L8.5 2.5l-.94 2.06-2.06.94zm10 10l.94 2.06.94-2.06 2.06-.94-2.06-.94-.94-2.06-.94 2.06-2.06.94z\"/><path d=\"M17.41 7.96l-1.37-1.37c-.4-.4-.92-.59-1.43-.59-.52 0-1.04.2-1.43.59L10.3 9.45l-7.72 7.72c-.78.78-.78 2.05 0 2.83L4 21.41c.39.39.9.59 1.41.59.51 0 1.02-.2 1.41-.59l7.78-7.78 2.81-2.81c.8-.78.8-2.07 0-2.86zM5.41 20L4 18.59l7.72-7.72 1.47 1.35L5.41 20z\"/>\n",
              "  </svg>\n",
              "      </button>\n",
              "      \n",
              "  <style>\n",
              "    .colab-df-container {\n",
              "      display:flex;\n",
              "      flex-wrap:wrap;\n",
              "      gap: 12px;\n",
              "    }\n",
              "\n",
              "    .colab-df-convert {\n",
              "      background-color: #E8F0FE;\n",
              "      border: none;\n",
              "      border-radius: 50%;\n",
              "      cursor: pointer;\n",
              "      display: none;\n",
              "      fill: #1967D2;\n",
              "      height: 32px;\n",
              "      padding: 0 0 0 0;\n",
              "      width: 32px;\n",
              "    }\n",
              "\n",
              "    .colab-df-convert:hover {\n",
              "      background-color: #E2EBFA;\n",
              "      box-shadow: 0px 1px 2px rgba(60, 64, 67, 0.3), 0px 1px 3px 1px rgba(60, 64, 67, 0.15);\n",
              "      fill: #174EA6;\n",
              "    }\n",
              "\n",
              "    [theme=dark] .colab-df-convert {\n",
              "      background-color: #3B4455;\n",
              "      fill: #D2E3FC;\n",
              "    }\n",
              "\n",
              "    [theme=dark] .colab-df-convert:hover {\n",
              "      background-color: #434B5C;\n",
              "      box-shadow: 0px 1px 3px 1px rgba(0, 0, 0, 0.15);\n",
              "      filter: drop-shadow(0px 1px 2px rgba(0, 0, 0, 0.3));\n",
              "      fill: #FFFFFF;\n",
              "    }\n",
              "  </style>\n",
              "\n",
              "      <script>\n",
              "        const buttonEl =\n",
              "          document.querySelector('#df-f5705f69-13a4-47c1-8b05-1c29d3e36880 button.colab-df-convert');\n",
              "        buttonEl.style.display =\n",
              "          google.colab.kernel.accessAllowed ? 'block' : 'none';\n",
              "\n",
              "        async function convertToInteractive(key) {\n",
              "          const element = document.querySelector('#df-f5705f69-13a4-47c1-8b05-1c29d3e36880');\n",
              "          const dataTable =\n",
              "            await google.colab.kernel.invokeFunction('convertToInteractive',\n",
              "                                                     [key], {});\n",
              "          if (!dataTable) return;\n",
              "\n",
              "          const docLinkHtml = 'Like what you see? Visit the ' +\n",
              "            '<a target=\"_blank\" href=https://colab.research.google.com/notebooks/data_table.ipynb>data table notebook</a>'\n",
              "            + ' to learn more about interactive tables.';\n",
              "          element.innerHTML = '';\n",
              "          dataTable['output_type'] = 'display_data';\n",
              "          await google.colab.output.renderOutput(dataTable, element);\n",
              "          const docLink = document.createElement('div');\n",
              "          docLink.innerHTML = docLinkHtml;\n",
              "          element.appendChild(docLink);\n",
              "        }\n",
              "      </script>\n",
              "    </div>\n",
              "  </div>\n",
              "  "
            ]
          },
          "metadata": {},
          "execution_count": 707
        }
      ]
    },
    {
      "cell_type": "code",
      "source": [
        "y =df[\"Engine Condition\"]\n",
        "y.head()"
      ],
      "metadata": {
        "colab": {
          "base_uri": "https://localhost:8080/"
        },
        "id": "OqlUeaoRdwim",
        "outputId": "44f4fff6-8066-40ab-ceb1-825b36af0b3e"
      },
      "execution_count": null,
      "outputs": [
        {
          "output_type": "execute_result",
          "data": {
            "text/plain": [
              "2    1\n",
              "5    0\n",
              "7    1\n",
              "8    0\n",
              "9    0\n",
              "Name: Engine Condition, dtype: int64"
            ]
          },
          "metadata": {},
          "execution_count": 708
        }
      ]
    },
    {
      "cell_type": "code",
      "source": [
        "from sklearn.model_selection import train_test_split\n",
        "x_train, x_test, y_train, y_test = train_test_split(x,y,test_size=0.25)\n",
        "len(x_train)"
      ],
      "metadata": {
        "colab": {
          "base_uri": "https://localhost:8080/"
        },
        "id": "rs4uqPiId4CC",
        "outputId": "5a4bf2d8-c019-4ebe-d37c-c8a85b319f54"
      },
      "execution_count": null,
      "outputs": [
        {
          "output_type": "execute_result",
          "data": {
            "text/plain": [
              "11163"
            ]
          },
          "metadata": {},
          "execution_count": 709
        }
      ]
    },
    {
      "cell_type": "code",
      "source": [
        "len(x_test)"
      ],
      "metadata": {
        "colab": {
          "base_uri": "https://localhost:8080/"
        },
        "id": "-tHoPqomd7aL",
        "outputId": "a1f0a3b4-1a34-4419-e713-5a0be2db5a00"
      },
      "execution_count": null,
      "outputs": [
        {
          "output_type": "execute_result",
          "data": {
            "text/plain": [
              "3722"
            ]
          },
          "metadata": {},
          "execution_count": 710
        }
      ]
    },
    {
      "cell_type": "code",
      "source": [
        "from sklearn.linear_model import LogisticRegression\n",
        "lr = LogisticRegression()\n",
        "lr.fit(x_train,y_train)"
      ],
      "metadata": {
        "colab": {
          "base_uri": "https://localhost:8080/",
          "height": 75
        },
        "id": "mmQ_IIEfd98v",
        "outputId": "f922ec7e-467a-4cb0-f9ee-efb2c71c7d49"
      },
      "execution_count": null,
      "outputs": [
        {
          "output_type": "execute_result",
          "data": {
            "text/plain": [
              "LogisticRegression()"
            ],
            "text/html": [
              "<style>#sk-container-id-2 {color: black;background-color: white;}#sk-container-id-2 pre{padding: 0;}#sk-container-id-2 div.sk-toggleable {background-color: white;}#sk-container-id-2 label.sk-toggleable__label {cursor: pointer;display: block;width: 100%;margin-bottom: 0;padding: 0.3em;box-sizing: border-box;text-align: center;}#sk-container-id-2 label.sk-toggleable__label-arrow:before {content: \"▸\";float: left;margin-right: 0.25em;color: #696969;}#sk-container-id-2 label.sk-toggleable__label-arrow:hover:before {color: black;}#sk-container-id-2 div.sk-estimator:hover label.sk-toggleable__label-arrow:before {color: black;}#sk-container-id-2 div.sk-toggleable__content {max-height: 0;max-width: 0;overflow: hidden;text-align: left;background-color: #f0f8ff;}#sk-container-id-2 div.sk-toggleable__content pre {margin: 0.2em;color: black;border-radius: 0.25em;background-color: #f0f8ff;}#sk-container-id-2 input.sk-toggleable__control:checked~div.sk-toggleable__content {max-height: 200px;max-width: 100%;overflow: auto;}#sk-container-id-2 input.sk-toggleable__control:checked~label.sk-toggleable__label-arrow:before {content: \"▾\";}#sk-container-id-2 div.sk-estimator input.sk-toggleable__control:checked~label.sk-toggleable__label {background-color: #d4ebff;}#sk-container-id-2 div.sk-label input.sk-toggleable__control:checked~label.sk-toggleable__label {background-color: #d4ebff;}#sk-container-id-2 input.sk-hidden--visually {border: 0;clip: rect(1px 1px 1px 1px);clip: rect(1px, 1px, 1px, 1px);height: 1px;margin: -1px;overflow: hidden;padding: 0;position: absolute;width: 1px;}#sk-container-id-2 div.sk-estimator {font-family: monospace;background-color: #f0f8ff;border: 1px dotted black;border-radius: 0.25em;box-sizing: border-box;margin-bottom: 0.5em;}#sk-container-id-2 div.sk-estimator:hover {background-color: #d4ebff;}#sk-container-id-2 div.sk-parallel-item::after {content: \"\";width: 100%;border-bottom: 1px solid gray;flex-grow: 1;}#sk-container-id-2 div.sk-label:hover label.sk-toggleable__label {background-color: #d4ebff;}#sk-container-id-2 div.sk-serial::before {content: \"\";position: absolute;border-left: 1px solid gray;box-sizing: border-box;top: 0;bottom: 0;left: 50%;z-index: 0;}#sk-container-id-2 div.sk-serial {display: flex;flex-direction: column;align-items: center;background-color: white;padding-right: 0.2em;padding-left: 0.2em;position: relative;}#sk-container-id-2 div.sk-item {position: relative;z-index: 1;}#sk-container-id-2 div.sk-parallel {display: flex;align-items: stretch;justify-content: center;background-color: white;position: relative;}#sk-container-id-2 div.sk-item::before, #sk-container-id-2 div.sk-parallel-item::before {content: \"\";position: absolute;border-left: 1px solid gray;box-sizing: border-box;top: 0;bottom: 0;left: 50%;z-index: -1;}#sk-container-id-2 div.sk-parallel-item {display: flex;flex-direction: column;z-index: 1;position: relative;background-color: white;}#sk-container-id-2 div.sk-parallel-item:first-child::after {align-self: flex-end;width: 50%;}#sk-container-id-2 div.sk-parallel-item:last-child::after {align-self: flex-start;width: 50%;}#sk-container-id-2 div.sk-parallel-item:only-child::after {width: 0;}#sk-container-id-2 div.sk-dashed-wrapped {border: 1px dashed gray;margin: 0 0.4em 0.5em 0.4em;box-sizing: border-box;padding-bottom: 0.4em;background-color: white;}#sk-container-id-2 div.sk-label label {font-family: monospace;font-weight: bold;display: inline-block;line-height: 1.2em;}#sk-container-id-2 div.sk-label-container {text-align: center;}#sk-container-id-2 div.sk-container {/* jupyter's `normalize.less` sets `[hidden] { display: none; }` but bootstrap.min.css set `[hidden] { display: none !important; }` so we also need the `!important` here to be able to override the default hidden behavior on the sphinx rendered scikit-learn.org. See: https://github.com/scikit-learn/scikit-learn/issues/21755 */display: inline-block !important;position: relative;}#sk-container-id-2 div.sk-text-repr-fallback {display: none;}</style><div id=\"sk-container-id-2\" class=\"sk-top-container\"><div class=\"sk-text-repr-fallback\"><pre>LogisticRegression()</pre><b>In a Jupyter environment, please rerun this cell to show the HTML representation or trust the notebook. <br />On GitHub, the HTML representation is unable to render, please try loading this page with nbviewer.org.</b></div><div class=\"sk-container\" hidden><div class=\"sk-item\"><div class=\"sk-estimator sk-toggleable\"><input class=\"sk-toggleable__control sk-hidden--visually\" id=\"sk-estimator-id-2\" type=\"checkbox\" checked><label for=\"sk-estimator-id-2\" class=\"sk-toggleable__label sk-toggleable__label-arrow\">LogisticRegression</label><div class=\"sk-toggleable__content\"><pre>LogisticRegression()</pre></div></div></div></div></div>"
            ]
          },
          "metadata": {},
          "execution_count": 712
        }
      ]
    },
    {
      "cell_type": "code",
      "source": [
        "lr.score(x_test,y_test)"
      ],
      "metadata": {
        "colab": {
          "base_uri": "https://localhost:8080/"
        },
        "id": "1fPVWuDyeD8M",
        "outputId": "772507e2-bd75-4ca4-a062-c87a53c9dfde"
      },
      "execution_count": null,
      "outputs": [
        {
          "output_type": "execute_result",
          "data": {
            "text/plain": [
              "0.669263836646964"
            ]
          },
          "metadata": {},
          "execution_count": 713
        }
      ]
    },
    {
      "cell_type": "code",
      "source": [
        "# create KNN (K neigherst Neibour classification)\n",
        "\n",
        "from sklearn.neighbors import KNeighborsClassifier\n",
        "knn = KNeighborsClassifier(n_neighbors=10)\n",
        "knn.fit(x_train,y_train)"
      ],
      "metadata": {
        "colab": {
          "base_uri": "https://localhost:8080/",
          "height": 75
        },
        "id": "phdAfrhGeoot",
        "outputId": "b0a1c1c0-d39f-4d6f-b4e1-ff24426269a2"
      },
      "execution_count": null,
      "outputs": [
        {
          "output_type": "execute_result",
          "data": {
            "text/plain": [
              "KNeighborsClassifier(n_neighbors=10)"
            ],
            "text/html": [
              "<style>#sk-container-id-3 {color: black;background-color: white;}#sk-container-id-3 pre{padding: 0;}#sk-container-id-3 div.sk-toggleable {background-color: white;}#sk-container-id-3 label.sk-toggleable__label {cursor: pointer;display: block;width: 100%;margin-bottom: 0;padding: 0.3em;box-sizing: border-box;text-align: center;}#sk-container-id-3 label.sk-toggleable__label-arrow:before {content: \"▸\";float: left;margin-right: 0.25em;color: #696969;}#sk-container-id-3 label.sk-toggleable__label-arrow:hover:before {color: black;}#sk-container-id-3 div.sk-estimator:hover label.sk-toggleable__label-arrow:before {color: black;}#sk-container-id-3 div.sk-toggleable__content {max-height: 0;max-width: 0;overflow: hidden;text-align: left;background-color: #f0f8ff;}#sk-container-id-3 div.sk-toggleable__content pre {margin: 0.2em;color: black;border-radius: 0.25em;background-color: #f0f8ff;}#sk-container-id-3 input.sk-toggleable__control:checked~div.sk-toggleable__content {max-height: 200px;max-width: 100%;overflow: auto;}#sk-container-id-3 input.sk-toggleable__control:checked~label.sk-toggleable__label-arrow:before {content: \"▾\";}#sk-container-id-3 div.sk-estimator input.sk-toggleable__control:checked~label.sk-toggleable__label {background-color: #d4ebff;}#sk-container-id-3 div.sk-label input.sk-toggleable__control:checked~label.sk-toggleable__label {background-color: #d4ebff;}#sk-container-id-3 input.sk-hidden--visually {border: 0;clip: rect(1px 1px 1px 1px);clip: rect(1px, 1px, 1px, 1px);height: 1px;margin: -1px;overflow: hidden;padding: 0;position: absolute;width: 1px;}#sk-container-id-3 div.sk-estimator {font-family: monospace;background-color: #f0f8ff;border: 1px dotted black;border-radius: 0.25em;box-sizing: border-box;margin-bottom: 0.5em;}#sk-container-id-3 div.sk-estimator:hover {background-color: #d4ebff;}#sk-container-id-3 div.sk-parallel-item::after {content: \"\";width: 100%;border-bottom: 1px solid gray;flex-grow: 1;}#sk-container-id-3 div.sk-label:hover label.sk-toggleable__label {background-color: #d4ebff;}#sk-container-id-3 div.sk-serial::before {content: \"\";position: absolute;border-left: 1px solid gray;box-sizing: border-box;top: 0;bottom: 0;left: 50%;z-index: 0;}#sk-container-id-3 div.sk-serial {display: flex;flex-direction: column;align-items: center;background-color: white;padding-right: 0.2em;padding-left: 0.2em;position: relative;}#sk-container-id-3 div.sk-item {position: relative;z-index: 1;}#sk-container-id-3 div.sk-parallel {display: flex;align-items: stretch;justify-content: center;background-color: white;position: relative;}#sk-container-id-3 div.sk-item::before, #sk-container-id-3 div.sk-parallel-item::before {content: \"\";position: absolute;border-left: 1px solid gray;box-sizing: border-box;top: 0;bottom: 0;left: 50%;z-index: -1;}#sk-container-id-3 div.sk-parallel-item {display: flex;flex-direction: column;z-index: 1;position: relative;background-color: white;}#sk-container-id-3 div.sk-parallel-item:first-child::after {align-self: flex-end;width: 50%;}#sk-container-id-3 div.sk-parallel-item:last-child::after {align-self: flex-start;width: 50%;}#sk-container-id-3 div.sk-parallel-item:only-child::after {width: 0;}#sk-container-id-3 div.sk-dashed-wrapped {border: 1px dashed gray;margin: 0 0.4em 0.5em 0.4em;box-sizing: border-box;padding-bottom: 0.4em;background-color: white;}#sk-container-id-3 div.sk-label label {font-family: monospace;font-weight: bold;display: inline-block;line-height: 1.2em;}#sk-container-id-3 div.sk-label-container {text-align: center;}#sk-container-id-3 div.sk-container {/* jupyter's `normalize.less` sets `[hidden] { display: none; }` but bootstrap.min.css set `[hidden] { display: none !important; }` so we also need the `!important` here to be able to override the default hidden behavior on the sphinx rendered scikit-learn.org. See: https://github.com/scikit-learn/scikit-learn/issues/21755 */display: inline-block !important;position: relative;}#sk-container-id-3 div.sk-text-repr-fallback {display: none;}</style><div id=\"sk-container-id-3\" class=\"sk-top-container\"><div class=\"sk-text-repr-fallback\"><pre>KNeighborsClassifier(n_neighbors=10)</pre><b>In a Jupyter environment, please rerun this cell to show the HTML representation or trust the notebook. <br />On GitHub, the HTML representation is unable to render, please try loading this page with nbviewer.org.</b></div><div class=\"sk-container\" hidden><div class=\"sk-item\"><div class=\"sk-estimator sk-toggleable\"><input class=\"sk-toggleable__control sk-hidden--visually\" id=\"sk-estimator-id-3\" type=\"checkbox\" checked><label for=\"sk-estimator-id-3\" class=\"sk-toggleable__label sk-toggleable__label-arrow\">KNeighborsClassifier</label><div class=\"sk-toggleable__content\"><pre>KNeighborsClassifier(n_neighbors=10)</pre></div></div></div></div></div>"
            ]
          },
          "metadata": {},
          "execution_count": 714
        }
      ]
    },
    {
      "cell_type": "code",
      "source": [
        "knn.score(x_test,y_test)"
      ],
      "metadata": {
        "colab": {
          "base_uri": "https://localhost:8080/"
        },
        "id": "NUik3akAewjR",
        "outputId": "13b4b083-59c4-4ca8-f88e-1dfffb28cf0a"
      },
      "execution_count": null,
      "outputs": [
        {
          "output_type": "execute_result",
          "data": {
            "text/plain": [
              "0.6351423965609887"
            ]
          },
          "metadata": {},
          "execution_count": 715
        }
      ]
    },
    {
      "cell_type": "code",
      "source": [
        "from sklearn.svm import SVC\n",
        "rbf_model = SVC(kernel=\"rbf\")\n",
        "rbf_model.fit(x_train,y_train)"
      ],
      "metadata": {
        "colab": {
          "base_uri": "https://localhost:8080/",
          "height": 75
        },
        "id": "jXGCmrAqezLx",
        "outputId": "e4b9f2a3-43ae-455f-b5d4-b4b2be369e4a"
      },
      "execution_count": null,
      "outputs": [
        {
          "output_type": "execute_result",
          "data": {
            "text/plain": [
              "SVC()"
            ],
            "text/html": [
              "<style>#sk-container-id-4 {color: black;background-color: white;}#sk-container-id-4 pre{padding: 0;}#sk-container-id-4 div.sk-toggleable {background-color: white;}#sk-container-id-4 label.sk-toggleable__label {cursor: pointer;display: block;width: 100%;margin-bottom: 0;padding: 0.3em;box-sizing: border-box;text-align: center;}#sk-container-id-4 label.sk-toggleable__label-arrow:before {content: \"▸\";float: left;margin-right: 0.25em;color: #696969;}#sk-container-id-4 label.sk-toggleable__label-arrow:hover:before {color: black;}#sk-container-id-4 div.sk-estimator:hover label.sk-toggleable__label-arrow:before {color: black;}#sk-container-id-4 div.sk-toggleable__content {max-height: 0;max-width: 0;overflow: hidden;text-align: left;background-color: #f0f8ff;}#sk-container-id-4 div.sk-toggleable__content pre {margin: 0.2em;color: black;border-radius: 0.25em;background-color: #f0f8ff;}#sk-container-id-4 input.sk-toggleable__control:checked~div.sk-toggleable__content {max-height: 200px;max-width: 100%;overflow: auto;}#sk-container-id-4 input.sk-toggleable__control:checked~label.sk-toggleable__label-arrow:before {content: \"▾\";}#sk-container-id-4 div.sk-estimator input.sk-toggleable__control:checked~label.sk-toggleable__label {background-color: #d4ebff;}#sk-container-id-4 div.sk-label input.sk-toggleable__control:checked~label.sk-toggleable__label {background-color: #d4ebff;}#sk-container-id-4 input.sk-hidden--visually {border: 0;clip: rect(1px 1px 1px 1px);clip: rect(1px, 1px, 1px, 1px);height: 1px;margin: -1px;overflow: hidden;padding: 0;position: absolute;width: 1px;}#sk-container-id-4 div.sk-estimator {font-family: monospace;background-color: #f0f8ff;border: 1px dotted black;border-radius: 0.25em;box-sizing: border-box;margin-bottom: 0.5em;}#sk-container-id-4 div.sk-estimator:hover {background-color: #d4ebff;}#sk-container-id-4 div.sk-parallel-item::after {content: \"\";width: 100%;border-bottom: 1px solid gray;flex-grow: 1;}#sk-container-id-4 div.sk-label:hover label.sk-toggleable__label {background-color: #d4ebff;}#sk-container-id-4 div.sk-serial::before {content: \"\";position: absolute;border-left: 1px solid gray;box-sizing: border-box;top: 0;bottom: 0;left: 50%;z-index: 0;}#sk-container-id-4 div.sk-serial {display: flex;flex-direction: column;align-items: center;background-color: white;padding-right: 0.2em;padding-left: 0.2em;position: relative;}#sk-container-id-4 div.sk-item {position: relative;z-index: 1;}#sk-container-id-4 div.sk-parallel {display: flex;align-items: stretch;justify-content: center;background-color: white;position: relative;}#sk-container-id-4 div.sk-item::before, #sk-container-id-4 div.sk-parallel-item::before {content: \"\";position: absolute;border-left: 1px solid gray;box-sizing: border-box;top: 0;bottom: 0;left: 50%;z-index: -1;}#sk-container-id-4 div.sk-parallel-item {display: flex;flex-direction: column;z-index: 1;position: relative;background-color: white;}#sk-container-id-4 div.sk-parallel-item:first-child::after {align-self: flex-end;width: 50%;}#sk-container-id-4 div.sk-parallel-item:last-child::after {align-self: flex-start;width: 50%;}#sk-container-id-4 div.sk-parallel-item:only-child::after {width: 0;}#sk-container-id-4 div.sk-dashed-wrapped {border: 1px dashed gray;margin: 0 0.4em 0.5em 0.4em;box-sizing: border-box;padding-bottom: 0.4em;background-color: white;}#sk-container-id-4 div.sk-label label {font-family: monospace;font-weight: bold;display: inline-block;line-height: 1.2em;}#sk-container-id-4 div.sk-label-container {text-align: center;}#sk-container-id-4 div.sk-container {/* jupyter's `normalize.less` sets `[hidden] { display: none; }` but bootstrap.min.css set `[hidden] { display: none !important; }` so we also need the `!important` here to be able to override the default hidden behavior on the sphinx rendered scikit-learn.org. See: https://github.com/scikit-learn/scikit-learn/issues/21755 */display: inline-block !important;position: relative;}#sk-container-id-4 div.sk-text-repr-fallback {display: none;}</style><div id=\"sk-container-id-4\" class=\"sk-top-container\"><div class=\"sk-text-repr-fallback\"><pre>SVC()</pre><b>In a Jupyter environment, please rerun this cell to show the HTML representation or trust the notebook. <br />On GitHub, the HTML representation is unable to render, please try loading this page with nbviewer.org.</b></div><div class=\"sk-container\" hidden><div class=\"sk-item\"><div class=\"sk-estimator sk-toggleable\"><input class=\"sk-toggleable__control sk-hidden--visually\" id=\"sk-estimator-id-4\" type=\"checkbox\" checked><label for=\"sk-estimator-id-4\" class=\"sk-toggleable__label sk-toggleable__label-arrow\">SVC</label><div class=\"sk-toggleable__content\"><pre>SVC()</pre></div></div></div></div></div>"
            ]
          },
          "metadata": {},
          "execution_count": 716
        }
      ]
    },
    {
      "cell_type": "code",
      "source": [
        "rbf_model.score(x_test,y_test)"
      ],
      "metadata": {
        "colab": {
          "base_uri": "https://localhost:8080/"
        },
        "id": "7V_otD9We7v1",
        "outputId": "5fc1b659-a0ac-41ed-ec3d-7fa13a396f3e"
      },
      "execution_count": null,
      "outputs": [
        {
          "output_type": "execute_result",
          "data": {
            "text/plain": [
              "0.6523374529822676"
            ]
          },
          "metadata": {},
          "execution_count": 718
        }
      ]
    },
    {
      "cell_type": "code",
      "source": [
        "from sklearn.ensemble import RandomForestClassifier\n",
        "rdf = RandomForestClassifier()\n",
        "rdf.fit(x_train,y_train)"
      ],
      "metadata": {
        "colab": {
          "base_uri": "https://localhost:8080/",
          "height": 75
        },
        "id": "LM39CKwoe-zy",
        "outputId": "7dec5362-3cc2-47ff-a0f9-c85b4841955e"
      },
      "execution_count": null,
      "outputs": [
        {
          "output_type": "execute_result",
          "data": {
            "text/plain": [
              "RandomForestClassifier()"
            ],
            "text/html": [
              "<style>#sk-container-id-5 {color: black;background-color: white;}#sk-container-id-5 pre{padding: 0;}#sk-container-id-5 div.sk-toggleable {background-color: white;}#sk-container-id-5 label.sk-toggleable__label {cursor: pointer;display: block;width: 100%;margin-bottom: 0;padding: 0.3em;box-sizing: border-box;text-align: center;}#sk-container-id-5 label.sk-toggleable__label-arrow:before {content: \"▸\";float: left;margin-right: 0.25em;color: #696969;}#sk-container-id-5 label.sk-toggleable__label-arrow:hover:before {color: black;}#sk-container-id-5 div.sk-estimator:hover label.sk-toggleable__label-arrow:before {color: black;}#sk-container-id-5 div.sk-toggleable__content {max-height: 0;max-width: 0;overflow: hidden;text-align: left;background-color: #f0f8ff;}#sk-container-id-5 div.sk-toggleable__content pre {margin: 0.2em;color: black;border-radius: 0.25em;background-color: #f0f8ff;}#sk-container-id-5 input.sk-toggleable__control:checked~div.sk-toggleable__content {max-height: 200px;max-width: 100%;overflow: auto;}#sk-container-id-5 input.sk-toggleable__control:checked~label.sk-toggleable__label-arrow:before {content: \"▾\";}#sk-container-id-5 div.sk-estimator input.sk-toggleable__control:checked~label.sk-toggleable__label {background-color: #d4ebff;}#sk-container-id-5 div.sk-label input.sk-toggleable__control:checked~label.sk-toggleable__label {background-color: #d4ebff;}#sk-container-id-5 input.sk-hidden--visually {border: 0;clip: rect(1px 1px 1px 1px);clip: rect(1px, 1px, 1px, 1px);height: 1px;margin: -1px;overflow: hidden;padding: 0;position: absolute;width: 1px;}#sk-container-id-5 div.sk-estimator {font-family: monospace;background-color: #f0f8ff;border: 1px dotted black;border-radius: 0.25em;box-sizing: border-box;margin-bottom: 0.5em;}#sk-container-id-5 div.sk-estimator:hover {background-color: #d4ebff;}#sk-container-id-5 div.sk-parallel-item::after {content: \"\";width: 100%;border-bottom: 1px solid gray;flex-grow: 1;}#sk-container-id-5 div.sk-label:hover label.sk-toggleable__label {background-color: #d4ebff;}#sk-container-id-5 div.sk-serial::before {content: \"\";position: absolute;border-left: 1px solid gray;box-sizing: border-box;top: 0;bottom: 0;left: 50%;z-index: 0;}#sk-container-id-5 div.sk-serial {display: flex;flex-direction: column;align-items: center;background-color: white;padding-right: 0.2em;padding-left: 0.2em;position: relative;}#sk-container-id-5 div.sk-item {position: relative;z-index: 1;}#sk-container-id-5 div.sk-parallel {display: flex;align-items: stretch;justify-content: center;background-color: white;position: relative;}#sk-container-id-5 div.sk-item::before, #sk-container-id-5 div.sk-parallel-item::before {content: \"\";position: absolute;border-left: 1px solid gray;box-sizing: border-box;top: 0;bottom: 0;left: 50%;z-index: -1;}#sk-container-id-5 div.sk-parallel-item {display: flex;flex-direction: column;z-index: 1;position: relative;background-color: white;}#sk-container-id-5 div.sk-parallel-item:first-child::after {align-self: flex-end;width: 50%;}#sk-container-id-5 div.sk-parallel-item:last-child::after {align-self: flex-start;width: 50%;}#sk-container-id-5 div.sk-parallel-item:only-child::after {width: 0;}#sk-container-id-5 div.sk-dashed-wrapped {border: 1px dashed gray;margin: 0 0.4em 0.5em 0.4em;box-sizing: border-box;padding-bottom: 0.4em;background-color: white;}#sk-container-id-5 div.sk-label label {font-family: monospace;font-weight: bold;display: inline-block;line-height: 1.2em;}#sk-container-id-5 div.sk-label-container {text-align: center;}#sk-container-id-5 div.sk-container {/* jupyter's `normalize.less` sets `[hidden] { display: none; }` but bootstrap.min.css set `[hidden] { display: none !important; }` so we also need the `!important` here to be able to override the default hidden behavior on the sphinx rendered scikit-learn.org. See: https://github.com/scikit-learn/scikit-learn/issues/21755 */display: inline-block !important;position: relative;}#sk-container-id-5 div.sk-text-repr-fallback {display: none;}</style><div id=\"sk-container-id-5\" class=\"sk-top-container\"><div class=\"sk-text-repr-fallback\"><pre>RandomForestClassifier()</pre><b>In a Jupyter environment, please rerun this cell to show the HTML representation or trust the notebook. <br />On GitHub, the HTML representation is unable to render, please try loading this page with nbviewer.org.</b></div><div class=\"sk-container\" hidden><div class=\"sk-item\"><div class=\"sk-estimator sk-toggleable\"><input class=\"sk-toggleable__control sk-hidden--visually\" id=\"sk-estimator-id-5\" type=\"checkbox\" checked><label for=\"sk-estimator-id-5\" class=\"sk-toggleable__label sk-toggleable__label-arrow\">RandomForestClassifier</label><div class=\"sk-toggleable__content\"><pre>RandomForestClassifier()</pre></div></div></div></div></div>"
            ]
          },
          "metadata": {},
          "execution_count": 719
        }
      ]
    },
    {
      "cell_type": "code",
      "source": [
        "rdf.score(x_test,y_test)"
      ],
      "metadata": {
        "colab": {
          "base_uri": "https://localhost:8080/"
        },
        "id": "dWlfbnAPfHiq",
        "outputId": "ad8bf74b-3cf1-4f90-eee3-e7d269ca1f65"
      },
      "execution_count": null,
      "outputs": [
        {
          "output_type": "execute_result",
          "data": {
            "text/plain": [
              "0.6560988715744224"
            ]
          },
          "metadata": {},
          "execution_count": 720
        }
      ]
    },
    {
      "cell_type": "code",
      "source": [
        "from sklearn import tree\n",
        "dtree = tree.DecisionTreeClassifier()\n",
        "dtree.fit(x_train,y_train)"
      ],
      "metadata": {
        "colab": {
          "base_uri": "https://localhost:8080/",
          "height": 75
        },
        "id": "pwyn-SOpfVeh",
        "outputId": "f242bee0-6ebd-440a-f042-3dca12ecdd87"
      },
      "execution_count": null,
      "outputs": [
        {
          "output_type": "execute_result",
          "data": {
            "text/plain": [
              "DecisionTreeClassifier()"
            ],
            "text/html": [
              "<style>#sk-container-id-6 {color: black;background-color: white;}#sk-container-id-6 pre{padding: 0;}#sk-container-id-6 div.sk-toggleable {background-color: white;}#sk-container-id-6 label.sk-toggleable__label {cursor: pointer;display: block;width: 100%;margin-bottom: 0;padding: 0.3em;box-sizing: border-box;text-align: center;}#sk-container-id-6 label.sk-toggleable__label-arrow:before {content: \"▸\";float: left;margin-right: 0.25em;color: #696969;}#sk-container-id-6 label.sk-toggleable__label-arrow:hover:before {color: black;}#sk-container-id-6 div.sk-estimator:hover label.sk-toggleable__label-arrow:before {color: black;}#sk-container-id-6 div.sk-toggleable__content {max-height: 0;max-width: 0;overflow: hidden;text-align: left;background-color: #f0f8ff;}#sk-container-id-6 div.sk-toggleable__content pre {margin: 0.2em;color: black;border-radius: 0.25em;background-color: #f0f8ff;}#sk-container-id-6 input.sk-toggleable__control:checked~div.sk-toggleable__content {max-height: 200px;max-width: 100%;overflow: auto;}#sk-container-id-6 input.sk-toggleable__control:checked~label.sk-toggleable__label-arrow:before {content: \"▾\";}#sk-container-id-6 div.sk-estimator input.sk-toggleable__control:checked~label.sk-toggleable__label {background-color: #d4ebff;}#sk-container-id-6 div.sk-label input.sk-toggleable__control:checked~label.sk-toggleable__label {background-color: #d4ebff;}#sk-container-id-6 input.sk-hidden--visually {border: 0;clip: rect(1px 1px 1px 1px);clip: rect(1px, 1px, 1px, 1px);height: 1px;margin: -1px;overflow: hidden;padding: 0;position: absolute;width: 1px;}#sk-container-id-6 div.sk-estimator {font-family: monospace;background-color: #f0f8ff;border: 1px dotted black;border-radius: 0.25em;box-sizing: border-box;margin-bottom: 0.5em;}#sk-container-id-6 div.sk-estimator:hover {background-color: #d4ebff;}#sk-container-id-6 div.sk-parallel-item::after {content: \"\";width: 100%;border-bottom: 1px solid gray;flex-grow: 1;}#sk-container-id-6 div.sk-label:hover label.sk-toggleable__label {background-color: #d4ebff;}#sk-container-id-6 div.sk-serial::before {content: \"\";position: absolute;border-left: 1px solid gray;box-sizing: border-box;top: 0;bottom: 0;left: 50%;z-index: 0;}#sk-container-id-6 div.sk-serial {display: flex;flex-direction: column;align-items: center;background-color: white;padding-right: 0.2em;padding-left: 0.2em;position: relative;}#sk-container-id-6 div.sk-item {position: relative;z-index: 1;}#sk-container-id-6 div.sk-parallel {display: flex;align-items: stretch;justify-content: center;background-color: white;position: relative;}#sk-container-id-6 div.sk-item::before, #sk-container-id-6 div.sk-parallel-item::before {content: \"\";position: absolute;border-left: 1px solid gray;box-sizing: border-box;top: 0;bottom: 0;left: 50%;z-index: -1;}#sk-container-id-6 div.sk-parallel-item {display: flex;flex-direction: column;z-index: 1;position: relative;background-color: white;}#sk-container-id-6 div.sk-parallel-item:first-child::after {align-self: flex-end;width: 50%;}#sk-container-id-6 div.sk-parallel-item:last-child::after {align-self: flex-start;width: 50%;}#sk-container-id-6 div.sk-parallel-item:only-child::after {width: 0;}#sk-container-id-6 div.sk-dashed-wrapped {border: 1px dashed gray;margin: 0 0.4em 0.5em 0.4em;box-sizing: border-box;padding-bottom: 0.4em;background-color: white;}#sk-container-id-6 div.sk-label label {font-family: monospace;font-weight: bold;display: inline-block;line-height: 1.2em;}#sk-container-id-6 div.sk-label-container {text-align: center;}#sk-container-id-6 div.sk-container {/* jupyter's `normalize.less` sets `[hidden] { display: none; }` but bootstrap.min.css set `[hidden] { display: none !important; }` so we also need the `!important` here to be able to override the default hidden behavior on the sphinx rendered scikit-learn.org. See: https://github.com/scikit-learn/scikit-learn/issues/21755 */display: inline-block !important;position: relative;}#sk-container-id-6 div.sk-text-repr-fallback {display: none;}</style><div id=\"sk-container-id-6\" class=\"sk-top-container\"><div class=\"sk-text-repr-fallback\"><pre>DecisionTreeClassifier()</pre><b>In a Jupyter environment, please rerun this cell to show the HTML representation or trust the notebook. <br />On GitHub, the HTML representation is unable to render, please try loading this page with nbviewer.org.</b></div><div class=\"sk-container\" hidden><div class=\"sk-item\"><div class=\"sk-estimator sk-toggleable\"><input class=\"sk-toggleable__control sk-hidden--visually\" id=\"sk-estimator-id-6\" type=\"checkbox\" checked><label for=\"sk-estimator-id-6\" class=\"sk-toggleable__label sk-toggleable__label-arrow\">DecisionTreeClassifier</label><div class=\"sk-toggleable__content\"><pre>DecisionTreeClassifier()</pre></div></div></div></div></div>"
            ]
          },
          "metadata": {},
          "execution_count": 721
        }
      ]
    },
    {
      "cell_type": "code",
      "source": [
        "dtree.score(x_test,y_test)"
      ],
      "metadata": {
        "colab": {
          "base_uri": "https://localhost:8080/"
        },
        "id": "2dk7ittdfpED",
        "outputId": "054b111b-a1b0-4b74-e8a4-6e9131d20d8a"
      },
      "execution_count": null,
      "outputs": [
        {
          "output_type": "execute_result",
          "data": {
            "text/plain": [
              "0.5969908651262762"
            ]
          },
          "metadata": {},
          "execution_count": 722
        }
      ]
    },
    {
      "cell_type": "code",
      "source": [
        "df.columns"
      ],
      "metadata": {
        "colab": {
          "base_uri": "https://localhost:8080/"
        },
        "id": "7zfK5oKqfrRL",
        "outputId": "a1bf5d3a-72ba-4114-840d-b83bfc4302c4"
      },
      "execution_count": null,
      "outputs": [
        {
          "output_type": "execute_result",
          "data": {
            "text/plain": [
              "Index(['Engine rpm', 'Lub oil pressure', 'Fuel pressure', 'Coolant pressure',\n",
              "       'lub oil temp', 'Coolant temp', 'Engine Condition'],\n",
              "      dtype='object')"
            ]
          },
          "metadata": {},
          "execution_count": 724
        }
      ]
    },
    {
      "cell_type": "code",
      "source": [
        "df[\"Engine Condition\"].unique()"
      ],
      "metadata": {
        "colab": {
          "base_uri": "https://localhost:8080/"
        },
        "id": "f0n7cDm4grfb",
        "outputId": "5dda339a-2ddf-4cd1-82b5-09af79a7ca1f"
      },
      "execution_count": null,
      "outputs": [
        {
          "output_type": "execute_result",
          "data": {
            "text/plain": [
              "array([1, 0])"
            ]
          },
          "metadata": {},
          "execution_count": 726
        }
      ]
    },
    {
      "cell_type": "code",
      "source": [
        "\n",
        "a=float(input(\"Engine rpm :\"))\n",
        "b=float(input(\"Lub oil pressure :\"))\n",
        "c=float(input(\"Fuel pressure :\"))\n",
        "d=float(input(\"Coolant pressure :\"))\n",
        "e=float(input(\"lub oil temp :\"))\n",
        "f=float(input(\"Coolant temp :\"))\n",
        "\n",
        "d_f=pd.DataFrame({\"Engine rpm\":[a],\n",
        "                 \"Lub oil pressure\":[b],\n",
        "                 \"Fuel pressure\":[c],\n",
        "                 \"Coolant pressure\":[d],\n",
        "                 \"lub oil temp\":[e],\n",
        "                 \"Coolant temp\":[f]})\n",
        "d_f"
      ],
      "metadata": {
        "colab": {
          "base_uri": "https://localhost:8080/",
          "height": 185
        },
        "id": "pT03sx_zfyGA",
        "outputId": "2250c29d-0f07-4b26-c63f-05c41873a7a9"
      },
      "execution_count": null,
      "outputs": [
        {
          "name": "stdout",
          "output_type": "stream",
          "text": [
            "Engine rpm :520\n",
            "Lub oil pressure :2.9625\n",
            "Fuel pressure :6.5698\n",
            "Coolant pressure :1.0687\n",
            "lub oil temp :77.752144\n",
            "Coolant temp :79.64852\n"
          ]
        },
        {
          "output_type": "execute_result",
          "data": {
            "text/plain": [
              "   Engine rpm  Lub oil pressure  Fuel pressure  Coolant pressure  \\\n",
              "0       520.0            2.9625         6.5698            1.0687   \n",
              "\n",
              "   lub oil temp  Coolant temp  \n",
              "0     77.752144      79.64852  "
            ],
            "text/html": [
              "\n",
              "  <div id=\"df-5aa28914-3fe8-43c4-b940-3206c28ae54c\">\n",
              "    <div class=\"colab-df-container\">\n",
              "      <div>\n",
              "<style scoped>\n",
              "    .dataframe tbody tr th:only-of-type {\n",
              "        vertical-align: middle;\n",
              "    }\n",
              "\n",
              "    .dataframe tbody tr th {\n",
              "        vertical-align: top;\n",
              "    }\n",
              "\n",
              "    .dataframe thead th {\n",
              "        text-align: right;\n",
              "    }\n",
              "</style>\n",
              "<table border=\"1\" class=\"dataframe\">\n",
              "  <thead>\n",
              "    <tr style=\"text-align: right;\">\n",
              "      <th></th>\n",
              "      <th>Engine rpm</th>\n",
              "      <th>Lub oil pressure</th>\n",
              "      <th>Fuel pressure</th>\n",
              "      <th>Coolant pressure</th>\n",
              "      <th>lub oil temp</th>\n",
              "      <th>Coolant temp</th>\n",
              "    </tr>\n",
              "  </thead>\n",
              "  <tbody>\n",
              "    <tr>\n",
              "      <th>0</th>\n",
              "      <td>520.0</td>\n",
              "      <td>2.9625</td>\n",
              "      <td>6.5698</td>\n",
              "      <td>1.0687</td>\n",
              "      <td>77.752144</td>\n",
              "      <td>79.64852</td>\n",
              "    </tr>\n",
              "  </tbody>\n",
              "</table>\n",
              "</div>\n",
              "      <button class=\"colab-df-convert\" onclick=\"convertToInteractive('df-5aa28914-3fe8-43c4-b940-3206c28ae54c')\"\n",
              "              title=\"Convert this dataframe to an interactive table.\"\n",
              "              style=\"display:none;\">\n",
              "        \n",
              "  <svg xmlns=\"http://www.w3.org/2000/svg\" height=\"24px\"viewBox=\"0 0 24 24\"\n",
              "       width=\"24px\">\n",
              "    <path d=\"M0 0h24v24H0V0z\" fill=\"none\"/>\n",
              "    <path d=\"M18.56 5.44l.94 2.06.94-2.06 2.06-.94-2.06-.94-.94-2.06-.94 2.06-2.06.94zm-11 1L8.5 8.5l.94-2.06 2.06-.94-2.06-.94L8.5 2.5l-.94 2.06-2.06.94zm10 10l.94 2.06.94-2.06 2.06-.94-2.06-.94-.94-2.06-.94 2.06-2.06.94z\"/><path d=\"M17.41 7.96l-1.37-1.37c-.4-.4-.92-.59-1.43-.59-.52 0-1.04.2-1.43.59L10.3 9.45l-7.72 7.72c-.78.78-.78 2.05 0 2.83L4 21.41c.39.39.9.59 1.41.59.51 0 1.02-.2 1.41-.59l7.78-7.78 2.81-2.81c.8-.78.8-2.07 0-2.86zM5.41 20L4 18.59l7.72-7.72 1.47 1.35L5.41 20z\"/>\n",
              "  </svg>\n",
              "      </button>\n",
              "      \n",
              "  <style>\n",
              "    .colab-df-container {\n",
              "      display:flex;\n",
              "      flex-wrap:wrap;\n",
              "      gap: 12px;\n",
              "    }\n",
              "\n",
              "    .colab-df-convert {\n",
              "      background-color: #E8F0FE;\n",
              "      border: none;\n",
              "      border-radius: 50%;\n",
              "      cursor: pointer;\n",
              "      display: none;\n",
              "      fill: #1967D2;\n",
              "      height: 32px;\n",
              "      padding: 0 0 0 0;\n",
              "      width: 32px;\n",
              "    }\n",
              "\n",
              "    .colab-df-convert:hover {\n",
              "      background-color: #E2EBFA;\n",
              "      box-shadow: 0px 1px 2px rgba(60, 64, 67, 0.3), 0px 1px 3px 1px rgba(60, 64, 67, 0.15);\n",
              "      fill: #174EA6;\n",
              "    }\n",
              "\n",
              "    [theme=dark] .colab-df-convert {\n",
              "      background-color: #3B4455;\n",
              "      fill: #D2E3FC;\n",
              "    }\n",
              "\n",
              "    [theme=dark] .colab-df-convert:hover {\n",
              "      background-color: #434B5C;\n",
              "      box-shadow: 0px 1px 3px 1px rgba(0, 0, 0, 0.15);\n",
              "      filter: drop-shadow(0px 1px 2px rgba(0, 0, 0, 0.3));\n",
              "      fill: #FFFFFF;\n",
              "    }\n",
              "  </style>\n",
              "\n",
              "      <script>\n",
              "        const buttonEl =\n",
              "          document.querySelector('#df-5aa28914-3fe8-43c4-b940-3206c28ae54c button.colab-df-convert');\n",
              "        buttonEl.style.display =\n",
              "          google.colab.kernel.accessAllowed ? 'block' : 'none';\n",
              "\n",
              "        async function convertToInteractive(key) {\n",
              "          const element = document.querySelector('#df-5aa28914-3fe8-43c4-b940-3206c28ae54c');\n",
              "          const dataTable =\n",
              "            await google.colab.kernel.invokeFunction('convertToInteractive',\n",
              "                                                     [key], {});\n",
              "          if (!dataTable) return;\n",
              "\n",
              "          const docLinkHtml = 'Like what you see? Visit the ' +\n",
              "            '<a target=\"_blank\" href=https://colab.research.google.com/notebooks/data_table.ipynb>data table notebook</a>'\n",
              "            + ' to learn more about interactive tables.';\n",
              "          element.innerHTML = '';\n",
              "          dataTable['output_type'] = 'display_data';\n",
              "          await google.colab.output.renderOutput(dataTable, element);\n",
              "          const docLink = document.createElement('div');\n",
              "          docLink.innerHTML = docLinkHtml;\n",
              "          element.appendChild(docLink);\n",
              "        }\n",
              "      </script>\n",
              "    </div>\n",
              "  </div>\n",
              "  "
            ]
          },
          "metadata": {},
          "execution_count": 748
        }
      ]
    },
    {
      "cell_type": "code",
      "source": [
        "x = rdf.predict(d_f)\n",
        "if x == 0:\n",
        "  print(\"bad condition\")\n",
        "else :\n",
        "  print(\"good condition\")"
      ],
      "metadata": {
        "colab": {
          "base_uri": "https://localhost:8080/"
        },
        "id": "PPXCaU1jgTTq",
        "outputId": "7ffc41f5-5ca2-49ce-ea8b-ec9a882098b6"
      },
      "execution_count": null,
      "outputs": [
        {
          "output_type": "stream",
          "name": "stdout",
          "text": [
            "good condition\n"
          ]
        }
      ]
    },
    {
      "cell_type": "code",
      "source": [
        "w =rdf.predict(x_test)\n",
        "w"
      ],
      "metadata": {
        "colab": {
          "base_uri": "https://localhost:8080/"
        },
        "id": "cx-uKqFPjnp4",
        "outputId": "49fc0f42-2bab-4266-be3b-fe3ad55e7a8c"
      },
      "execution_count": null,
      "outputs": [
        {
          "output_type": "execute_result",
          "data": {
            "text/plain": [
              "array([0, 0, 1, ..., 1, 1, 1])"
            ]
          },
          "metadata": {},
          "execution_count": 758
        }
      ]
    },
    {
      "cell_type": "code",
      "source": [
        "type(x_test)\n"
      ],
      "metadata": {
        "colab": {
          "base_uri": "https://localhost:8080/"
        },
        "id": "hXaXDBtNg834",
        "outputId": "5b44cc48-cb04-4f00-8721-71efe2501302"
      },
      "execution_count": null,
      "outputs": [
        {
          "output_type": "execute_result",
          "data": {
            "text/plain": [
              "pandas.core.frame.DataFrame"
            ]
          },
          "metadata": {},
          "execution_count": 750
        }
      ]
    },
    {
      "cell_type": "code",
      "source": [
        "type(d_f)"
      ],
      "metadata": {
        "colab": {
          "base_uri": "https://localhost:8080/"
        },
        "id": "MfsyY685iL4j",
        "outputId": "d9deffca-b0de-4db6-8d91-60dc635288d5"
      },
      "execution_count": null,
      "outputs": [
        {
          "output_type": "execute_result",
          "data": {
            "text/plain": [
              "pandas.core.frame.DataFrame"
            ]
          },
          "metadata": {},
          "execution_count": 751
        }
      ]
    },
    {
      "cell_type": "code",
      "source": [
        "from sklearn.metrics import classification_report"
      ],
      "metadata": {
        "id": "6a4Fa5t2nYdb"
      },
      "execution_count": null,
      "outputs": []
    },
    {
      "cell_type": "code",
      "source": [
        "print(classification_report(y_test,w))"
      ],
      "metadata": {
        "colab": {
          "base_uri": "https://localhost:8080/"
        },
        "id": "X-s2sCVui9hS",
        "outputId": "95c0c716-c92c-4846-ebdb-9071e7660141"
      },
      "execution_count": null,
      "outputs": [
        {
          "output_type": "stream",
          "name": "stdout",
          "text": [
            "              precision    recall  f1-score   support\n",
            "\n",
            "           0       0.52      0.34      0.41      1307\n",
            "           1       0.70      0.83      0.76      2415\n",
            "\n",
            "    accuracy                           0.66      3722\n",
            "   macro avg       0.61      0.58      0.58      3722\n",
            "weighted avg       0.63      0.66      0.63      3722\n",
            "\n"
          ]
        }
      ]
    },
    {
      "cell_type": "code",
      "source": [],
      "metadata": {
        "id": "0cBSwL9XnZwS"
      },
      "execution_count": null,
      "outputs": []
    }
  ]
}